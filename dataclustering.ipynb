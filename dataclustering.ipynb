{
  "nbformat": 4,
  "nbformat_minor": 0,
  "metadata": {
    "colab": {
      "provenance": [],
      "collapsed_sections": [
        "XDyOge8JDDyd"
      ],
      "toc_visible": true,
      "authorship_tag": "ABX9TyMO0n5ESZnuHc3+NchQ1PJq",
      "include_colab_link": true
    },
    "kernelspec": {
      "name": "python3",
      "display_name": "Python 3"
    },
    "language_info": {
      "name": "python"
    }
  },
  "cells": [
    {
      "cell_type": "markdown",
      "metadata": {
        "id": "view-in-github",
        "colab_type": "text"
      },
      "source": [
        "<a href=\"https://colab.research.google.com/github/ABChaeeun/ITB_Project/blob/main/dataclustering.ipynb\" target=\"_parent\"><img src=\"https://colab.research.google.com/assets/colab-badge.svg\" alt=\"Open In Colab\"/></a>"
      ]
    },
    {
      "cell_type": "markdown",
      "source": [
        "## 1. 데이터 불러오기\n",
        "먼저 엑셀로 용산구 내의 대여소를 추출해 데이터를 일차적으로 전처리함.\n",
        "- 용산구 내 따릉이 대여소 : 800-870, 4602-4639\n",
        "- 서울 열린데이터 광장 사이트에서 [서울시 공공자전거 이용정보(월별)] 1-6월의 데이터를 다운받아 [대여소번호] 컬럼을 활용해 용산구 대여소를 필터링함.\n",
        "(https://data.seoul.go.kr/dataList/OA-15248/F/1/datasetView.do#)"
      ],
      "metadata": {
        "id": "Eo-0rjit0XTC"
      }
    },
    {
      "cell_type": "code",
      "source": [
        "import pandas as pd"
      ],
      "metadata": {
        "id": "rn_7MycEAAlJ"
      },
      "execution_count": 3,
      "outputs": []
    },
    {
      "cell_type": "code",
      "source": [
        "from google.colab import drive\n",
        "drive.mount('/content/drive')"
      ],
      "metadata": {
        "colab": {
          "base_uri": "https://localhost:8080/"
        },
        "id": "Hv2KPB0n47mg",
        "outputId": "c7fa0649-c461-44a2-81c5-690f99fd04cc"
      },
      "execution_count": 4,
      "outputs": [
        {
          "output_type": "stream",
          "name": "stdout",
          "text": [
            "Mounted at /content/drive\n"
          ]
        }
      ]
    },
    {
      "cell_type": "code",
      "source": [
        "import warnings\n",
        "warnings.filterwarnings(\"ignore\")"
      ],
      "metadata": {
        "id": "vhojWCyiTPCr"
      },
      "execution_count": 90,
      "outputs": []
    },
    {
      "cell_type": "code",
      "source": [
        "# 용산구 대여소의 1-6월 이용정보 데이터\n",
        "data = pd.read_csv('/content/drive/MyDrive/Colab Notebooks/ITB/hw/final_teamproject/따릉이_용산구 1-6월 이용정보.csv', encoding = 'cp949')\n",
        "data.head()"
      ],
      "metadata": {
        "colab": {
          "base_uri": "https://localhost:8080/",
          "height": 206
        },
        "id": "ocH_BlNjBQ_d",
        "outputId": "ee3b58c3-965b-4235-f1cf-7b5cc5f2a202"
      },
      "execution_count": 6,
      "outputs": [
        {
          "output_type": "execute_result",
          "data": {
            "text/plain": [
              "   대여일자  대여소번호         대여소명   대여구분코드  성별 연령대코드  이용건수      운동량   탄소량   이동거리(M)  \\\n",
              "0     1    800  800. 목월공원 앞       단체   M   40대     2   176.71  1.38   5949.60   \n",
              "1     1    800  800. 목월공원 앞  일일(비회원)  \\N    기타     2   120.28  1.08   4672.74   \n",
              "2     1    800  800. 목월공원 앞   일일(회원)  \\N   10대     6      535  4.34  18764.02   \n",
              "3     1    800  800. 목월공원 앞   일일(회원)  \\N   20대    14  1097.91  9.42  40631.75   \n",
              "4     1    800  800. 목월공원 앞   일일(회원)  \\N   30대     5   178.77  1.51   6497.15   \n",
              "\n",
              "   이용시간(분)  \n",
              "0      120  \n",
              "1       58  \n",
              "2      570  \n",
              "3      379  \n",
              "4      140  "
            ],
            "text/html": [
              "\n",
              "  <div id=\"df-5b95b872-fc0d-4b2e-9496-2eb7337d2bd0\">\n",
              "    <div class=\"colab-df-container\">\n",
              "      <div>\n",
              "<style scoped>\n",
              "    .dataframe tbody tr th:only-of-type {\n",
              "        vertical-align: middle;\n",
              "    }\n",
              "\n",
              "    .dataframe tbody tr th {\n",
              "        vertical-align: top;\n",
              "    }\n",
              "\n",
              "    .dataframe thead th {\n",
              "        text-align: right;\n",
              "    }\n",
              "</style>\n",
              "<table border=\"1\" class=\"dataframe\">\n",
              "  <thead>\n",
              "    <tr style=\"text-align: right;\">\n",
              "      <th></th>\n",
              "      <th>대여일자</th>\n",
              "      <th>대여소번호</th>\n",
              "      <th>대여소명</th>\n",
              "      <th>대여구분코드</th>\n",
              "      <th>성별</th>\n",
              "      <th>연령대코드</th>\n",
              "      <th>이용건수</th>\n",
              "      <th>운동량</th>\n",
              "      <th>탄소량</th>\n",
              "      <th>이동거리(M)</th>\n",
              "      <th>이용시간(분)</th>\n",
              "    </tr>\n",
              "  </thead>\n",
              "  <tbody>\n",
              "    <tr>\n",
              "      <th>0</th>\n",
              "      <td>1</td>\n",
              "      <td>800</td>\n",
              "      <td>800. 목월공원 앞</td>\n",
              "      <td>단체</td>\n",
              "      <td>M</td>\n",
              "      <td>40대</td>\n",
              "      <td>2</td>\n",
              "      <td>176.71</td>\n",
              "      <td>1.38</td>\n",
              "      <td>5949.60</td>\n",
              "      <td>120</td>\n",
              "    </tr>\n",
              "    <tr>\n",
              "      <th>1</th>\n",
              "      <td>1</td>\n",
              "      <td>800</td>\n",
              "      <td>800. 목월공원 앞</td>\n",
              "      <td>일일(비회원)</td>\n",
              "      <td>\\N</td>\n",
              "      <td>기타</td>\n",
              "      <td>2</td>\n",
              "      <td>120.28</td>\n",
              "      <td>1.08</td>\n",
              "      <td>4672.74</td>\n",
              "      <td>58</td>\n",
              "    </tr>\n",
              "    <tr>\n",
              "      <th>2</th>\n",
              "      <td>1</td>\n",
              "      <td>800</td>\n",
              "      <td>800. 목월공원 앞</td>\n",
              "      <td>일일(회원)</td>\n",
              "      <td>\\N</td>\n",
              "      <td>10대</td>\n",
              "      <td>6</td>\n",
              "      <td>535</td>\n",
              "      <td>4.34</td>\n",
              "      <td>18764.02</td>\n",
              "      <td>570</td>\n",
              "    </tr>\n",
              "    <tr>\n",
              "      <th>3</th>\n",
              "      <td>1</td>\n",
              "      <td>800</td>\n",
              "      <td>800. 목월공원 앞</td>\n",
              "      <td>일일(회원)</td>\n",
              "      <td>\\N</td>\n",
              "      <td>20대</td>\n",
              "      <td>14</td>\n",
              "      <td>1097.91</td>\n",
              "      <td>9.42</td>\n",
              "      <td>40631.75</td>\n",
              "      <td>379</td>\n",
              "    </tr>\n",
              "    <tr>\n",
              "      <th>4</th>\n",
              "      <td>1</td>\n",
              "      <td>800</td>\n",
              "      <td>800. 목월공원 앞</td>\n",
              "      <td>일일(회원)</td>\n",
              "      <td>\\N</td>\n",
              "      <td>30대</td>\n",
              "      <td>5</td>\n",
              "      <td>178.77</td>\n",
              "      <td>1.51</td>\n",
              "      <td>6497.15</td>\n",
              "      <td>140</td>\n",
              "    </tr>\n",
              "  </tbody>\n",
              "</table>\n",
              "</div>\n",
              "      <button class=\"colab-df-convert\" onclick=\"convertToInteractive('df-5b95b872-fc0d-4b2e-9496-2eb7337d2bd0')\"\n",
              "              title=\"Convert this dataframe to an interactive table.\"\n",
              "              style=\"display:none;\">\n",
              "        \n",
              "  <svg xmlns=\"http://www.w3.org/2000/svg\" height=\"24px\"viewBox=\"0 0 24 24\"\n",
              "       width=\"24px\">\n",
              "    <path d=\"M0 0h24v24H0V0z\" fill=\"none\"/>\n",
              "    <path d=\"M18.56 5.44l.94 2.06.94-2.06 2.06-.94-2.06-.94-.94-2.06-.94 2.06-2.06.94zm-11 1L8.5 8.5l.94-2.06 2.06-.94-2.06-.94L8.5 2.5l-.94 2.06-2.06.94zm10 10l.94 2.06.94-2.06 2.06-.94-2.06-.94-.94-2.06-.94 2.06-2.06.94z\"/><path d=\"M17.41 7.96l-1.37-1.37c-.4-.4-.92-.59-1.43-.59-.52 0-1.04.2-1.43.59L10.3 9.45l-7.72 7.72c-.78.78-.78 2.05 0 2.83L4 21.41c.39.39.9.59 1.41.59.51 0 1.02-.2 1.41-.59l7.78-7.78 2.81-2.81c.8-.78.8-2.07 0-2.86zM5.41 20L4 18.59l7.72-7.72 1.47 1.35L5.41 20z\"/>\n",
              "  </svg>\n",
              "      </button>\n",
              "      \n",
              "  <style>\n",
              "    .colab-df-container {\n",
              "      display:flex;\n",
              "      flex-wrap:wrap;\n",
              "      gap: 12px;\n",
              "    }\n",
              "\n",
              "    .colab-df-convert {\n",
              "      background-color: #E8F0FE;\n",
              "      border: none;\n",
              "      border-radius: 50%;\n",
              "      cursor: pointer;\n",
              "      display: none;\n",
              "      fill: #1967D2;\n",
              "      height: 32px;\n",
              "      padding: 0 0 0 0;\n",
              "      width: 32px;\n",
              "    }\n",
              "\n",
              "    .colab-df-convert:hover {\n",
              "      background-color: #E2EBFA;\n",
              "      box-shadow: 0px 1px 2px rgba(60, 64, 67, 0.3), 0px 1px 3px 1px rgba(60, 64, 67, 0.15);\n",
              "      fill: #174EA6;\n",
              "    }\n",
              "\n",
              "    [theme=dark] .colab-df-convert {\n",
              "      background-color: #3B4455;\n",
              "      fill: #D2E3FC;\n",
              "    }\n",
              "\n",
              "    [theme=dark] .colab-df-convert:hover {\n",
              "      background-color: #434B5C;\n",
              "      box-shadow: 0px 1px 3px 1px rgba(0, 0, 0, 0.15);\n",
              "      filter: drop-shadow(0px 1px 2px rgba(0, 0, 0, 0.3));\n",
              "      fill: #FFFFFF;\n",
              "    }\n",
              "  </style>\n",
              "\n",
              "      <script>\n",
              "        const buttonEl =\n",
              "          document.querySelector('#df-5b95b872-fc0d-4b2e-9496-2eb7337d2bd0 button.colab-df-convert');\n",
              "        buttonEl.style.display =\n",
              "          google.colab.kernel.accessAllowed ? 'block' : 'none';\n",
              "\n",
              "        async function convertToInteractive(key) {\n",
              "          const element = document.querySelector('#df-5b95b872-fc0d-4b2e-9496-2eb7337d2bd0');\n",
              "          const dataTable =\n",
              "            await google.colab.kernel.invokeFunction('convertToInteractive',\n",
              "                                                     [key], {});\n",
              "          if (!dataTable) return;\n",
              "\n",
              "          const docLinkHtml = 'Like what you see? Visit the ' +\n",
              "            '<a target=\"_blank\" href=https://colab.research.google.com/notebooks/data_table.ipynb>data table notebook</a>'\n",
              "            + ' to learn more about interactive tables.';\n",
              "          element.innerHTML = '';\n",
              "          dataTable['output_type'] = 'display_data';\n",
              "          await google.colab.output.renderOutput(dataTable, element);\n",
              "          const docLink = document.createElement('div');\n",
              "          docLink.innerHTML = docLinkHtml;\n",
              "          element.appendChild(docLink);\n",
              "        }\n",
              "      </script>\n",
              "    </div>\n",
              "  </div>\n",
              "  "
            ]
          },
          "metadata": {},
          "execution_count": 6
        }
      ]
    },
    {
      "cell_type": "code",
      "source": [
        "# 대여일자, 이동거리, 이용시간 컬럼명 바꾸기\n",
        "data = data.rename(columns = {'대여일자':'월'})\n",
        "data = data.rename(columns = {'이동거리(M)':'이동거리'})\n",
        "data = data.rename(columns = {'이용시간(분)':'이용시간'})"
      ],
      "metadata": {
        "id": "4aGYQ1dn4b_r"
      },
      "execution_count": 7,
      "outputs": []
    },
    {
      "cell_type": "code",
      "source": [
        "data"
      ],
      "metadata": {
        "colab": {
          "base_uri": "https://localhost:8080/",
          "height": 423
        },
        "id": "n1xvWvF19ztu",
        "outputId": "09536e82-cd96-4c46-d0a4-9f72e856bca5"
      },
      "execution_count": 8,
      "outputs": [
        {
          "output_type": "execute_result",
          "data": {
            "text/plain": [
              "       월  대여소번호           대여소명   대여구분코드  성별 연령대코드  이용건수      운동량    탄소량  \\\n",
              "0      1    800    800. 목월공원 앞       단체   M   40대     2   176.71   1.38   \n",
              "1      1    800    800. 목월공원 앞  일일(비회원)  \\N    기타     2   120.28   1.08   \n",
              "2      1    800    800. 목월공원 앞   일일(회원)  \\N   10대     6      535   4.34   \n",
              "3      1    800    800. 목월공원 앞   일일(회원)  \\N   20대    14  1097.91   9.42   \n",
              "4      1    800    800. 목월공원 앞   일일(회원)  \\N   30대     5   178.77   1.51   \n",
              "...   ..    ...            ...      ...  ..   ...   ...      ...    ...   \n",
              "22456  6   4639  4639. 동빙고근린공원       정기   M   30대     8   686.79   5.67   \n",
              "22457  6   4639  4639. 동빙고근린공원       정기   M   40대    15  2900.89  22.47   \n",
              "22458  6   4639  4639. 동빙고근린공원       정기   M   50대     9  1600.71  14.41   \n",
              "22459  6   4639  4639. 동빙고근린공원       정기   M   60대     1    37.39   0.32   \n",
              "22460  6   4639  4639. 동빙고근린공원       정기   M    기타     3   374.98   2.72   \n",
              "\n",
              "           이동거리  이용시간  \n",
              "0       5949.60   120  \n",
              "1       4672.74    58  \n",
              "2      18764.02   570  \n",
              "3      40631.75   379  \n",
              "4       6497.15   140  \n",
              "...         ...   ...  \n",
              "22456  24405.69   344  \n",
              "22457  96820.20   566  \n",
              "22458  62087.24   459  \n",
              "22459   1388.41     9  \n",
              "22460  11740.54   106  \n",
              "\n",
              "[22461 rows x 11 columns]"
            ],
            "text/html": [
              "\n",
              "  <div id=\"df-d5239a94-a106-413f-ad62-c61cdc6e1d68\">\n",
              "    <div class=\"colab-df-container\">\n",
              "      <div>\n",
              "<style scoped>\n",
              "    .dataframe tbody tr th:only-of-type {\n",
              "        vertical-align: middle;\n",
              "    }\n",
              "\n",
              "    .dataframe tbody tr th {\n",
              "        vertical-align: top;\n",
              "    }\n",
              "\n",
              "    .dataframe thead th {\n",
              "        text-align: right;\n",
              "    }\n",
              "</style>\n",
              "<table border=\"1\" class=\"dataframe\">\n",
              "  <thead>\n",
              "    <tr style=\"text-align: right;\">\n",
              "      <th></th>\n",
              "      <th>월</th>\n",
              "      <th>대여소번호</th>\n",
              "      <th>대여소명</th>\n",
              "      <th>대여구분코드</th>\n",
              "      <th>성별</th>\n",
              "      <th>연령대코드</th>\n",
              "      <th>이용건수</th>\n",
              "      <th>운동량</th>\n",
              "      <th>탄소량</th>\n",
              "      <th>이동거리</th>\n",
              "      <th>이용시간</th>\n",
              "    </tr>\n",
              "  </thead>\n",
              "  <tbody>\n",
              "    <tr>\n",
              "      <th>0</th>\n",
              "      <td>1</td>\n",
              "      <td>800</td>\n",
              "      <td>800. 목월공원 앞</td>\n",
              "      <td>단체</td>\n",
              "      <td>M</td>\n",
              "      <td>40대</td>\n",
              "      <td>2</td>\n",
              "      <td>176.71</td>\n",
              "      <td>1.38</td>\n",
              "      <td>5949.60</td>\n",
              "      <td>120</td>\n",
              "    </tr>\n",
              "    <tr>\n",
              "      <th>1</th>\n",
              "      <td>1</td>\n",
              "      <td>800</td>\n",
              "      <td>800. 목월공원 앞</td>\n",
              "      <td>일일(비회원)</td>\n",
              "      <td>\\N</td>\n",
              "      <td>기타</td>\n",
              "      <td>2</td>\n",
              "      <td>120.28</td>\n",
              "      <td>1.08</td>\n",
              "      <td>4672.74</td>\n",
              "      <td>58</td>\n",
              "    </tr>\n",
              "    <tr>\n",
              "      <th>2</th>\n",
              "      <td>1</td>\n",
              "      <td>800</td>\n",
              "      <td>800. 목월공원 앞</td>\n",
              "      <td>일일(회원)</td>\n",
              "      <td>\\N</td>\n",
              "      <td>10대</td>\n",
              "      <td>6</td>\n",
              "      <td>535</td>\n",
              "      <td>4.34</td>\n",
              "      <td>18764.02</td>\n",
              "      <td>570</td>\n",
              "    </tr>\n",
              "    <tr>\n",
              "      <th>3</th>\n",
              "      <td>1</td>\n",
              "      <td>800</td>\n",
              "      <td>800. 목월공원 앞</td>\n",
              "      <td>일일(회원)</td>\n",
              "      <td>\\N</td>\n",
              "      <td>20대</td>\n",
              "      <td>14</td>\n",
              "      <td>1097.91</td>\n",
              "      <td>9.42</td>\n",
              "      <td>40631.75</td>\n",
              "      <td>379</td>\n",
              "    </tr>\n",
              "    <tr>\n",
              "      <th>4</th>\n",
              "      <td>1</td>\n",
              "      <td>800</td>\n",
              "      <td>800. 목월공원 앞</td>\n",
              "      <td>일일(회원)</td>\n",
              "      <td>\\N</td>\n",
              "      <td>30대</td>\n",
              "      <td>5</td>\n",
              "      <td>178.77</td>\n",
              "      <td>1.51</td>\n",
              "      <td>6497.15</td>\n",
              "      <td>140</td>\n",
              "    </tr>\n",
              "    <tr>\n",
              "      <th>...</th>\n",
              "      <td>...</td>\n",
              "      <td>...</td>\n",
              "      <td>...</td>\n",
              "      <td>...</td>\n",
              "      <td>...</td>\n",
              "      <td>...</td>\n",
              "      <td>...</td>\n",
              "      <td>...</td>\n",
              "      <td>...</td>\n",
              "      <td>...</td>\n",
              "      <td>...</td>\n",
              "    </tr>\n",
              "    <tr>\n",
              "      <th>22456</th>\n",
              "      <td>6</td>\n",
              "      <td>4639</td>\n",
              "      <td>4639. 동빙고근린공원</td>\n",
              "      <td>정기</td>\n",
              "      <td>M</td>\n",
              "      <td>30대</td>\n",
              "      <td>8</td>\n",
              "      <td>686.79</td>\n",
              "      <td>5.67</td>\n",
              "      <td>24405.69</td>\n",
              "      <td>344</td>\n",
              "    </tr>\n",
              "    <tr>\n",
              "      <th>22457</th>\n",
              "      <td>6</td>\n",
              "      <td>4639</td>\n",
              "      <td>4639. 동빙고근린공원</td>\n",
              "      <td>정기</td>\n",
              "      <td>M</td>\n",
              "      <td>40대</td>\n",
              "      <td>15</td>\n",
              "      <td>2900.89</td>\n",
              "      <td>22.47</td>\n",
              "      <td>96820.20</td>\n",
              "      <td>566</td>\n",
              "    </tr>\n",
              "    <tr>\n",
              "      <th>22458</th>\n",
              "      <td>6</td>\n",
              "      <td>4639</td>\n",
              "      <td>4639. 동빙고근린공원</td>\n",
              "      <td>정기</td>\n",
              "      <td>M</td>\n",
              "      <td>50대</td>\n",
              "      <td>9</td>\n",
              "      <td>1600.71</td>\n",
              "      <td>14.41</td>\n",
              "      <td>62087.24</td>\n",
              "      <td>459</td>\n",
              "    </tr>\n",
              "    <tr>\n",
              "      <th>22459</th>\n",
              "      <td>6</td>\n",
              "      <td>4639</td>\n",
              "      <td>4639. 동빙고근린공원</td>\n",
              "      <td>정기</td>\n",
              "      <td>M</td>\n",
              "      <td>60대</td>\n",
              "      <td>1</td>\n",
              "      <td>37.39</td>\n",
              "      <td>0.32</td>\n",
              "      <td>1388.41</td>\n",
              "      <td>9</td>\n",
              "    </tr>\n",
              "    <tr>\n",
              "      <th>22460</th>\n",
              "      <td>6</td>\n",
              "      <td>4639</td>\n",
              "      <td>4639. 동빙고근린공원</td>\n",
              "      <td>정기</td>\n",
              "      <td>M</td>\n",
              "      <td>기타</td>\n",
              "      <td>3</td>\n",
              "      <td>374.98</td>\n",
              "      <td>2.72</td>\n",
              "      <td>11740.54</td>\n",
              "      <td>106</td>\n",
              "    </tr>\n",
              "  </tbody>\n",
              "</table>\n",
              "<p>22461 rows × 11 columns</p>\n",
              "</div>\n",
              "      <button class=\"colab-df-convert\" onclick=\"convertToInteractive('df-d5239a94-a106-413f-ad62-c61cdc6e1d68')\"\n",
              "              title=\"Convert this dataframe to an interactive table.\"\n",
              "              style=\"display:none;\">\n",
              "        \n",
              "  <svg xmlns=\"http://www.w3.org/2000/svg\" height=\"24px\"viewBox=\"0 0 24 24\"\n",
              "       width=\"24px\">\n",
              "    <path d=\"M0 0h24v24H0V0z\" fill=\"none\"/>\n",
              "    <path d=\"M18.56 5.44l.94 2.06.94-2.06 2.06-.94-2.06-.94-.94-2.06-.94 2.06-2.06.94zm-11 1L8.5 8.5l.94-2.06 2.06-.94-2.06-.94L8.5 2.5l-.94 2.06-2.06.94zm10 10l.94 2.06.94-2.06 2.06-.94-2.06-.94-.94-2.06-.94 2.06-2.06.94z\"/><path d=\"M17.41 7.96l-1.37-1.37c-.4-.4-.92-.59-1.43-.59-.52 0-1.04.2-1.43.59L10.3 9.45l-7.72 7.72c-.78.78-.78 2.05 0 2.83L4 21.41c.39.39.9.59 1.41.59.51 0 1.02-.2 1.41-.59l7.78-7.78 2.81-2.81c.8-.78.8-2.07 0-2.86zM5.41 20L4 18.59l7.72-7.72 1.47 1.35L5.41 20z\"/>\n",
              "  </svg>\n",
              "      </button>\n",
              "      \n",
              "  <style>\n",
              "    .colab-df-container {\n",
              "      display:flex;\n",
              "      flex-wrap:wrap;\n",
              "      gap: 12px;\n",
              "    }\n",
              "\n",
              "    .colab-df-convert {\n",
              "      background-color: #E8F0FE;\n",
              "      border: none;\n",
              "      border-radius: 50%;\n",
              "      cursor: pointer;\n",
              "      display: none;\n",
              "      fill: #1967D2;\n",
              "      height: 32px;\n",
              "      padding: 0 0 0 0;\n",
              "      width: 32px;\n",
              "    }\n",
              "\n",
              "    .colab-df-convert:hover {\n",
              "      background-color: #E2EBFA;\n",
              "      box-shadow: 0px 1px 2px rgba(60, 64, 67, 0.3), 0px 1px 3px 1px rgba(60, 64, 67, 0.15);\n",
              "      fill: #174EA6;\n",
              "    }\n",
              "\n",
              "    [theme=dark] .colab-df-convert {\n",
              "      background-color: #3B4455;\n",
              "      fill: #D2E3FC;\n",
              "    }\n",
              "\n",
              "    [theme=dark] .colab-df-convert:hover {\n",
              "      background-color: #434B5C;\n",
              "      box-shadow: 0px 1px 3px 1px rgba(0, 0, 0, 0.15);\n",
              "      filter: drop-shadow(0px 1px 2px rgba(0, 0, 0, 0.3));\n",
              "      fill: #FFFFFF;\n",
              "    }\n",
              "  </style>\n",
              "\n",
              "      <script>\n",
              "        const buttonEl =\n",
              "          document.querySelector('#df-d5239a94-a106-413f-ad62-c61cdc6e1d68 button.colab-df-convert');\n",
              "        buttonEl.style.display =\n",
              "          google.colab.kernel.accessAllowed ? 'block' : 'none';\n",
              "\n",
              "        async function convertToInteractive(key) {\n",
              "          const element = document.querySelector('#df-d5239a94-a106-413f-ad62-c61cdc6e1d68');\n",
              "          const dataTable =\n",
              "            await google.colab.kernel.invokeFunction('convertToInteractive',\n",
              "                                                     [key], {});\n",
              "          if (!dataTable) return;\n",
              "\n",
              "          const docLinkHtml = 'Like what you see? Visit the ' +\n",
              "            '<a target=\"_blank\" href=https://colab.research.google.com/notebooks/data_table.ipynb>data table notebook</a>'\n",
              "            + ' to learn more about interactive tables.';\n",
              "          element.innerHTML = '';\n",
              "          dataTable['output_type'] = 'display_data';\n",
              "          await google.colab.output.renderOutput(dataTable, element);\n",
              "          const docLink = document.createElement('div');\n",
              "          docLink.innerHTML = docLinkHtml;\n",
              "          element.appendChild(docLink);\n",
              "        }\n",
              "      </script>\n",
              "    </div>\n",
              "  </div>\n",
              "  "
            ]
          },
          "metadata": {},
          "execution_count": 8
        }
      ]
    },
    {
      "cell_type": "code",
      "source": [
        "data.info()\n",
        "# 성별 내 null 값 확인"
      ],
      "metadata": {
        "colab": {
          "base_uri": "https://localhost:8080/"
        },
        "id": "37i8xqEKCGY1",
        "outputId": "528b2572-7e6c-42b5-feb6-3ee1c7d14cef"
      },
      "execution_count": 9,
      "outputs": [
        {
          "output_type": "stream",
          "name": "stdout",
          "text": [
            "<class 'pandas.core.frame.DataFrame'>\n",
            "RangeIndex: 22461 entries, 0 to 22460\n",
            "Data columns (total 11 columns):\n",
            " #   Column  Non-Null Count  Dtype  \n",
            "---  ------  --------------  -----  \n",
            " 0   월       22461 non-null  int64  \n",
            " 1   대여소번호   22461 non-null  int64  \n",
            " 2   대여소명    22461 non-null  object \n",
            " 3   대여구분코드  22461 non-null  object \n",
            " 4   성별      19964 non-null  object \n",
            " 5   연령대코드   22461 non-null  object \n",
            " 6   이용건수    22461 non-null  int64  \n",
            " 7   운동량     22461 non-null  object \n",
            " 8   탄소량     22461 non-null  object \n",
            " 9   이동거리    22461 non-null  float64\n",
            " 10  이용시간    22461 non-null  int64  \n",
            "dtypes: float64(1), int64(4), object(6)\n",
            "memory usage: 1.9+ MB\n"
          ]
        }
      ]
    },
    {
      "cell_type": "code",
      "source": [
        "# 성별 내 값 확인하기\n",
        "# 서울 열린데이터 광장 : \\N 및 공백(null) = 성별 정보 선택X\n",
        "data['성별'].value_counts()"
      ],
      "metadata": {
        "colab": {
          "base_uri": "https://localhost:8080/"
        },
        "id": "JqgdFh2q7u9H",
        "outputId": "80a50679-18d2-44e8-9006-d59380c51857"
      },
      "execution_count": 10,
      "outputs": [
        {
          "output_type": "execute_result",
          "data": {
            "text/plain": [
              "M     7157\n",
              "\\N    6607\n",
              "F     6189\n",
              "m        9\n",
              "f        2\n",
              "Name: 성별, dtype: int64"
            ]
          },
          "metadata": {},
          "execution_count": 10
        }
      ]
    },
    {
      "cell_type": "code",
      "source": [
        "# 성별 null에 0으로 값 대체\n",
        "data = data.fillna(0)"
      ],
      "metadata": {
        "id": "JKZICwfgAckY"
      },
      "execution_count": 11,
      "outputs": []
    },
    {
      "cell_type": "code",
      "source": [
        "# 성별 컬럼의 행이 m,f이면 삭제\n",
        "data = data.drop(index = data[data['성별'] == 'm'].index)\n",
        "data = data.drop(index = data[data['성별'] == 'f'].index)"
      ],
      "metadata": {
        "id": "_3c8FU_Y-XFW"
      },
      "execution_count": 12,
      "outputs": []
    },
    {
      "cell_type": "code",
      "source": [
        "data['성별'].value_counts()"
      ],
      "metadata": {
        "colab": {
          "base_uri": "https://localhost:8080/"
        },
        "id": "0SFiaGyo-Wzq",
        "outputId": "0a5bf8bc-f333-48c1-9f47-111c7203bd2b"
      },
      "execution_count": 13,
      "outputs": [
        {
          "output_type": "execute_result",
          "data": {
            "text/plain": [
              "M     7157\n",
              "\\N    6607\n",
              "F     6189\n",
              "0     2497\n",
              "Name: 성별, dtype: int64"
            ]
          },
          "metadata": {},
          "execution_count": 13
        }
      ]
    },
    {
      "cell_type": "code",
      "source": [
        "# 공백(\\N) 값을 0으로 바꾸기 \n",
        "data['성별'] = data['성별'].replace(['\\\\N'],[0])"
      ],
      "metadata": {
        "id": "NUVwzyJ6A24_"
      },
      "execution_count": 14,
      "outputs": []
    },
    {
      "cell_type": "code",
      "source": [
        "data['성별'].value_counts()"
      ],
      "metadata": {
        "colab": {
          "base_uri": "https://localhost:8080/"
        },
        "id": "mH5Ir9hIBsKl",
        "outputId": "0f4ed65b-f1c1-49fd-a8fc-cf8750d949ab"
      },
      "execution_count": 15,
      "outputs": [
        {
          "output_type": "execute_result",
          "data": {
            "text/plain": [
              "0    9104\n",
              "M    7157\n",
              "F    6189\n",
              "Name: 성별, dtype: int64"
            ]
          },
          "metadata": {},
          "execution_count": 15
        }
      ]
    },
    {
      "cell_type": "code",
      "source": [
        "# 성별 남, 여, 0 = 1, 2, 3\n",
        "data['성별'] = data['성별'].replace(['M','F'],['1','2'])"
      ],
      "metadata": {
        "id": "_ahe7fCu-W8u"
      },
      "execution_count": 16,
      "outputs": []
    },
    {
      "cell_type": "code",
      "source": [
        "data['성별'].value_counts()"
      ],
      "metadata": {
        "colab": {
          "base_uri": "https://localhost:8080/"
        },
        "id": "xy1qrLf-B1iE",
        "outputId": "e02e435d-3e3a-41f7-f2b4-1432493acdce"
      },
      "execution_count": 17,
      "outputs": [
        {
          "output_type": "execute_result",
          "data": {
            "text/plain": [
              "0    9104\n",
              "1    7157\n",
              "2    6189\n",
              "Name: 성별, dtype: int64"
            ]
          },
          "metadata": {},
          "execution_count": 17
        }
      ]
    },
    {
      "cell_type": "code",
      "source": [
        "data['연령대코드'].value_counts()"
      ],
      "metadata": {
        "colab": {
          "base_uri": "https://localhost:8080/"
        },
        "id": "BKfrGEe8yOGQ",
        "outputId": "ba52e3b4-a44f-4f2d-c79f-cb92f31152a8"
      },
      "execution_count": 18,
      "outputs": [
        {
          "output_type": "execute_result",
          "data": {
            "text/plain": [
              "20대      4415\n",
              "30대      3962\n",
              "40대      3505\n",
              "기타       3375\n",
              "50대      2786\n",
              "10대      2314\n",
              "60대      1623\n",
              "70대이상     470\n",
              "Name: 연령대코드, dtype: int64"
            ]
          },
          "metadata": {},
          "execution_count": 18
        }
      ]
    },
    {
      "cell_type": "code",
      "source": [
        "# 연령대코드 값 바꾸기\n",
        "data['연령대코드'] = data['연령대코드'].replace(['20대','30대', '40대', '기타', '50대', '10대', '60대', '70대이상'],['2','3','4','0','5','1','6','7'])"
      ],
      "metadata": {
        "id": "d6VJGQqByGov"
      },
      "execution_count": 19,
      "outputs": []
    },
    {
      "cell_type": "code",
      "source": [
        "data['연령대코드'].value_counts()"
      ],
      "metadata": {
        "colab": {
          "base_uri": "https://localhost:8080/"
        },
        "id": "iLGw-6qo1lWn",
        "outputId": "e40f796b-a26e-4f9c-dc5b-320cc41ee268"
      },
      "execution_count": 20,
      "outputs": [
        {
          "output_type": "execute_result",
          "data": {
            "text/plain": [
              "2    4415\n",
              "3    3962\n",
              "4    3505\n",
              "0    3375\n",
              "5    2786\n",
              "1    2314\n",
              "6    1623\n",
              "7     470\n",
              "Name: 연령대코드, dtype: int64"
            ]
          },
          "metadata": {},
          "execution_count": 20
        }
      ]
    },
    {
      "cell_type": "code",
      "source": [
        "# 이용건수, 운동량, 탄소량, 이동거리, 이용시간이 0인 값\n",
        "data.query('이용건수 == 0').count()"
      ],
      "metadata": {
        "colab": {
          "base_uri": "https://localhost:8080/"
        },
        "id": "ZXQmMUYW2NUW",
        "outputId": "911f6aad-6e15-4695-abdb-d8c8e70320b0"
      },
      "execution_count": 21,
      "outputs": [
        {
          "output_type": "execute_result",
          "data": {
            "text/plain": [
              "월         0\n",
              "대여소번호     0\n",
              "대여소명      0\n",
              "대여구분코드    0\n",
              "성별        0\n",
              "연령대코드     0\n",
              "이용건수      0\n",
              "운동량       0\n",
              "탄소량       0\n",
              "이동거리      0\n",
              "이용시간      0\n",
              "dtype: int64"
            ]
          },
          "metadata": {},
          "execution_count": 21
        }
      ]
    },
    {
      "cell_type": "code",
      "source": [
        "data.query('운동량 == 0').count()"
      ],
      "metadata": {
        "colab": {
          "base_uri": "https://localhost:8080/"
        },
        "id": "79TVurMw66sv",
        "outputId": "5dc37c86-c70a-40ae-faf9-c9e83769b559"
      },
      "execution_count": 22,
      "outputs": [
        {
          "output_type": "execute_result",
          "data": {
            "text/plain": [
              "월         0\n",
              "대여소번호     0\n",
              "대여소명      0\n",
              "대여구분코드    0\n",
              "성별        0\n",
              "연령대코드     0\n",
              "이용건수      0\n",
              "운동량       0\n",
              "탄소량       0\n",
              "이동거리      0\n",
              "이용시간      0\n",
              "dtype: int64"
            ]
          },
          "metadata": {},
          "execution_count": 22
        }
      ]
    },
    {
      "cell_type": "code",
      "source": [
        "data.query('탄소량 == 0').count()"
      ],
      "metadata": {
        "colab": {
          "base_uri": "https://localhost:8080/"
        },
        "id": "F3-NMLNW9Vrp",
        "outputId": "2aa2a4c7-e5be-4a91-e7b0-ca9bddd17266"
      },
      "execution_count": 23,
      "outputs": [
        {
          "output_type": "execute_result",
          "data": {
            "text/plain": [
              "월         0\n",
              "대여소번호     0\n",
              "대여소명      0\n",
              "대여구분코드    0\n",
              "성별        0\n",
              "연령대코드     0\n",
              "이용건수      0\n",
              "운동량       0\n",
              "탄소량       0\n",
              "이동거리      0\n",
              "이용시간      0\n",
              "dtype: int64"
            ]
          },
          "metadata": {},
          "execution_count": 23
        }
      ]
    },
    {
      "cell_type": "code",
      "source": [
        "data.query('이동거리 == 0').count()"
      ],
      "metadata": {
        "colab": {
          "base_uri": "https://localhost:8080/"
        },
        "id": "3UEgICI19WAZ",
        "outputId": "3882bf73-0a2e-4b8c-eac5-5d5b17996042"
      },
      "execution_count": 24,
      "outputs": [
        {
          "output_type": "execute_result",
          "data": {
            "text/plain": [
              "월         365\n",
              "대여소번호     365\n",
              "대여소명      365\n",
              "대여구분코드    365\n",
              "성별        365\n",
              "연령대코드     365\n",
              "이용건수      365\n",
              "운동량       365\n",
              "탄소량       365\n",
              "이동거리      365\n",
              "이용시간      365\n",
              "dtype: int64"
            ]
          },
          "metadata": {},
          "execution_count": 24
        }
      ]
    },
    {
      "cell_type": "code",
      "source": [
        "data.query('이용시간 == 0').count()"
      ],
      "metadata": {
        "colab": {
          "base_uri": "https://localhost:8080/"
        },
        "id": "IX1z5m6r9u5a",
        "outputId": "de49af36-b443-4a34-ba0c-1e84d2ae4dfc"
      },
      "execution_count": 25,
      "outputs": [
        {
          "output_type": "execute_result",
          "data": {
            "text/plain": [
              "월         9\n",
              "대여소번호     9\n",
              "대여소명      9\n",
              "대여구분코드    9\n",
              "성별        9\n",
              "연령대코드     9\n",
              "이용건수      9\n",
              "운동량       9\n",
              "탄소량       9\n",
              "이동거리      9\n",
              "이용시간      9\n",
              "dtype: int64"
            ]
          },
          "metadata": {},
          "execution_count": 25
        }
      ]
    },
    {
      "cell_type": "code",
      "source": [
        "# 0 값 없애기\n",
        "data = data.drop(index = data[data['이동거리'] == 0].index)\n",
        "data = data.drop(index = data[data['이용시간'] == 0].index)"
      ],
      "metadata": {
        "id": "YqtpRg0e-Q9N"
      },
      "execution_count": 26,
      "outputs": []
    },
    {
      "cell_type": "code",
      "source": [
        "data"
      ],
      "metadata": {
        "colab": {
          "base_uri": "https://localhost:8080/",
          "height": 423
        },
        "id": "yRlgMG_9C6_N",
        "outputId": "6b1e454d-62ed-4270-a896-f152dac44627"
      },
      "execution_count": 27,
      "outputs": [
        {
          "output_type": "execute_result",
          "data": {
            "text/plain": [
              "       월  대여소번호           대여소명   대여구분코드 성별 연령대코드  이용건수      운동량    탄소량  \\\n",
              "0      1    800    800. 목월공원 앞       단체  1     4     2   176.71   1.38   \n",
              "1      1    800    800. 목월공원 앞  일일(비회원)  0     0     2   120.28   1.08   \n",
              "2      1    800    800. 목월공원 앞   일일(회원)  0     1     6      535   4.34   \n",
              "3      1    800    800. 목월공원 앞   일일(회원)  0     2    14  1097.91   9.42   \n",
              "4      1    800    800. 목월공원 앞   일일(회원)  0     3     5   178.77   1.51   \n",
              "...   ..    ...            ...      ... ..   ...   ...      ...    ...   \n",
              "22456  6   4639  4639. 동빙고근린공원       정기  1     3     8   686.79   5.67   \n",
              "22457  6   4639  4639. 동빙고근린공원       정기  1     4    15  2900.89  22.47   \n",
              "22458  6   4639  4639. 동빙고근린공원       정기  1     5     9  1600.71  14.41   \n",
              "22459  6   4639  4639. 동빙고근린공원       정기  1     6     1    37.39   0.32   \n",
              "22460  6   4639  4639. 동빙고근린공원       정기  1     0     3   374.98   2.72   \n",
              "\n",
              "           이동거리  이용시간  \n",
              "0       5949.60   120  \n",
              "1       4672.74    58  \n",
              "2      18764.02   570  \n",
              "3      40631.75   379  \n",
              "4       6497.15   140  \n",
              "...         ...   ...  \n",
              "22456  24405.69   344  \n",
              "22457  96820.20   566  \n",
              "22458  62087.24   459  \n",
              "22459   1388.41     9  \n",
              "22460  11740.54   106  \n",
              "\n",
              "[22082 rows x 11 columns]"
            ],
            "text/html": [
              "\n",
              "  <div id=\"df-8836c2a2-9f29-439f-9405-bd84c5c224ad\">\n",
              "    <div class=\"colab-df-container\">\n",
              "      <div>\n",
              "<style scoped>\n",
              "    .dataframe tbody tr th:only-of-type {\n",
              "        vertical-align: middle;\n",
              "    }\n",
              "\n",
              "    .dataframe tbody tr th {\n",
              "        vertical-align: top;\n",
              "    }\n",
              "\n",
              "    .dataframe thead th {\n",
              "        text-align: right;\n",
              "    }\n",
              "</style>\n",
              "<table border=\"1\" class=\"dataframe\">\n",
              "  <thead>\n",
              "    <tr style=\"text-align: right;\">\n",
              "      <th></th>\n",
              "      <th>월</th>\n",
              "      <th>대여소번호</th>\n",
              "      <th>대여소명</th>\n",
              "      <th>대여구분코드</th>\n",
              "      <th>성별</th>\n",
              "      <th>연령대코드</th>\n",
              "      <th>이용건수</th>\n",
              "      <th>운동량</th>\n",
              "      <th>탄소량</th>\n",
              "      <th>이동거리</th>\n",
              "      <th>이용시간</th>\n",
              "    </tr>\n",
              "  </thead>\n",
              "  <tbody>\n",
              "    <tr>\n",
              "      <th>0</th>\n",
              "      <td>1</td>\n",
              "      <td>800</td>\n",
              "      <td>800. 목월공원 앞</td>\n",
              "      <td>단체</td>\n",
              "      <td>1</td>\n",
              "      <td>4</td>\n",
              "      <td>2</td>\n",
              "      <td>176.71</td>\n",
              "      <td>1.38</td>\n",
              "      <td>5949.60</td>\n",
              "      <td>120</td>\n",
              "    </tr>\n",
              "    <tr>\n",
              "      <th>1</th>\n",
              "      <td>1</td>\n",
              "      <td>800</td>\n",
              "      <td>800. 목월공원 앞</td>\n",
              "      <td>일일(비회원)</td>\n",
              "      <td>0</td>\n",
              "      <td>0</td>\n",
              "      <td>2</td>\n",
              "      <td>120.28</td>\n",
              "      <td>1.08</td>\n",
              "      <td>4672.74</td>\n",
              "      <td>58</td>\n",
              "    </tr>\n",
              "    <tr>\n",
              "      <th>2</th>\n",
              "      <td>1</td>\n",
              "      <td>800</td>\n",
              "      <td>800. 목월공원 앞</td>\n",
              "      <td>일일(회원)</td>\n",
              "      <td>0</td>\n",
              "      <td>1</td>\n",
              "      <td>6</td>\n",
              "      <td>535</td>\n",
              "      <td>4.34</td>\n",
              "      <td>18764.02</td>\n",
              "      <td>570</td>\n",
              "    </tr>\n",
              "    <tr>\n",
              "      <th>3</th>\n",
              "      <td>1</td>\n",
              "      <td>800</td>\n",
              "      <td>800. 목월공원 앞</td>\n",
              "      <td>일일(회원)</td>\n",
              "      <td>0</td>\n",
              "      <td>2</td>\n",
              "      <td>14</td>\n",
              "      <td>1097.91</td>\n",
              "      <td>9.42</td>\n",
              "      <td>40631.75</td>\n",
              "      <td>379</td>\n",
              "    </tr>\n",
              "    <tr>\n",
              "      <th>4</th>\n",
              "      <td>1</td>\n",
              "      <td>800</td>\n",
              "      <td>800. 목월공원 앞</td>\n",
              "      <td>일일(회원)</td>\n",
              "      <td>0</td>\n",
              "      <td>3</td>\n",
              "      <td>5</td>\n",
              "      <td>178.77</td>\n",
              "      <td>1.51</td>\n",
              "      <td>6497.15</td>\n",
              "      <td>140</td>\n",
              "    </tr>\n",
              "    <tr>\n",
              "      <th>...</th>\n",
              "      <td>...</td>\n",
              "      <td>...</td>\n",
              "      <td>...</td>\n",
              "      <td>...</td>\n",
              "      <td>...</td>\n",
              "      <td>...</td>\n",
              "      <td>...</td>\n",
              "      <td>...</td>\n",
              "      <td>...</td>\n",
              "      <td>...</td>\n",
              "      <td>...</td>\n",
              "    </tr>\n",
              "    <tr>\n",
              "      <th>22456</th>\n",
              "      <td>6</td>\n",
              "      <td>4639</td>\n",
              "      <td>4639. 동빙고근린공원</td>\n",
              "      <td>정기</td>\n",
              "      <td>1</td>\n",
              "      <td>3</td>\n",
              "      <td>8</td>\n",
              "      <td>686.79</td>\n",
              "      <td>5.67</td>\n",
              "      <td>24405.69</td>\n",
              "      <td>344</td>\n",
              "    </tr>\n",
              "    <tr>\n",
              "      <th>22457</th>\n",
              "      <td>6</td>\n",
              "      <td>4639</td>\n",
              "      <td>4639. 동빙고근린공원</td>\n",
              "      <td>정기</td>\n",
              "      <td>1</td>\n",
              "      <td>4</td>\n",
              "      <td>15</td>\n",
              "      <td>2900.89</td>\n",
              "      <td>22.47</td>\n",
              "      <td>96820.20</td>\n",
              "      <td>566</td>\n",
              "    </tr>\n",
              "    <tr>\n",
              "      <th>22458</th>\n",
              "      <td>6</td>\n",
              "      <td>4639</td>\n",
              "      <td>4639. 동빙고근린공원</td>\n",
              "      <td>정기</td>\n",
              "      <td>1</td>\n",
              "      <td>5</td>\n",
              "      <td>9</td>\n",
              "      <td>1600.71</td>\n",
              "      <td>14.41</td>\n",
              "      <td>62087.24</td>\n",
              "      <td>459</td>\n",
              "    </tr>\n",
              "    <tr>\n",
              "      <th>22459</th>\n",
              "      <td>6</td>\n",
              "      <td>4639</td>\n",
              "      <td>4639. 동빙고근린공원</td>\n",
              "      <td>정기</td>\n",
              "      <td>1</td>\n",
              "      <td>6</td>\n",
              "      <td>1</td>\n",
              "      <td>37.39</td>\n",
              "      <td>0.32</td>\n",
              "      <td>1388.41</td>\n",
              "      <td>9</td>\n",
              "    </tr>\n",
              "    <tr>\n",
              "      <th>22460</th>\n",
              "      <td>6</td>\n",
              "      <td>4639</td>\n",
              "      <td>4639. 동빙고근린공원</td>\n",
              "      <td>정기</td>\n",
              "      <td>1</td>\n",
              "      <td>0</td>\n",
              "      <td>3</td>\n",
              "      <td>374.98</td>\n",
              "      <td>2.72</td>\n",
              "      <td>11740.54</td>\n",
              "      <td>106</td>\n",
              "    </tr>\n",
              "  </tbody>\n",
              "</table>\n",
              "<p>22082 rows × 11 columns</p>\n",
              "</div>\n",
              "      <button class=\"colab-df-convert\" onclick=\"convertToInteractive('df-8836c2a2-9f29-439f-9405-bd84c5c224ad')\"\n",
              "              title=\"Convert this dataframe to an interactive table.\"\n",
              "              style=\"display:none;\">\n",
              "        \n",
              "  <svg xmlns=\"http://www.w3.org/2000/svg\" height=\"24px\"viewBox=\"0 0 24 24\"\n",
              "       width=\"24px\">\n",
              "    <path d=\"M0 0h24v24H0V0z\" fill=\"none\"/>\n",
              "    <path d=\"M18.56 5.44l.94 2.06.94-2.06 2.06-.94-2.06-.94-.94-2.06-.94 2.06-2.06.94zm-11 1L8.5 8.5l.94-2.06 2.06-.94-2.06-.94L8.5 2.5l-.94 2.06-2.06.94zm10 10l.94 2.06.94-2.06 2.06-.94-2.06-.94-.94-2.06-.94 2.06-2.06.94z\"/><path d=\"M17.41 7.96l-1.37-1.37c-.4-.4-.92-.59-1.43-.59-.52 0-1.04.2-1.43.59L10.3 9.45l-7.72 7.72c-.78.78-.78 2.05 0 2.83L4 21.41c.39.39.9.59 1.41.59.51 0 1.02-.2 1.41-.59l7.78-7.78 2.81-2.81c.8-.78.8-2.07 0-2.86zM5.41 20L4 18.59l7.72-7.72 1.47 1.35L5.41 20z\"/>\n",
              "  </svg>\n",
              "      </button>\n",
              "      \n",
              "  <style>\n",
              "    .colab-df-container {\n",
              "      display:flex;\n",
              "      flex-wrap:wrap;\n",
              "      gap: 12px;\n",
              "    }\n",
              "\n",
              "    .colab-df-convert {\n",
              "      background-color: #E8F0FE;\n",
              "      border: none;\n",
              "      border-radius: 50%;\n",
              "      cursor: pointer;\n",
              "      display: none;\n",
              "      fill: #1967D2;\n",
              "      height: 32px;\n",
              "      padding: 0 0 0 0;\n",
              "      width: 32px;\n",
              "    }\n",
              "\n",
              "    .colab-df-convert:hover {\n",
              "      background-color: #E2EBFA;\n",
              "      box-shadow: 0px 1px 2px rgba(60, 64, 67, 0.3), 0px 1px 3px 1px rgba(60, 64, 67, 0.15);\n",
              "      fill: #174EA6;\n",
              "    }\n",
              "\n",
              "    [theme=dark] .colab-df-convert {\n",
              "      background-color: #3B4455;\n",
              "      fill: #D2E3FC;\n",
              "    }\n",
              "\n",
              "    [theme=dark] .colab-df-convert:hover {\n",
              "      background-color: #434B5C;\n",
              "      box-shadow: 0px 1px 3px 1px rgba(0, 0, 0, 0.15);\n",
              "      filter: drop-shadow(0px 1px 2px rgba(0, 0, 0, 0.3));\n",
              "      fill: #FFFFFF;\n",
              "    }\n",
              "  </style>\n",
              "\n",
              "      <script>\n",
              "        const buttonEl =\n",
              "          document.querySelector('#df-8836c2a2-9f29-439f-9405-bd84c5c224ad button.colab-df-convert');\n",
              "        buttonEl.style.display =\n",
              "          google.colab.kernel.accessAllowed ? 'block' : 'none';\n",
              "\n",
              "        async function convertToInteractive(key) {\n",
              "          const element = document.querySelector('#df-8836c2a2-9f29-439f-9405-bd84c5c224ad');\n",
              "          const dataTable =\n",
              "            await google.colab.kernel.invokeFunction('convertToInteractive',\n",
              "                                                     [key], {});\n",
              "          if (!dataTable) return;\n",
              "\n",
              "          const docLinkHtml = 'Like what you see? Visit the ' +\n",
              "            '<a target=\"_blank\" href=https://colab.research.google.com/notebooks/data_table.ipynb>data table notebook</a>'\n",
              "            + ' to learn more about interactive tables.';\n",
              "          element.innerHTML = '';\n",
              "          dataTable['output_type'] = 'display_data';\n",
              "          await google.colab.output.renderOutput(dataTable, element);\n",
              "          const docLink = document.createElement('div');\n",
              "          docLink.innerHTML = docLinkHtml;\n",
              "          element.appendChild(docLink);\n",
              "        }\n",
              "      </script>\n",
              "    </div>\n",
              "  </div>\n",
              "  "
            ]
          },
          "metadata": {},
          "execution_count": 27
        }
      ]
    },
    {
      "cell_type": "code",
      "source": [
        "# 운동량, 탄소량 변수 척도 numeric으로 변환\n",
        "data['운동량'] = pd.to_numeric(data['운동량'])\n",
        "data['탄소량'] = pd.to_numeric(data['탄소량'])"
      ],
      "metadata": {
        "id": "ukIdVqATKTMR"
      },
      "execution_count": 28,
      "outputs": []
    },
    {
      "cell_type": "code",
      "source": [
        "data.info()"
      ],
      "metadata": {
        "colab": {
          "base_uri": "https://localhost:8080/"
        },
        "id": "6mypS02BC7ic",
        "outputId": "e4c68109-bc7d-427c-fd76-f759e6f33c68"
      },
      "execution_count": 29,
      "outputs": [
        {
          "output_type": "stream",
          "name": "stdout",
          "text": [
            "<class 'pandas.core.frame.DataFrame'>\n",
            "Int64Index: 22082 entries, 0 to 22460\n",
            "Data columns (total 11 columns):\n",
            " #   Column  Non-Null Count  Dtype  \n",
            "---  ------  --------------  -----  \n",
            " 0   월       22082 non-null  int64  \n",
            " 1   대여소번호   22082 non-null  int64  \n",
            " 2   대여소명    22082 non-null  object \n",
            " 3   대여구분코드  22082 non-null  object \n",
            " 4   성별      22082 non-null  object \n",
            " 5   연령대코드   22082 non-null  object \n",
            " 6   이용건수    22082 non-null  int64  \n",
            " 7   운동량     22082 non-null  float64\n",
            " 8   탄소량     22082 non-null  float64\n",
            " 9   이동거리    22082 non-null  float64\n",
            " 10  이용시간    22082 non-null  int64  \n",
            "dtypes: float64(3), int64(4), object(4)\n",
            "memory usage: 2.0+ MB\n"
          ]
        }
      ]
    },
    {
      "cell_type": "code",
      "source": [
        "data.describe()"
      ],
      "metadata": {
        "colab": {
          "base_uri": "https://localhost:8080/",
          "height": 300
        },
        "id": "d58VQugeC-OV",
        "outputId": "b7a1ddc0-3f21-4134-e75c-5e3a4f2f929b"
      },
      "execution_count": 30,
      "outputs": [
        {
          "output_type": "execute_result",
          "data": {
            "text/plain": [
              "                  월         대여소번호          이용건수           운동량           탄소량  \\\n",
              "count  22082.000000  22082.000000  22082.000000  22082.000000  22082.000000   \n",
              "mean       3.802328   1884.495834     18.719636   1779.141492     15.585047   \n",
              "std        1.646822   1693.914867     34.591564   3691.986182     32.419028   \n",
              "min        1.000000    800.000000      1.000000      0.000000      0.000000   \n",
              "25%        3.000000    825.000000      2.000000    162.865000      1.472500   \n",
              "50%        4.000000    847.000000      6.000000    517.710000      4.550000   \n",
              "75%        5.000000   4604.000000     20.000000   1717.702500     15.110000   \n",
              "max        6.000000   4639.000000    662.000000  58946.650000    564.600000   \n",
              "\n",
              "               이동거리          이용시간  \n",
              "count  2.208200e+04  22082.000000  \n",
              "mean   6.717756e+04    550.408432  \n",
              "std    1.397372e+05   1089.898382  \n",
              "min    1.000000e-01      1.000000  \n",
              "25%    6.363267e+03     62.000000  \n",
              "50%    1.964395e+04    183.000000  \n",
              "75%    6.514006e+04    560.000000  \n",
              "max    2.433549e+06  23669.000000  "
            ],
            "text/html": [
              "\n",
              "  <div id=\"df-f1eec8e8-c0e0-4469-a8fe-b6af0f938ffd\">\n",
              "    <div class=\"colab-df-container\">\n",
              "      <div>\n",
              "<style scoped>\n",
              "    .dataframe tbody tr th:only-of-type {\n",
              "        vertical-align: middle;\n",
              "    }\n",
              "\n",
              "    .dataframe tbody tr th {\n",
              "        vertical-align: top;\n",
              "    }\n",
              "\n",
              "    .dataframe thead th {\n",
              "        text-align: right;\n",
              "    }\n",
              "</style>\n",
              "<table border=\"1\" class=\"dataframe\">\n",
              "  <thead>\n",
              "    <tr style=\"text-align: right;\">\n",
              "      <th></th>\n",
              "      <th>월</th>\n",
              "      <th>대여소번호</th>\n",
              "      <th>이용건수</th>\n",
              "      <th>운동량</th>\n",
              "      <th>탄소량</th>\n",
              "      <th>이동거리</th>\n",
              "      <th>이용시간</th>\n",
              "    </tr>\n",
              "  </thead>\n",
              "  <tbody>\n",
              "    <tr>\n",
              "      <th>count</th>\n",
              "      <td>22082.000000</td>\n",
              "      <td>22082.000000</td>\n",
              "      <td>22082.000000</td>\n",
              "      <td>22082.000000</td>\n",
              "      <td>22082.000000</td>\n",
              "      <td>2.208200e+04</td>\n",
              "      <td>22082.000000</td>\n",
              "    </tr>\n",
              "    <tr>\n",
              "      <th>mean</th>\n",
              "      <td>3.802328</td>\n",
              "      <td>1884.495834</td>\n",
              "      <td>18.719636</td>\n",
              "      <td>1779.141492</td>\n",
              "      <td>15.585047</td>\n",
              "      <td>6.717756e+04</td>\n",
              "      <td>550.408432</td>\n",
              "    </tr>\n",
              "    <tr>\n",
              "      <th>std</th>\n",
              "      <td>1.646822</td>\n",
              "      <td>1693.914867</td>\n",
              "      <td>34.591564</td>\n",
              "      <td>3691.986182</td>\n",
              "      <td>32.419028</td>\n",
              "      <td>1.397372e+05</td>\n",
              "      <td>1089.898382</td>\n",
              "    </tr>\n",
              "    <tr>\n",
              "      <th>min</th>\n",
              "      <td>1.000000</td>\n",
              "      <td>800.000000</td>\n",
              "      <td>1.000000</td>\n",
              "      <td>0.000000</td>\n",
              "      <td>0.000000</td>\n",
              "      <td>1.000000e-01</td>\n",
              "      <td>1.000000</td>\n",
              "    </tr>\n",
              "    <tr>\n",
              "      <th>25%</th>\n",
              "      <td>3.000000</td>\n",
              "      <td>825.000000</td>\n",
              "      <td>2.000000</td>\n",
              "      <td>162.865000</td>\n",
              "      <td>1.472500</td>\n",
              "      <td>6.363267e+03</td>\n",
              "      <td>62.000000</td>\n",
              "    </tr>\n",
              "    <tr>\n",
              "      <th>50%</th>\n",
              "      <td>4.000000</td>\n",
              "      <td>847.000000</td>\n",
              "      <td>6.000000</td>\n",
              "      <td>517.710000</td>\n",
              "      <td>4.550000</td>\n",
              "      <td>1.964395e+04</td>\n",
              "      <td>183.000000</td>\n",
              "    </tr>\n",
              "    <tr>\n",
              "      <th>75%</th>\n",
              "      <td>5.000000</td>\n",
              "      <td>4604.000000</td>\n",
              "      <td>20.000000</td>\n",
              "      <td>1717.702500</td>\n",
              "      <td>15.110000</td>\n",
              "      <td>6.514006e+04</td>\n",
              "      <td>560.000000</td>\n",
              "    </tr>\n",
              "    <tr>\n",
              "      <th>max</th>\n",
              "      <td>6.000000</td>\n",
              "      <td>4639.000000</td>\n",
              "      <td>662.000000</td>\n",
              "      <td>58946.650000</td>\n",
              "      <td>564.600000</td>\n",
              "      <td>2.433549e+06</td>\n",
              "      <td>23669.000000</td>\n",
              "    </tr>\n",
              "  </tbody>\n",
              "</table>\n",
              "</div>\n",
              "      <button class=\"colab-df-convert\" onclick=\"convertToInteractive('df-f1eec8e8-c0e0-4469-a8fe-b6af0f938ffd')\"\n",
              "              title=\"Convert this dataframe to an interactive table.\"\n",
              "              style=\"display:none;\">\n",
              "        \n",
              "  <svg xmlns=\"http://www.w3.org/2000/svg\" height=\"24px\"viewBox=\"0 0 24 24\"\n",
              "       width=\"24px\">\n",
              "    <path d=\"M0 0h24v24H0V0z\" fill=\"none\"/>\n",
              "    <path d=\"M18.56 5.44l.94 2.06.94-2.06 2.06-.94-2.06-.94-.94-2.06-.94 2.06-2.06.94zm-11 1L8.5 8.5l.94-2.06 2.06-.94-2.06-.94L8.5 2.5l-.94 2.06-2.06.94zm10 10l.94 2.06.94-2.06 2.06-.94-2.06-.94-.94-2.06-.94 2.06-2.06.94z\"/><path d=\"M17.41 7.96l-1.37-1.37c-.4-.4-.92-.59-1.43-.59-.52 0-1.04.2-1.43.59L10.3 9.45l-7.72 7.72c-.78.78-.78 2.05 0 2.83L4 21.41c.39.39.9.59 1.41.59.51 0 1.02-.2 1.41-.59l7.78-7.78 2.81-2.81c.8-.78.8-2.07 0-2.86zM5.41 20L4 18.59l7.72-7.72 1.47 1.35L5.41 20z\"/>\n",
              "  </svg>\n",
              "      </button>\n",
              "      \n",
              "  <style>\n",
              "    .colab-df-container {\n",
              "      display:flex;\n",
              "      flex-wrap:wrap;\n",
              "      gap: 12px;\n",
              "    }\n",
              "\n",
              "    .colab-df-convert {\n",
              "      background-color: #E8F0FE;\n",
              "      border: none;\n",
              "      border-radius: 50%;\n",
              "      cursor: pointer;\n",
              "      display: none;\n",
              "      fill: #1967D2;\n",
              "      height: 32px;\n",
              "      padding: 0 0 0 0;\n",
              "      width: 32px;\n",
              "    }\n",
              "\n",
              "    .colab-df-convert:hover {\n",
              "      background-color: #E2EBFA;\n",
              "      box-shadow: 0px 1px 2px rgba(60, 64, 67, 0.3), 0px 1px 3px 1px rgba(60, 64, 67, 0.15);\n",
              "      fill: #174EA6;\n",
              "    }\n",
              "\n",
              "    [theme=dark] .colab-df-convert {\n",
              "      background-color: #3B4455;\n",
              "      fill: #D2E3FC;\n",
              "    }\n",
              "\n",
              "    [theme=dark] .colab-df-convert:hover {\n",
              "      background-color: #434B5C;\n",
              "      box-shadow: 0px 1px 3px 1px rgba(0, 0, 0, 0.15);\n",
              "      filter: drop-shadow(0px 1px 2px rgba(0, 0, 0, 0.3));\n",
              "      fill: #FFFFFF;\n",
              "    }\n",
              "  </style>\n",
              "\n",
              "      <script>\n",
              "        const buttonEl =\n",
              "          document.querySelector('#df-f1eec8e8-c0e0-4469-a8fe-b6af0f938ffd button.colab-df-convert');\n",
              "        buttonEl.style.display =\n",
              "          google.colab.kernel.accessAllowed ? 'block' : 'none';\n",
              "\n",
              "        async function convertToInteractive(key) {\n",
              "          const element = document.querySelector('#df-f1eec8e8-c0e0-4469-a8fe-b6af0f938ffd');\n",
              "          const dataTable =\n",
              "            await google.colab.kernel.invokeFunction('convertToInteractive',\n",
              "                                                     [key], {});\n",
              "          if (!dataTable) return;\n",
              "\n",
              "          const docLinkHtml = 'Like what you see? Visit the ' +\n",
              "            '<a target=\"_blank\" href=https://colab.research.google.com/notebooks/data_table.ipynb>data table notebook</a>'\n",
              "            + ' to learn more about interactive tables.';\n",
              "          element.innerHTML = '';\n",
              "          dataTable['output_type'] = 'display_data';\n",
              "          await google.colab.output.renderOutput(dataTable, element);\n",
              "          const docLink = document.createElement('div');\n",
              "          docLink.innerHTML = docLinkHtml;\n",
              "          element.appendChild(docLink);\n",
              "        }\n",
              "      </script>\n",
              "    </div>\n",
              "  </div>\n",
              "  "
            ]
          },
          "metadata": {},
          "execution_count": 30
        }
      ]
    },
    {
      "cell_type": "markdown",
      "source": [
        "## 2. EDA"
      ],
      "metadata": {
        "id": "XDyOge8JDDyd"
      }
    },
    {
      "cell_type": "code",
      "source": [
        "%matplotlib inline  \n",
        "\n",
        "import matplotlib as mpl \n",
        "import matplotlib.pyplot as plt \n",
        "import matplotlib.font_manager as fm  \n",
        "\n",
        "!apt-get update -qq\n",
        "!apt-get install fonts-nanum* -qq\n",
        "\n",
        "path = '/usr/share/fonts/truetype/nanum/NanumBarunGothic.ttf' \n",
        "font_name = fm.FontProperties(fname=path, size=10).get_name()\n",
        "print(font_name)\n",
        "plt.rc('font', family=font_name)\n",
        "\n",
        "fm._rebuild()\n",
        "mpl.rcParams['axes.unicode_minus'] = False"
      ],
      "metadata": {
        "colab": {
          "base_uri": "https://localhost:8080/"
        },
        "id": "FWPGwLMOJbF3",
        "outputId": "be6301ca-b5e7-4707-8d7c-a7da88efd603"
      },
      "execution_count": 31,
      "outputs": [
        {
          "output_type": "stream",
          "name": "stdout",
          "text": [
            "Selecting previously unselected package fonts-nanum.\n",
            "(Reading database ... 124015 files and directories currently installed.)\n",
            "Preparing to unpack .../fonts-nanum_20170925-1_all.deb ...\n",
            "Unpacking fonts-nanum (20170925-1) ...\n",
            "Selecting previously unselected package fonts-nanum-eco.\n",
            "Preparing to unpack .../fonts-nanum-eco_1.000-6_all.deb ...\n",
            "Unpacking fonts-nanum-eco (1.000-6) ...\n",
            "Selecting previously unselected package fonts-nanum-extra.\n",
            "Preparing to unpack .../fonts-nanum-extra_20170925-1_all.deb ...\n",
            "Unpacking fonts-nanum-extra (20170925-1) ...\n",
            "Selecting previously unselected package fonts-nanum-coding.\n",
            "Preparing to unpack .../fonts-nanum-coding_2.5-1_all.deb ...\n",
            "Unpacking fonts-nanum-coding (2.5-1) ...\n",
            "Setting up fonts-nanum-extra (20170925-1) ...\n",
            "Setting up fonts-nanum (20170925-1) ...\n",
            "Setting up fonts-nanum-coding (2.5-1) ...\n",
            "Setting up fonts-nanum-eco (1.000-6) ...\n",
            "Processing triggers for fontconfig (2.12.6-0ubuntu2) ...\n",
            "NanumBarunGothic\n"
          ]
        }
      ]
    },
    {
      "cell_type": "code",
      "source": [
        "# histogram\n",
        "pd.DataFrame(data).hist(figsize=(20,10))"
      ],
      "metadata": {
        "id": "ZNbLnlDyDA1W",
        "colab": {
          "base_uri": "https://localhost:8080/",
          "height": 807
        },
        "outputId": "8ef7b4bc-601a-451c-dfca-3c79e6875a4e"
      },
      "execution_count": 32,
      "outputs": [
        {
          "output_type": "execute_result",
          "data": {
            "text/plain": [
              "array([[<matplotlib.axes._subplots.AxesSubplot object at 0x7f5c4fb8aca0>,\n",
              "        <matplotlib.axes._subplots.AxesSubplot object at 0x7f5c4f2b6940>,\n",
              "        <matplotlib.axes._subplots.AxesSubplot object at 0x7f5c4f247d60>],\n",
              "       [<matplotlib.axes._subplots.AxesSubplot object at 0x7f5c4f1fd190>,\n",
              "        <matplotlib.axes._subplots.AxesSubplot object at 0x7f5c4f227580>,\n",
              "        <matplotlib.axes._subplots.AxesSubplot object at 0x7f5c4f1d48e0>],\n",
              "       [<matplotlib.axes._subplots.AxesSubplot object at 0x7f5c4f1d49d0>,\n",
              "        <matplotlib.axes._subplots.AxesSubplot object at 0x7f5c4f13c1f0>,\n",
              "        <matplotlib.axes._subplots.AxesSubplot object at 0x7f5c4f15b6d0>]],\n",
              "      dtype=object)"
            ]
          },
          "metadata": {},
          "execution_count": 32
        },
        {
          "output_type": "stream",
          "name": "stderr",
          "text": [
            "WARNING:matplotlib.font_manager:findfont: Font family ['NanumBarunGothic'] not found. Falling back to DejaVu Sans.\n",
            "WARNING:matplotlib.font_manager:findfont: Font family ['NanumBarunGothic'] not found. Falling back to DejaVu Sans.\n"
          ]
        },
        {
          "output_type": "display_data",
          "data": {
            "text/plain": [
              "<Figure size 1440x720 with 9 Axes>"
            ],
            "image/png": "[encoded data removed]"
          },
          "metadata": {
            "needs_background": "light"
          }
        }
      ]
    },
    {
      "cell_type": "code",
      "source": [
        "data_month = data.groupby('월').agg(sum = ('이용건수', 'sum'))\n",
        "data_month"
      ],
      "metadata": {
        "colab": {
          "base_uri": "https://localhost:8080/",
          "height": 269
        },
        "id": "B7ds_jEKMBVB",
        "outputId": "b27e1887-a581-41ad-dc63-07e0c221336f"
      },
      "execution_count": 33,
      "outputs": [
        {
          "output_type": "execute_result",
          "data": {
            "text/plain": [
              "      sum\n",
              "월        \n",
              "1   25803\n",
              "2   26329\n",
              "3   53111\n",
              "4   94039\n",
              "5  117726\n",
              "6   96359"
            ],
            "text/html": [
              "\n",
              "  <div id=\"df-17c98bb6-d809-43bd-8023-34fac9f032b3\">\n",
              "    <div class=\"colab-df-container\">\n",
              "      <div>\n",
              "<style scoped>\n",
              "    .dataframe tbody tr th:only-of-type {\n",
              "        vertical-align: middle;\n",
              "    }\n",
              "\n",
              "    .dataframe tbody tr th {\n",
              "        vertical-align: top;\n",
              "    }\n",
              "\n",
              "    .dataframe thead th {\n",
              "        text-align: right;\n",
              "    }\n",
              "</style>\n",
              "<table border=\"1\" class=\"dataframe\">\n",
              "  <thead>\n",
              "    <tr style=\"text-align: right;\">\n",
              "      <th></th>\n",
              "      <th>sum</th>\n",
              "    </tr>\n",
              "    <tr>\n",
              "      <th>월</th>\n",
              "      <th></th>\n",
              "    </tr>\n",
              "  </thead>\n",
              "  <tbody>\n",
              "    <tr>\n",
              "      <th>1</th>\n",
              "      <td>25803</td>\n",
              "    </tr>\n",
              "    <tr>\n",
              "      <th>2</th>\n",
              "      <td>26329</td>\n",
              "    </tr>\n",
              "    <tr>\n",
              "      <th>3</th>\n",
              "      <td>53111</td>\n",
              "    </tr>\n",
              "    <tr>\n",
              "      <th>4</th>\n",
              "      <td>94039</td>\n",
              "    </tr>\n",
              "    <tr>\n",
              "      <th>5</th>\n",
              "      <td>117726</td>\n",
              "    </tr>\n",
              "    <tr>\n",
              "      <th>6</th>\n",
              "      <td>96359</td>\n",
              "    </tr>\n",
              "  </tbody>\n",
              "</table>\n",
              "</div>\n",
              "      <button class=\"colab-df-convert\" onclick=\"convertToInteractive('df-17c98bb6-d809-43bd-8023-34fac9f032b3')\"\n",
              "              title=\"Convert this dataframe to an interactive table.\"\n",
              "              style=\"display:none;\">\n",
              "        \n",
              "  <svg xmlns=\"http://www.w3.org/2000/svg\" height=\"24px\"viewBox=\"0 0 24 24\"\n",
              "       width=\"24px\">\n",
              "    <path d=\"M0 0h24v24H0V0z\" fill=\"none\"/>\n",
              "    <path d=\"M18.56 5.44l.94 2.06.94-2.06 2.06-.94-2.06-.94-.94-2.06-.94 2.06-2.06.94zm-11 1L8.5 8.5l.94-2.06 2.06-.94-2.06-.94L8.5 2.5l-.94 2.06-2.06.94zm10 10l.94 2.06.94-2.06 2.06-.94-2.06-.94-.94-2.06-.94 2.06-2.06.94z\"/><path d=\"M17.41 7.96l-1.37-1.37c-.4-.4-.92-.59-1.43-.59-.52 0-1.04.2-1.43.59L10.3 9.45l-7.72 7.72c-.78.78-.78 2.05 0 2.83L4 21.41c.39.39.9.59 1.41.59.51 0 1.02-.2 1.41-.59l7.78-7.78 2.81-2.81c.8-.78.8-2.07 0-2.86zM5.41 20L4 18.59l7.72-7.72 1.47 1.35L5.41 20z\"/>\n",
              "  </svg>\n",
              "      </button>\n",
              "      \n",
              "  <style>\n",
              "    .colab-df-container {\n",
              "      display:flex;\n",
              "      flex-wrap:wrap;\n",
              "      gap: 12px;\n",
              "    }\n",
              "\n",
              "    .colab-df-convert {\n",
              "      background-color: #E8F0FE;\n",
              "      border: none;\n",
              "      border-radius: 50%;\n",
              "      cursor: pointer;\n",
              "      display: none;\n",
              "      fill: #1967D2;\n",
              "      height: 32px;\n",
              "      padding: 0 0 0 0;\n",
              "      width: 32px;\n",
              "    }\n",
              "\n",
              "    .colab-df-convert:hover {\n",
              "      background-color: #E2EBFA;\n",
              "      box-shadow: 0px 1px 2px rgba(60, 64, 67, 0.3), 0px 1px 3px 1px rgba(60, 64, 67, 0.15);\n",
              "      fill: #174EA6;\n",
              "    }\n",
              "\n",
              "    [theme=dark] .colab-df-convert {\n",
              "      background-color: #3B4455;\n",
              "      fill: #D2E3FC;\n",
              "    }\n",
              "\n",
              "    [theme=dark] .colab-df-convert:hover {\n",
              "      background-color: #434B5C;\n",
              "      box-shadow: 0px 1px 3px 1px rgba(0, 0, 0, 0.15);\n",
              "      filter: drop-shadow(0px 1px 2px rgba(0, 0, 0, 0.3));\n",
              "      fill: #FFFFFF;\n",
              "    }\n",
              "  </style>\n",
              "\n",
              "      <script>\n",
              "        const buttonEl =\n",
              "          document.querySelector('#df-17c98bb6-d809-43bd-8023-34fac9f032b3 button.colab-df-convert');\n",
              "        buttonEl.style.display =\n",
              "          google.colab.kernel.accessAllowed ? 'block' : 'none';\n",
              "\n",
              "        async function convertToInteractive(key) {\n",
              "          const element = document.querySelector('#df-17c98bb6-d809-43bd-8023-34fac9f032b3');\n",
              "          const dataTable =\n",
              "            await google.colab.kernel.invokeFunction('convertToInteractive',\n",
              "                                                     [key], {});\n",
              "          if (!dataTable) return;\n",
              "\n",
              "          const docLinkHtml = 'Like what you see? Visit the ' +\n",
              "            '<a target=\"_blank\" href=https://colab.research.google.com/notebooks/data_table.ipynb>data table notebook</a>'\n",
              "            + ' to learn more about interactive tables.';\n",
              "          element.innerHTML = '';\n",
              "          dataTable['output_type'] = 'display_data';\n",
              "          await google.colab.output.renderOutput(dataTable, element);\n",
              "          const docLink = document.createElement('div');\n",
              "          docLink.innerHTML = docLinkHtml;\n",
              "          element.appendChild(docLink);\n",
              "        }\n",
              "      </script>\n",
              "    </div>\n",
              "  </div>\n",
              "  "
            ]
          },
          "metadata": {},
          "execution_count": 33
        }
      ]
    },
    {
      "cell_type": "code",
      "source": [
        "# 월별 이용건수 합 시각화 : 4월부터 이용수 많아짐\n",
        "plt.plot(data_month)"
      ],
      "metadata": {
        "colab": {
          "base_uri": "https://localhost:8080/",
          "height": 283
        },
        "id": "__SR-lrvMJo5",
        "outputId": "15612d1c-b833-4ed5-c298-c13d889bcdd7"
      },
      "execution_count": 34,
      "outputs": [
        {
          "output_type": "execute_result",
          "data": {
            "text/plain": [
              "[<matplotlib.lines.Line2D at 0x7f5c4ea29d60>]"
            ]
          },
          "metadata": {},
          "execution_count": 34
        },
        {
          "output_type": "display_data",
          "data": {
            "text/plain": [
              "<Figure size 432x288 with 1 Axes>"
            ],
            "image/png": "[encoded data removed]"
          },
          "metadata": {
            "needs_background": "light"
          }
        }
      ]
    },
    {
      "cell_type": "code",
      "source": [
        "# 연령대별 대여구분코드 확인\n",
        "import seaborn as sns\n",
        "sns.set_style(\"whitegrid\")\n",
        "sns.countplot(data = data, x=\"대여구분코드\", hue = \"연령대코드\", palette='Set3')"
      ],
      "metadata": {
        "colab": {
          "base_uri": "https://localhost:8080/",
          "height": 298
        },
        "id": "NmwNoEfZOZlr",
        "outputId": "878abcd2-a5bb-4ff3-a54f-d41af8d8c2d9"
      },
      "execution_count": 35,
      "outputs": [
        {
          "output_type": "execute_result",
          "data": {
            "text/plain": [
              "<matplotlib.axes._subplots.AxesSubplot at 0x7f5c4e73c310>"
            ]
          },
          "metadata": {},
          "execution_count": 35
        },
        {
          "output_type": "display_data",
          "data": {
            "text/plain": [
              "<Figure size 432x288 with 1 Axes>"
            ],
            "image/png": "[encoded data removed]"
          },
          "metadata": {}
        }
      ]
    },
    {
      "cell_type": "code",
      "source": [
        "# 더 시각화하기"
      ],
      "metadata": {
        "id": "srIlkkndSFSf"
      },
      "execution_count": 36,
      "outputs": []
    },
    {
      "cell_type": "markdown",
      "source": [
        "## 3. 데이터 스케일링"
      ],
      "metadata": {
        "id": "M7qbcc5-SnpH"
      }
    },
    {
      "cell_type": "code",
      "source": [
        "data"
      ],
      "metadata": {
        "colab": {
          "base_uri": "https://localhost:8080/",
          "height": 423
        },
        "id": "Lsme09lUkT_A",
        "outputId": "1f7bcbdb-93bf-4653-b8d1-7911dc100540"
      },
      "execution_count": 37,
      "outputs": [
        {
          "output_type": "execute_result",
          "data": {
            "text/plain": [
              "       월  대여소번호           대여소명   대여구분코드 성별 연령대코드  이용건수      운동량    탄소량  \\\n",
              "0      1    800    800. 목월공원 앞       단체  1     4     2   176.71   1.38   \n",
              "1      1    800    800. 목월공원 앞  일일(비회원)  0     0     2   120.28   1.08   \n",
              "2      1    800    800. 목월공원 앞   일일(회원)  0     1     6   535.00   4.34   \n",
              "3      1    800    800. 목월공원 앞   일일(회원)  0     2    14  1097.91   9.42   \n",
              "4      1    800    800. 목월공원 앞   일일(회원)  0     3     5   178.77   1.51   \n",
              "...   ..    ...            ...      ... ..   ...   ...      ...    ...   \n",
              "22456  6   4639  4639. 동빙고근린공원       정기  1     3     8   686.79   5.67   \n",
              "22457  6   4639  4639. 동빙고근린공원       정기  1     4    15  2900.89  22.47   \n",
              "22458  6   4639  4639. 동빙고근린공원       정기  1     5     9  1600.71  14.41   \n",
              "22459  6   4639  4639. 동빙고근린공원       정기  1     6     1    37.39   0.32   \n",
              "22460  6   4639  4639. 동빙고근린공원       정기  1     0     3   374.98   2.72   \n",
              "\n",
              "           이동거리  이용시간  \n",
              "0       5949.60   120  \n",
              "1       4672.74    58  \n",
              "2      18764.02   570  \n",
              "3      40631.75   379  \n",
              "4       6497.15   140  \n",
              "...         ...   ...  \n",
              "22456  24405.69   344  \n",
              "22457  96820.20   566  \n",
              "22458  62087.24   459  \n",
              "22459   1388.41     9  \n",
              "22460  11740.54   106  \n",
              "\n",
              "[22082 rows x 11 columns]"
            ],
            "text/html": [
              "\n",
              "  <div id=\"df-410d169c-a3ba-4644-ac43-53daa3feb0c7\">\n",
              "    <div class=\"colab-df-container\">\n",
              "      <div>\n",
              "<style scoped>\n",
              "    .dataframe tbody tr th:only-of-type {\n",
              "        vertical-align: middle;\n",
              "    }\n",
              "\n",
              "    .dataframe tbody tr th {\n",
              "        vertical-align: top;\n",
              "    }\n",
              "\n",
              "    .dataframe thead th {\n",
              "        text-align: right;\n",
              "    }\n",
              "</style>\n",
              "<table border=\"1\" class=\"dataframe\">\n",
              "  <thead>\n",
              "    <tr style=\"text-align: right;\">\n",
              "      <th></th>\n",
              "      <th>월</th>\n",
              "      <th>대여소번호</th>\n",
              "      <th>대여소명</th>\n",
              "      <th>대여구분코드</th>\n",
              "      <th>성별</th>\n",
              "      <th>연령대코드</th>\n",
              "      <th>이용건수</th>\n",
              "      <th>운동량</th>\n",
              "      <th>탄소량</th>\n",
              "      <th>이동거리</th>\n",
              "      <th>이용시간</th>\n",
              "    </tr>\n",
              "  </thead>\n",
              "  <tbody>\n",
              "    <tr>\n",
              "      <th>0</th>\n",
              "      <td>1</td>\n",
              "      <td>800</td>\n",
              "      <td>800. 목월공원 앞</td>\n",
              "      <td>단체</td>\n",
              "      <td>1</td>\n",
              "      <td>4</td>\n",
              "      <td>2</td>\n",
              "      <td>176.71</td>\n",
              "      <td>1.38</td>\n",
              "      <td>5949.60</td>\n",
              "      <td>120</td>\n",
              "    </tr>\n",
              "    <tr>\n",
              "      <th>1</th>\n",
              "      <td>1</td>\n",
              "      <td>800</td>\n",
              "      <td>800. 목월공원 앞</td>\n",
              "      <td>일일(비회원)</td>\n",
              "      <td>0</td>\n",
              "      <td>0</td>\n",
              "      <td>2</td>\n",
              "      <td>120.28</td>\n",
              "      <td>1.08</td>\n",
              "      <td>4672.74</td>\n",
              "      <td>58</td>\n",
              "    </tr>\n",
              "    <tr>\n",
              "      <th>2</th>\n",
              "      <td>1</td>\n",
              "      <td>800</td>\n",
              "      <td>800. 목월공원 앞</td>\n",
              "      <td>일일(회원)</td>\n",
              "      <td>0</td>\n",
              "      <td>1</td>\n",
              "      <td>6</td>\n",
              "      <td>535.00</td>\n",
              "      <td>4.34</td>\n",
              "      <td>18764.02</td>\n",
              "      <td>570</td>\n",
              "    </tr>\n",
              "    <tr>\n",
              "      <th>3</th>\n",
              "      <td>1</td>\n",
              "      <td>800</td>\n",
              "      <td>800. 목월공원 앞</td>\n",
              "      <td>일일(회원)</td>\n",
              "      <td>0</td>\n",
              "      <td>2</td>\n",
              "      <td>14</td>\n",
              "      <td>1097.91</td>\n",
              "      <td>9.42</td>\n",
              "      <td>40631.75</td>\n",
              "      <td>379</td>\n",
              "    </tr>\n",
              "    <tr>\n",
              "      <th>4</th>\n",
              "      <td>1</td>\n",
              "      <td>800</td>\n",
              "      <td>800. 목월공원 앞</td>\n",
              "      <td>일일(회원)</td>\n",
              "      <td>0</td>\n",
              "      <td>3</td>\n",
              "      <td>5</td>\n",
              "      <td>178.77</td>\n",
              "      <td>1.51</td>\n",
              "      <td>6497.15</td>\n",
              "      <td>140</td>\n",
              "    </tr>\n",
              "    <tr>\n",
              "      <th>...</th>\n",
              "      <td>...</td>\n",
              "      <td>...</td>\n",
              "      <td>...</td>\n",
              "      <td>...</td>\n",
              "      <td>...</td>\n",
              "      <td>...</td>\n",
              "      <td>...</td>\n",
              "      <td>...</td>\n",
              "      <td>...</td>\n",
              "      <td>...</td>\n",
              "      <td>...</td>\n",
              "    </tr>\n",
              "    <tr>\n",
              "      <th>22456</th>\n",
              "      <td>6</td>\n",
              "      <td>4639</td>\n",
              "      <td>4639. 동빙고근린공원</td>\n",
              "      <td>정기</td>\n",
              "      <td>1</td>\n",
              "      <td>3</td>\n",
              "      <td>8</td>\n",
              "      <td>686.79</td>\n",
              "      <td>5.67</td>\n",
              "      <td>24405.69</td>\n",
              "      <td>344</td>\n",
              "    </tr>\n",
              "    <tr>\n",
              "      <th>22457</th>\n",
              "      <td>6</td>\n",
              "      <td>4639</td>\n",
              "      <td>4639. 동빙고근린공원</td>\n",
              "      <td>정기</td>\n",
              "      <td>1</td>\n",
              "      <td>4</td>\n",
              "      <td>15</td>\n",
              "      <td>2900.89</td>\n",
              "      <td>22.47</td>\n",
              "      <td>96820.20</td>\n",
              "      <td>566</td>\n",
              "    </tr>\n",
              "    <tr>\n",
              "      <th>22458</th>\n",
              "      <td>6</td>\n",
              "      <td>4639</td>\n",
              "      <td>4639. 동빙고근린공원</td>\n",
              "      <td>정기</td>\n",
              "      <td>1</td>\n",
              "      <td>5</td>\n",
              "      <td>9</td>\n",
              "      <td>1600.71</td>\n",
              "      <td>14.41</td>\n",
              "      <td>62087.24</td>\n",
              "      <td>459</td>\n",
              "    </tr>\n",
              "    <tr>\n",
              "      <th>22459</th>\n",
              "      <td>6</td>\n",
              "      <td>4639</td>\n",
              "      <td>4639. 동빙고근린공원</td>\n",
              "      <td>정기</td>\n",
              "      <td>1</td>\n",
              "      <td>6</td>\n",
              "      <td>1</td>\n",
              "      <td>37.39</td>\n",
              "      <td>0.32</td>\n",
              "      <td>1388.41</td>\n",
              "      <td>9</td>\n",
              "    </tr>\n",
              "    <tr>\n",
              "      <th>22460</th>\n",
              "      <td>6</td>\n",
              "      <td>4639</td>\n",
              "      <td>4639. 동빙고근린공원</td>\n",
              "      <td>정기</td>\n",
              "      <td>1</td>\n",
              "      <td>0</td>\n",
              "      <td>3</td>\n",
              "      <td>374.98</td>\n",
              "      <td>2.72</td>\n",
              "      <td>11740.54</td>\n",
              "      <td>106</td>\n",
              "    </tr>\n",
              "  </tbody>\n",
              "</table>\n",
              "<p>22082 rows × 11 columns</p>\n",
              "</div>\n",
              "      <button class=\"colab-df-convert\" onclick=\"convertToInteractive('df-410d169c-a3ba-4644-ac43-53daa3feb0c7')\"\n",
              "              title=\"Convert this dataframe to an interactive table.\"\n",
              "              style=\"display:none;\">\n",
              "        \n",
              "  <svg xmlns=\"http://www.w3.org/2000/svg\" height=\"24px\"viewBox=\"0 0 24 24\"\n",
              "       width=\"24px\">\n",
              "    <path d=\"M0 0h24v24H0V0z\" fill=\"none\"/>\n",
              "    <path d=\"M18.56 5.44l.94 2.06.94-2.06 2.06-.94-2.06-.94-.94-2.06-.94 2.06-2.06.94zm-11 1L8.5 8.5l.94-2.06 2.06-.94-2.06-.94L8.5 2.5l-.94 2.06-2.06.94zm10 10l.94 2.06.94-2.06 2.06-.94-2.06-.94-.94-2.06-.94 2.06-2.06.94z\"/><path d=\"M17.41 7.96l-1.37-1.37c-.4-.4-.92-.59-1.43-.59-.52 0-1.04.2-1.43.59L10.3 9.45l-7.72 7.72c-.78.78-.78 2.05 0 2.83L4 21.41c.39.39.9.59 1.41.59.51 0 1.02-.2 1.41-.59l7.78-7.78 2.81-2.81c.8-.78.8-2.07 0-2.86zM5.41 20L4 18.59l7.72-7.72 1.47 1.35L5.41 20z\"/>\n",
              "  </svg>\n",
              "      </button>\n",
              "      \n",
              "  <style>\n",
              "    .colab-df-container {\n",
              "      display:flex;\n",
              "      flex-wrap:wrap;\n",
              "      gap: 12px;\n",
              "    }\n",
              "\n",
              "    .colab-df-convert {\n",
              "      background-color: #E8F0FE;\n",
              "      border: none;\n",
              "      border-radius: 50%;\n",
              "      cursor: pointer;\n",
              "      display: none;\n",
              "      fill: #1967D2;\n",
              "      height: 32px;\n",
              "      padding: 0 0 0 0;\n",
              "      width: 32px;\n",
              "    }\n",
              "\n",
              "    .colab-df-convert:hover {\n",
              "      background-color: #E2EBFA;\n",
              "      box-shadow: 0px 1px 2px rgba(60, 64, 67, 0.3), 0px 1px 3px 1px rgba(60, 64, 67, 0.15);\n",
              "      fill: #174EA6;\n",
              "    }\n",
              "\n",
              "    [theme=dark] .colab-df-convert {\n",
              "      background-color: #3B4455;\n",
              "      fill: #D2E3FC;\n",
              "    }\n",
              "\n",
              "    [theme=dark] .colab-df-convert:hover {\n",
              "      background-color: #434B5C;\n",
              "      box-shadow: 0px 1px 3px 1px rgba(0, 0, 0, 0.15);\n",
              "      filter: drop-shadow(0px 1px 2px rgba(0, 0, 0, 0.3));\n",
              "      fill: #FFFFFF;\n",
              "    }\n",
              "  </style>\n",
              "\n",
              "      <script>\n",
              "        const buttonEl =\n",
              "          document.querySelector('#df-410d169c-a3ba-4644-ac43-53daa3feb0c7 button.colab-df-convert');\n",
              "        buttonEl.style.display =\n",
              "          google.colab.kernel.accessAllowed ? 'block' : 'none';\n",
              "\n",
              "        async function convertToInteractive(key) {\n",
              "          const element = document.querySelector('#df-410d169c-a3ba-4644-ac43-53daa3feb0c7');\n",
              "          const dataTable =\n",
              "            await google.colab.kernel.invokeFunction('convertToInteractive',\n",
              "                                                     [key], {});\n",
              "          if (!dataTable) return;\n",
              "\n",
              "          const docLinkHtml = 'Like what you see? Visit the ' +\n",
              "            '<a target=\"_blank\" href=https://colab.research.google.com/notebooks/data_table.ipynb>data table notebook</a>'\n",
              "            + ' to learn more about interactive tables.';\n",
              "          element.innerHTML = '';\n",
              "          dataTable['output_type'] = 'display_data';\n",
              "          await google.colab.output.renderOutput(dataTable, element);\n",
              "          const docLink = document.createElement('div');\n",
              "          docLink.innerHTML = docLinkHtml;\n",
              "          element.appendChild(docLink);\n",
              "        }\n",
              "      </script>\n",
              "    </div>\n",
              "  </div>\n",
              "  "
            ]
          },
          "metadata": {},
          "execution_count": 37
        }
      ]
    },
    {
      "cell_type": "code",
      "source": [
        "data['대여구분코드'].value_counts()"
      ],
      "metadata": {
        "colab": {
          "base_uri": "https://localhost:8080/"
        },
        "id": "-J0HgbZ_i39_",
        "outputId": "95c9e231-38c1-468c-c1c1-488e3d3db342"
      },
      "execution_count": 38,
      "outputs": [
        {
          "output_type": "execute_result",
          "data": {
            "text/plain": [
              "정기         11077\n",
              "일일(회원)      8557\n",
              "단체          1817\n",
              "일일(비회원)      631\n",
              "Name: 대여구분코드, dtype: int64"
            ]
          },
          "metadata": {},
          "execution_count": 38
        }
      ]
    },
    {
      "cell_type": "code",
      "source": [
        "# 대여구분코드 변수 바꾸기\n",
        "# 대여구분코드 : 0=단체, 1=일일(비회원), 2=일일(회원), 3=정기\n",
        "from sklearn.preprocessing import LabelEncoder\n",
        "encoder = LabelEncoder()\n",
        "encoder.fit(data['대여구분코드'])\n",
        "labels = encoder.transform(data['대여구분코드'])\n",
        "print(labels)"
      ],
      "metadata": {
        "colab": {
          "base_uri": "https://localhost:8080/"
        },
        "id": "tJFmYVNrit11",
        "outputId": "3892cb53-3761-49c6-f0ad-08436791c7bf"
      },
      "execution_count": 39,
      "outputs": [
        {
          "output_type": "stream",
          "name": "stdout",
          "text": [
            "[0 1 2 ... 3 3 3]\n"
          ]
        }
      ]
    },
    {
      "cell_type": "code",
      "source": [
        "data_new = data.insert(4, '대여구분', labels)"
      ],
      "metadata": {
        "id": "ITU96q4VjFIq"
      },
      "execution_count": 40,
      "outputs": []
    },
    {
      "cell_type": "code",
      "source": [
        "data_new = data.drop(['대여구분코드'], axis=1)\n",
        "data_new"
      ],
      "metadata": {
        "colab": {
          "base_uri": "https://localhost:8080/",
          "height": 423
        },
        "id": "G8ffjNDOkIbz",
        "outputId": "9a981656-1827-4281-fa80-3da85b394875"
      },
      "execution_count": 41,
      "outputs": [
        {
          "output_type": "execute_result",
          "data": {
            "text/plain": [
              "       월  대여소번호           대여소명  대여구분 성별 연령대코드  이용건수      운동량    탄소량      이동거리  \\\n",
              "0      1    800    800. 목월공원 앞     0  1     4     2   176.71   1.38   5949.60   \n",
              "1      1    800    800. 목월공원 앞     1  0     0     2   120.28   1.08   4672.74   \n",
              "2      1    800    800. 목월공원 앞     2  0     1     6   535.00   4.34  18764.02   \n",
              "3      1    800    800. 목월공원 앞     2  0     2    14  1097.91   9.42  40631.75   \n",
              "4      1    800    800. 목월공원 앞     2  0     3     5   178.77   1.51   6497.15   \n",
              "...   ..    ...            ...   ... ..   ...   ...      ...    ...       ...   \n",
              "22456  6   4639  4639. 동빙고근린공원     3  1     3     8   686.79   5.67  24405.69   \n",
              "22457  6   4639  4639. 동빙고근린공원     3  1     4    15  2900.89  22.47  96820.20   \n",
              "22458  6   4639  4639. 동빙고근린공원     3  1     5     9  1600.71  14.41  62087.24   \n",
              "22459  6   4639  4639. 동빙고근린공원     3  1     6     1    37.39   0.32   1388.41   \n",
              "22460  6   4639  4639. 동빙고근린공원     3  1     0     3   374.98   2.72  11740.54   \n",
              "\n",
              "       이용시간  \n",
              "0       120  \n",
              "1        58  \n",
              "2       570  \n",
              "3       379  \n",
              "4       140  \n",
              "...     ...  \n",
              "22456   344  \n",
              "22457   566  \n",
              "22458   459  \n",
              "22459     9  \n",
              "22460   106  \n",
              "\n",
              "[22082 rows x 11 columns]"
            ],
            "text/html": [
              "\n",
              "  <div id=\"df-2d91ad99-a26e-42b5-8b69-87a6aba03716\">\n",
              "    <div class=\"colab-df-container\">\n",
              "      <div>\n",
              "<style scoped>\n",
              "    .dataframe tbody tr th:only-of-type {\n",
              "        vertical-align: middle;\n",
              "    }\n",
              "\n",
              "    .dataframe tbody tr th {\n",
              "        vertical-align: top;\n",
              "    }\n",
              "\n",
              "    .dataframe thead th {\n",
              "        text-align: right;\n",
              "    }\n",
              "</style>\n",
              "<table border=\"1\" class=\"dataframe\">\n",
              "  <thead>\n",
              "    <tr style=\"text-align: right;\">\n",
              "      <th></th>\n",
              "      <th>월</th>\n",
              "      <th>대여소번호</th>\n",
              "      <th>대여소명</th>\n",
              "      <th>대여구분</th>\n",
              "      <th>성별</th>\n",
              "      <th>연령대코드</th>\n",
              "      <th>이용건수</th>\n",
              "      <th>운동량</th>\n",
              "      <th>탄소량</th>\n",
              "      <th>이동거리</th>\n",
              "      <th>이용시간</th>\n",
              "    </tr>\n",
              "  </thead>\n",
              "  <tbody>\n",
              "    <tr>\n",
              "      <th>0</th>\n",
              "      <td>1</td>\n",
              "      <td>800</td>\n",
              "      <td>800. 목월공원 앞</td>\n",
              "      <td>0</td>\n",
              "      <td>1</td>\n",
              "      <td>4</td>\n",
              "      <td>2</td>\n",
              "      <td>176.71</td>\n",
              "      <td>1.38</td>\n",
              "      <td>5949.60</td>\n",
              "      <td>120</td>\n",
              "    </tr>\n",
              "    <tr>\n",
              "      <th>1</th>\n",
              "      <td>1</td>\n",
              "      <td>800</td>\n",
              "      <td>800. 목월공원 앞</td>\n",
              "      <td>1</td>\n",
              "      <td>0</td>\n",
              "      <td>0</td>\n",
              "      <td>2</td>\n",
              "      <td>120.28</td>\n",
              "      <td>1.08</td>\n",
              "      <td>4672.74</td>\n",
              "      <td>58</td>\n",
              "    </tr>\n",
              "    <tr>\n",
              "      <th>2</th>\n",
              "      <td>1</td>\n",
              "      <td>800</td>\n",
              "      <td>800. 목월공원 앞</td>\n",
              "      <td>2</td>\n",
              "      <td>0</td>\n",
              "      <td>1</td>\n",
              "      <td>6</td>\n",
              "      <td>535.00</td>\n",
              "      <td>4.34</td>\n",
              "      <td>18764.02</td>\n",
              "      <td>570</td>\n",
              "    </tr>\n",
              "    <tr>\n",
              "      <th>3</th>\n",
              "      <td>1</td>\n",
              "      <td>800</td>\n",
              "      <td>800. 목월공원 앞</td>\n",
              "      <td>2</td>\n",
              "      <td>0</td>\n",
              "      <td>2</td>\n",
              "      <td>14</td>\n",
              "      <td>1097.91</td>\n",
              "      <td>9.42</td>\n",
              "      <td>40631.75</td>\n",
              "      <td>379</td>\n",
              "    </tr>\n",
              "    <tr>\n",
              "      <th>4</th>\n",
              "      <td>1</td>\n",
              "      <td>800</td>\n",
              "      <td>800. 목월공원 앞</td>\n",
              "      <td>2</td>\n",
              "      <td>0</td>\n",
              "      <td>3</td>\n",
              "      <td>5</td>\n",
              "      <td>178.77</td>\n",
              "      <td>1.51</td>\n",
              "      <td>6497.15</td>\n",
              "      <td>140</td>\n",
              "    </tr>\n",
              "    <tr>\n",
              "      <th>...</th>\n",
              "      <td>...</td>\n",
              "      <td>...</td>\n",
              "      <td>...</td>\n",
              "      <td>...</td>\n",
              "      <td>...</td>\n",
              "      <td>...</td>\n",
              "      <td>...</td>\n",
              "      <td>...</td>\n",
              "      <td>...</td>\n",
              "      <td>...</td>\n",
              "      <td>...</td>\n",
              "    </tr>\n",
              "    <tr>\n",
              "      <th>22456</th>\n",
              "      <td>6</td>\n",
              "      <td>4639</td>\n",
              "      <td>4639. 동빙고근린공원</td>\n",
              "      <td>3</td>\n",
              "      <td>1</td>\n",
              "      <td>3</td>\n",
              "      <td>8</td>\n",
              "      <td>686.79</td>\n",
              "      <td>5.67</td>\n",
              "      <td>24405.69</td>\n",
              "      <td>344</td>\n",
              "    </tr>\n",
              "    <tr>\n",
              "      <th>22457</th>\n",
              "      <td>6</td>\n",
              "      <td>4639</td>\n",
              "      <td>4639. 동빙고근린공원</td>\n",
              "      <td>3</td>\n",
              "      <td>1</td>\n",
              "      <td>4</td>\n",
              "      <td>15</td>\n",
              "      <td>2900.89</td>\n",
              "      <td>22.47</td>\n",
              "      <td>96820.20</td>\n",
              "      <td>566</td>\n",
              "    </tr>\n",
              "    <tr>\n",
              "      <th>22458</th>\n",
              "      <td>6</td>\n",
              "      <td>4639</td>\n",
              "      <td>4639. 동빙고근린공원</td>\n",
              "      <td>3</td>\n",
              "      <td>1</td>\n",
              "      <td>5</td>\n",
              "      <td>9</td>\n",
              "      <td>1600.71</td>\n",
              "      <td>14.41</td>\n",
              "      <td>62087.24</td>\n",
              "      <td>459</td>\n",
              "    </tr>\n",
              "    <tr>\n",
              "      <th>22459</th>\n",
              "      <td>6</td>\n",
              "      <td>4639</td>\n",
              "      <td>4639. 동빙고근린공원</td>\n",
              "      <td>3</td>\n",
              "      <td>1</td>\n",
              "      <td>6</td>\n",
              "      <td>1</td>\n",
              "      <td>37.39</td>\n",
              "      <td>0.32</td>\n",
              "      <td>1388.41</td>\n",
              "      <td>9</td>\n",
              "    </tr>\n",
              "    <tr>\n",
              "      <th>22460</th>\n",
              "      <td>6</td>\n",
              "      <td>4639</td>\n",
              "      <td>4639. 동빙고근린공원</td>\n",
              "      <td>3</td>\n",
              "      <td>1</td>\n",
              "      <td>0</td>\n",
              "      <td>3</td>\n",
              "      <td>374.98</td>\n",
              "      <td>2.72</td>\n",
              "      <td>11740.54</td>\n",
              "      <td>106</td>\n",
              "    </tr>\n",
              "  </tbody>\n",
              "</table>\n",
              "<p>22082 rows × 11 columns</p>\n",
              "</div>\n",
              "      <button class=\"colab-df-convert\" onclick=\"convertToInteractive('df-2d91ad99-a26e-42b5-8b69-87a6aba03716')\"\n",
              "              title=\"Convert this dataframe to an interactive table.\"\n",
              "              style=\"display:none;\">\n",
              "        \n",
              "  <svg xmlns=\"http://www.w3.org/2000/svg\" height=\"24px\"viewBox=\"0 0 24 24\"\n",
              "       width=\"24px\">\n",
              "    <path d=\"M0 0h24v24H0V0z\" fill=\"none\"/>\n",
              "    <path d=\"M18.56 5.44l.94 2.06.94-2.06 2.06-.94-2.06-.94-.94-2.06-.94 2.06-2.06.94zm-11 1L8.5 8.5l.94-2.06 2.06-.94-2.06-.94L8.5 2.5l-.94 2.06-2.06.94zm10 10l.94 2.06.94-2.06 2.06-.94-2.06-.94-.94-2.06-.94 2.06-2.06.94z\"/><path d=\"M17.41 7.96l-1.37-1.37c-.4-.4-.92-.59-1.43-.59-.52 0-1.04.2-1.43.59L10.3 9.45l-7.72 7.72c-.78.78-.78 2.05 0 2.83L4 21.41c.39.39.9.59 1.41.59.51 0 1.02-.2 1.41-.59l7.78-7.78 2.81-2.81c.8-.78.8-2.07 0-2.86zM5.41 20L4 18.59l7.72-7.72 1.47 1.35L5.41 20z\"/>\n",
              "  </svg>\n",
              "      </button>\n",
              "      \n",
              "  <style>\n",
              "    .colab-df-container {\n",
              "      display:flex;\n",
              "      flex-wrap:wrap;\n",
              "      gap: 12px;\n",
              "    }\n",
              "\n",
              "    .colab-df-convert {\n",
              "      background-color: #E8F0FE;\n",
              "      border: none;\n",
              "      border-radius: 50%;\n",
              "      cursor: pointer;\n",
              "      display: none;\n",
              "      fill: #1967D2;\n",
              "      height: 32px;\n",
              "      padding: 0 0 0 0;\n",
              "      width: 32px;\n",
              "    }\n",
              "\n",
              "    .colab-df-convert:hover {\n",
              "      background-color: #E2EBFA;\n",
              "      box-shadow: 0px 1px 2px rgba(60, 64, 67, 0.3), 0px 1px 3px 1px rgba(60, 64, 67, 0.15);\n",
              "      fill: #174EA6;\n",
              "    }\n",
              "\n",
              "    [theme=dark] .colab-df-convert {\n",
              "      background-color: #3B4455;\n",
              "      fill: #D2E3FC;\n",
              "    }\n",
              "\n",
              "    [theme=dark] .colab-df-convert:hover {\n",
              "      background-color: #434B5C;\n",
              "      box-shadow: 0px 1px 3px 1px rgba(0, 0, 0, 0.15);\n",
              "      filter: drop-shadow(0px 1px 2px rgba(0, 0, 0, 0.3));\n",
              "      fill: #FFFFFF;\n",
              "    }\n",
              "  </style>\n",
              "\n",
              "      <script>\n",
              "        const buttonEl =\n",
              "          document.querySelector('#df-2d91ad99-a26e-42b5-8b69-87a6aba03716 button.colab-df-convert');\n",
              "        buttonEl.style.display =\n",
              "          google.colab.kernel.accessAllowed ? 'block' : 'none';\n",
              "\n",
              "        async function convertToInteractive(key) {\n",
              "          const element = document.querySelector('#df-2d91ad99-a26e-42b5-8b69-87a6aba03716');\n",
              "          const dataTable =\n",
              "            await google.colab.kernel.invokeFunction('convertToInteractive',\n",
              "                                                     [key], {});\n",
              "          if (!dataTable) return;\n",
              "\n",
              "          const docLinkHtml = 'Like what you see? Visit the ' +\n",
              "            '<a target=\"_blank\" href=https://colab.research.google.com/notebooks/data_table.ipynb>data table notebook</a>'\n",
              "            + ' to learn more about interactive tables.';\n",
              "          element.innerHTML = '';\n",
              "          dataTable['output_type'] = 'display_data';\n",
              "          await google.colab.output.renderOutput(dataTable, element);\n",
              "          const docLink = document.createElement('div');\n",
              "          docLink.innerHTML = docLinkHtml;\n",
              "          element.appendChild(docLink);\n",
              "        }\n",
              "      </script>\n",
              "    </div>\n",
              "  </div>\n",
              "  "
            ]
          },
          "metadata": {},
          "execution_count": 41
        }
      ]
    },
    {
      "cell_type": "code",
      "source": [
        "data_new.info()"
      ],
      "metadata": {
        "colab": {
          "base_uri": "https://localhost:8080/"
        },
        "id": "gukiXyFWmyD_",
        "outputId": "223f6730-37aa-49f2-fbc8-0e8bd5327c09"
      },
      "execution_count": 42,
      "outputs": [
        {
          "output_type": "stream",
          "name": "stdout",
          "text": [
            "<class 'pandas.core.frame.DataFrame'>\n",
            "Int64Index: 22082 entries, 0 to 22460\n",
            "Data columns (total 11 columns):\n",
            " #   Column  Non-Null Count  Dtype  \n",
            "---  ------  --------------  -----  \n",
            " 0   월       22082 non-null  int64  \n",
            " 1   대여소번호   22082 non-null  int64  \n",
            " 2   대여소명    22082 non-null  object \n",
            " 3   대여구분    22082 non-null  int64  \n",
            " 4   성별      22082 non-null  object \n",
            " 5   연령대코드   22082 non-null  object \n",
            " 6   이용건수    22082 non-null  int64  \n",
            " 7   운동량     22082 non-null  float64\n",
            " 8   탄소량     22082 non-null  float64\n",
            " 9   이동거리    22082 non-null  float64\n",
            " 10  이용시간    22082 non-null  int64  \n",
            "dtypes: float64(3), int64(5), object(3)\n",
            "memory usage: 2.5+ MB\n"
          ]
        }
      ]
    },
    {
      "cell_type": "code",
      "source": [
        "data_new['성별'] = pd.to_numeric(data['성별'])"
      ],
      "metadata": {
        "id": "p7pzlXTpnwhR"
      },
      "execution_count": 43,
      "outputs": []
    },
    {
      "cell_type": "code",
      "source": [
        "X = data_new[['월', '대여소번호', '연령대코드', '이용건수', '운동량', '탄소량', '이동거리', '이용시간']]\n",
        "y = data_new['성별']"
      ],
      "metadata": {
        "id": "cLXpL3wigCSF"
      },
      "execution_count": 44,
      "outputs": []
    },
    {
      "cell_type": "code",
      "source": [
        "# train / test 데이터셋 나누기\n",
        "from sklearn.model_selection import train_test_split\n",
        "X_train, X_test, y_train, y_test=train_test_split(X, y, stratify=y, random_state=42)"
      ],
      "metadata": {
        "id": "zp9HVqyCSsKj"
      },
      "execution_count": 45,
      "outputs": []
    },
    {
      "cell_type": "code",
      "source": [
        "print(X_train.shape, X_test.shape, y_train.shape, y_test.shape)"
      ],
      "metadata": {
        "colab": {
          "base_uri": "https://localhost:8080/"
        },
        "id": "SfiTuK3_f_Mb",
        "outputId": "0787f26e-34d8-46fd-d652-85a14a74a41c"
      },
      "execution_count": 46,
      "outputs": [
        {
          "output_type": "stream",
          "name": "stdout",
          "text": [
            "(16561, 8) (5521, 8) (16561,) (5521,)\n"
          ]
        }
      ]
    },
    {
      "cell_type": "markdown",
      "source": [
        "## 4. KNN"
      ],
      "metadata": {
        "id": "OxZgnqp0dVHx"
      }
    },
    {
      "cell_type": "markdown",
      "source": [
        "### Grid Search"
      ],
      "metadata": {
        "id": "ZAcwxCE5dZFY"
      }
    },
    {
      "cell_type": "code",
      "source": [
        "from sklearn.neighbors import KNeighborsClassifier\n",
        "knn = KNeighborsClassifier(n_neighbors = 3)"
      ],
      "metadata": {
        "id": "CYFspbag0kcd"
      },
      "execution_count": 47,
      "outputs": []
    },
    {
      "cell_type": "code",
      "source": [
        "from sklearn.model_selection import GridSearchCV\n",
        "param_grid={'n_neighbors': [1,2,3,4,5,6,7,8,9,10]}\n",
        "grid_search=GridSearchCV(KNeighborsClassifier(), param_grid, cv=5, return_train_score=True)\n",
        "grid_search.fit(X_train, y_train)"
      ],
      "metadata": {
        "colab": {
          "base_uri": "https://localhost:8080/"
        },
        "id": "66zPncef0viY",
        "outputId": "7df8029c-4596-4643-d505-4f9456912db6"
      },
      "execution_count": 48,
      "outputs": [
        {
          "output_type": "execute_result",
          "data": {
            "text/plain": [
              "GridSearchCV(cv=5, estimator=KNeighborsClassifier(),\n",
              "             param_grid={'n_neighbors': [1, 2, 3, 4, 5, 6, 7, 8, 9, 10]},\n",
              "             return_train_score=True)"
            ]
          },
          "metadata": {},
          "execution_count": 48
        }
      ]
    },
    {
      "cell_type": "code",
      "source": [
        "print(\"Best Parameter: {}\".format(grid_search.best_params_))"
      ],
      "metadata": {
        "colab": {
          "base_uri": "https://localhost:8080/"
        },
        "id": "HY93XIJt03lY",
        "outputId": "5bf6f2c5-b6f9-4b4b-ab3e-552c7b603ca7"
      },
      "execution_count": 49,
      "outputs": [
        {
          "output_type": "stream",
          "name": "stdout",
          "text": [
            "Best Parameter: {'n_neighbors': 3}\n"
          ]
        }
      ]
    },
    {
      "cell_type": "code",
      "source": [
        "print(\"Best Cross-validity Score: {:.3f}\".format(grid_search.best_score_))"
      ],
      "metadata": {
        "colab": {
          "base_uri": "https://localhost:8080/"
        },
        "id": "fs--Q7sI05yO",
        "outputId": "e213ab8c-c5cf-4803-bb19-2865ded84f9e"
      },
      "execution_count": 50,
      "outputs": [
        {
          "output_type": "stream",
          "name": "stdout",
          "text": [
            "Best Cross-validity Score: 0.461\n"
          ]
        }
      ]
    },
    {
      "cell_type": "code",
      "source": [
        "print(\"Test set Score: {:.3f}\".format(grid_search.score(X_test, y_test)))"
      ],
      "metadata": {
        "colab": {
          "base_uri": "https://localhost:8080/"
        },
        "id": "zAHoPC6v07ch",
        "outputId": "69ad8c74-a90a-4df9-d32b-34f644776258"
      },
      "execution_count": 51,
      "outputs": [
        {
          "output_type": "stream",
          "name": "stdout",
          "text": [
            "Test set Score: 0.460\n"
          ]
        }
      ]
    },
    {
      "cell_type": "code",
      "source": [
        "result_grid= pd.DataFrame(grid_search.cv_results_)"
      ],
      "metadata": {
        "id": "jdilqH7e0810"
      },
      "execution_count": 52,
      "outputs": []
    },
    {
      "cell_type": "markdown",
      "source": [
        "### Random Search"
      ],
      "metadata": {
        "id": "0-stw4Z2Sb0f"
      }
    },
    {
      "cell_type": "code",
      "source": [
        "from sklearn.model_selection import RandomizedSearchCV\n",
        "from scipy.stats import randint"
      ],
      "metadata": {
        "id": "2watvXEu1BUC"
      },
      "execution_count": 53,
      "outputs": []
    },
    {
      "cell_type": "code",
      "source": [
        "param_distribs = {'n_neighbors': randint(low=1, high=20)}\n",
        "random_search=RandomizedSearchCV(KNeighborsClassifier(), param_distributions=param_distribs, cv=5, return_train_score=True)\n",
        "random_search.fit(X_train, y_train)"
      ],
      "metadata": {
        "colab": {
          "base_uri": "https://localhost:8080/"
        },
        "id": "pL4KujqM1Q8e",
        "outputId": "5c3296a5-a75a-42cc-db97-a3175c12043d"
      },
      "execution_count": 54,
      "outputs": [
        {
          "output_type": "execute_result",
          "data": {
            "text/plain": [
              "RandomizedSearchCV(cv=5, estimator=KNeighborsClassifier(),\n",
              "                   param_distributions={'n_neighbors': <scipy.stats._distn_infrastructure.rv_frozen object at 0x7f5c4e4758b0>},\n",
              "                   return_train_score=True)"
            ]
          },
          "metadata": {},
          "execution_count": 54
        }
      ]
    },
    {
      "cell_type": "code",
      "source": [
        "print(\"Best Parameter: {}\".format(random_search.best_params_))\n",
        "print(\"Best Cross-validity Score: {:.3f}\".format(random_search.best_score_))\n",
        "print(\"Test set Score: {:.3f}\".format(random_search.score(X_test, y_test)))"
      ],
      "metadata": {
        "colab": {
          "base_uri": "https://localhost:8080/"
        },
        "id": "QnQKd3Gt1VCj",
        "outputId": "c10678c1-6b9e-4223-be93-3e2df5174285"
      },
      "execution_count": 55,
      "outputs": [
        {
          "output_type": "stream",
          "name": "stdout",
          "text": [
            "Best Parameter: {'n_neighbors': 7}\n",
            "Best Cross-validity Score: 0.447\n",
            "Test set Score: 0.449\n"
          ]
        }
      ]
    },
    {
      "cell_type": "code",
      "source": [
        "result_random = random_search.cv_results_\n",
        "pd.DataFrame(result_random)"
      ],
      "metadata": {
        "colab": {
          "base_uri": "https://localhost:8080/",
          "height": 630
        },
        "id": "EmGFvl6n1cFC",
        "outputId": "2ee5aec3-36e1-4956-955f-98a754143082"
      },
      "execution_count": 56,
      "outputs": [
        {
          "output_type": "execute_result",
          "data": {
            "text/plain": [
              "   mean_fit_time  std_fit_time  mean_score_time  std_score_time  \\\n",
              "0       0.028455      0.002223         0.109414        0.014229   \n",
              "1       0.026870      0.001172         0.110424        0.004295   \n",
              "2       0.026500      0.000220         0.112387        0.004988   \n",
              "3       0.026291      0.000265         0.113462        0.013662   \n",
              "4       0.027291      0.001559         0.109188        0.005146   \n",
              "5       0.027702      0.001979         0.103394        0.002492   \n",
              "6       0.026688      0.000940         0.108830        0.003686   \n",
              "7       0.026880      0.000283         0.107901        0.003135   \n",
              "8       0.028502      0.002620         0.117421        0.016303   \n",
              "9       0.032002      0.004118         0.129357        0.011767   \n",
              "\n",
              "  param_n_neighbors               params  split0_test_score  \\\n",
              "0                 4   {'n_neighbors': 4}           0.434953   \n",
              "1                19  {'n_neighbors': 19}           0.421672   \n",
              "2                15  {'n_neighbors': 15}           0.431935   \n",
              "3                14  {'n_neighbors': 14}           0.427709   \n",
              "4                13  {'n_neighbors': 13}           0.430426   \n",
              "5                11  {'n_neighbors': 11}           0.430727   \n",
              "6                15  {'n_neighbors': 15}           0.431935   \n",
              "7                15  {'n_neighbors': 15}           0.431935   \n",
              "8                 7   {'n_neighbors': 7}           0.440688   \n",
              "9                10  {'n_neighbors': 10}           0.434048   \n",
              "\n",
              "   split1_test_score  split2_test_score  split3_test_score  ...  \\\n",
              "0           0.434179           0.444444           0.441123  ...   \n",
              "1           0.421800           0.436292           0.430254  ...   \n",
              "2           0.428442           0.442633           0.439614  ...   \n",
              "3           0.432367           0.440821           0.443539  ...   \n",
              "4           0.429650           0.447464           0.439915  ...   \n",
              "5           0.442633           0.447766           0.446558  ...   \n",
              "6           0.428442           0.442633           0.439614  ...   \n",
              "7           0.428442           0.442633           0.439614  ...   \n",
              "8           0.446558           0.452899           0.452597  ...   \n",
              "9           0.434179           0.447464           0.451087  ...   \n",
              "\n",
              "   mean_test_score  std_test_score  rank_test_score  split0_train_score  \\\n",
              "0         0.438319        0.003896                4            0.657911   \n",
              "1         0.426484        0.005868               10            0.515550   \n",
              "2         0.436025        0.005157                7            0.541289   \n",
              "3         0.436266        0.005700                6            0.544158   \n",
              "4         0.437172        0.006589                5            0.550121   \n",
              "5         0.441399        0.006114                3            0.563255   \n",
              "6         0.436025        0.005157                7            0.541289   \n",
              "7         0.436025        0.005157                7            0.541289   \n",
              "8         0.447377        0.004767                1            0.605752   \n",
              "9         0.441942        0.006895                2            0.570426   \n",
              "\n",
              "   split1_train_score  split2_train_score  split3_train_score  \\\n",
              "0            0.658314            0.660276            0.658918   \n",
              "1            0.519737            0.514378            0.513624   \n",
              "2            0.537248            0.535663            0.534455   \n",
              "3            0.544494            0.540645            0.540418   \n",
              "4            0.550306            0.547588            0.544871   \n",
              "5            0.563061            0.565401            0.563590   \n",
              "6            0.537248            0.535663            0.534455   \n",
              "7            0.537248            0.535663            0.534455   \n",
              "8            0.608121            0.600649            0.605329   \n",
              "9            0.570986            0.573477            0.570458   \n",
              "\n",
              "   split4_train_score  mean_train_score  std_train_score  \n",
              "0            0.658389          0.658762         0.000822  \n",
              "1            0.514001          0.515458         0.002235  \n",
              "2            0.531889          0.536109         0.003126  \n",
              "3            0.537927          0.541528         0.002477  \n",
              "4            0.545098          0.547597         0.002340  \n",
              "5            0.561778          0.563417         0.001167  \n",
              "6            0.531889          0.536109         0.003126  \n",
              "7            0.531889          0.536109         0.003126  \n",
              "8            0.605329          0.605036         0.002427  \n",
              "9            0.570760          0.571222         0.001147  \n",
              "\n",
              "[10 rows x 21 columns]"
            ],
            "text/html": [
              "\n",
              "  <div id=\"df-368e7e5f-789d-4a3f-af79-0c76c986b821\">\n",
              "    <div class=\"colab-df-container\">\n",
              "      <div>\n",
              "<style scoped>\n",
              "    .dataframe tbody tr th:only-of-type {\n",
              "        vertical-align: middle;\n",
              "    }\n",
              "\n",
              "    .dataframe tbody tr th {\n",
              "        vertical-align: top;\n",
              "    }\n",
              "\n",
              "    .dataframe thead th {\n",
              "        text-align: right;\n",
              "    }\n",
              "</style>\n",
              "<table border=\"1\" class=\"dataframe\">\n",
              "  <thead>\n",
              "    <tr style=\"text-align: right;\">\n",
              "      <th></th>\n",
              "      <th>mean_fit_time</th>\n",
              "      <th>std_fit_time</th>\n",
              "      <th>mean_score_time</th>\n",
              "      <th>std_score_time</th>\n",
              "      <th>param_n_neighbors</th>\n",
              "      <th>params</th>\n",
              "      <th>split0_test_score</th>\n",
              "      <th>split1_test_score</th>\n",
              "      <th>split2_test_score</th>\n",
              "      <th>split3_test_score</th>\n",
              "      <th>...</th>\n",
              "      <th>mean_test_score</th>\n",
              "      <th>std_test_score</th>\n",
              "      <th>rank_test_score</th>\n",
              "      <th>split0_train_score</th>\n",
              "      <th>split1_train_score</th>\n",
              "      <th>split2_train_score</th>\n",
              "      <th>split3_train_score</th>\n",
              "      <th>split4_train_score</th>\n",
              "      <th>mean_train_score</th>\n",
              "      <th>std_train_score</th>\n",
              "    </tr>\n",
              "  </thead>\n",
              "  <tbody>\n",
              "    <tr>\n",
              "      <th>0</th>\n",
              "      <td>0.028455</td>\n",
              "      <td>0.002223</td>\n",
              "      <td>0.109414</td>\n",
              "      <td>0.014229</td>\n",
              "      <td>4</td>\n",
              "      <td>{'n_neighbors': 4}</td>\n",
              "      <td>0.434953</td>\n",
              "      <td>0.434179</td>\n",
              "      <td>0.444444</td>\n",
              "      <td>0.441123</td>\n",
              "      <td>...</td>\n",
              "      <td>0.438319</td>\n",
              "      <td>0.003896</td>\n",
              "      <td>4</td>\n",
              "      <td>0.657911</td>\n",
              "      <td>0.658314</td>\n",
              "      <td>0.660276</td>\n",
              "      <td>0.658918</td>\n",
              "      <td>0.658389</td>\n",
              "      <td>0.658762</td>\n",
              "      <td>0.000822</td>\n",
              "    </tr>\n",
              "    <tr>\n",
              "      <th>1</th>\n",
              "      <td>0.026870</td>\n",
              "      <td>0.001172</td>\n",
              "      <td>0.110424</td>\n",
              "      <td>0.004295</td>\n",
              "      <td>19</td>\n",
              "      <td>{'n_neighbors': 19}</td>\n",
              "      <td>0.421672</td>\n",
              "      <td>0.421800</td>\n",
              "      <td>0.436292</td>\n",
              "      <td>0.430254</td>\n",
              "      <td>...</td>\n",
              "      <td>0.426484</td>\n",
              "      <td>0.005868</td>\n",
              "      <td>10</td>\n",
              "      <td>0.515550</td>\n",
              "      <td>0.519737</td>\n",
              "      <td>0.514378</td>\n",
              "      <td>0.513624</td>\n",
              "      <td>0.514001</td>\n",
              "      <td>0.515458</td>\n",
              "      <td>0.002235</td>\n",
              "    </tr>\n",
              "    <tr>\n",
              "      <th>2</th>\n",
              "      <td>0.026500</td>\n",
              "      <td>0.000220</td>\n",
              "      <td>0.112387</td>\n",
              "      <td>0.004988</td>\n",
              "      <td>15</td>\n",
              "      <td>{'n_neighbors': 15}</td>\n",
              "      <td>0.431935</td>\n",
              "      <td>0.428442</td>\n",
              "      <td>0.442633</td>\n",
              "      <td>0.439614</td>\n",
              "      <td>...</td>\n",
              "      <td>0.436025</td>\n",
              "      <td>0.005157</td>\n",
              "      <td>7</td>\n",
              "      <td>0.541289</td>\n",
              "      <td>0.537248</td>\n",
              "      <td>0.535663</td>\n",
              "      <td>0.534455</td>\n",
              "      <td>0.531889</td>\n",
              "      <td>0.536109</td>\n",
              "      <td>0.003126</td>\n",
              "    </tr>\n",
              "    <tr>\n",
              "      <th>3</th>\n",
              "      <td>0.026291</td>\n",
              "      <td>0.000265</td>\n",
              "      <td>0.113462</td>\n",
              "      <td>0.013662</td>\n",
              "      <td>14</td>\n",
              "      <td>{'n_neighbors': 14}</td>\n",
              "      <td>0.427709</td>\n",
              "      <td>0.432367</td>\n",
              "      <td>0.440821</td>\n",
              "      <td>0.443539</td>\n",
              "      <td>...</td>\n",
              "      <td>0.436266</td>\n",
              "      <td>0.005700</td>\n",
              "      <td>6</td>\n",
              "      <td>0.544158</td>\n",
              "      <td>0.544494</td>\n",
              "      <td>0.540645</td>\n",
              "      <td>0.540418</td>\n",
              "      <td>0.537927</td>\n",
              "      <td>0.541528</td>\n",
              "      <td>0.002477</td>\n",
              "    </tr>\n",
              "    <tr>\n",
              "      <th>4</th>\n",
              "      <td>0.027291</td>\n",
              "      <td>0.001559</td>\n",
              "      <td>0.109188</td>\n",
              "      <td>0.005146</td>\n",
              "      <td>13</td>\n",
              "      <td>{'n_neighbors': 13}</td>\n",
              "      <td>0.430426</td>\n",
              "      <td>0.429650</td>\n",
              "      <td>0.447464</td>\n",
              "      <td>0.439915</td>\n",
              "      <td>...</td>\n",
              "      <td>0.437172</td>\n",
              "      <td>0.006589</td>\n",
              "      <td>5</td>\n",
              "      <td>0.550121</td>\n",
              "      <td>0.550306</td>\n",
              "      <td>0.547588</td>\n",
              "      <td>0.544871</td>\n",
              "      <td>0.545098</td>\n",
              "      <td>0.547597</td>\n",
              "      <td>0.002340</td>\n",
              "    </tr>\n",
              "    <tr>\n",
              "      <th>5</th>\n",
              "      <td>0.027702</td>\n",
              "      <td>0.001979</td>\n",
              "      <td>0.103394</td>\n",
              "      <td>0.002492</td>\n",
              "      <td>11</td>\n",
              "      <td>{'n_neighbors': 11}</td>\n",
              "      <td>0.430727</td>\n",
              "      <td>0.442633</td>\n",
              "      <td>0.447766</td>\n",
              "      <td>0.446558</td>\n",
              "      <td>...</td>\n",
              "      <td>0.441399</td>\n",
              "      <td>0.006114</td>\n",
              "      <td>3</td>\n",
              "      <td>0.563255</td>\n",
              "      <td>0.563061</td>\n",
              "      <td>0.565401</td>\n",
              "      <td>0.563590</td>\n",
              "      <td>0.561778</td>\n",
              "      <td>0.563417</td>\n",
              "      <td>0.001167</td>\n",
              "    </tr>\n",
              "    <tr>\n",
              "      <th>6</th>\n",
              "      <td>0.026688</td>\n",
              "      <td>0.000940</td>\n",
              "      <td>0.108830</td>\n",
              "      <td>0.003686</td>\n",
              "      <td>15</td>\n",
              "      <td>{'n_neighbors': 15}</td>\n",
              "      <td>0.431935</td>\n",
              "      <td>0.428442</td>\n",
              "      <td>0.442633</td>\n",
              "      <td>0.439614</td>\n",
              "      <td>...</td>\n",
              "      <td>0.436025</td>\n",
              "      <td>0.005157</td>\n",
              "      <td>7</td>\n",
              "      <td>0.541289</td>\n",
              "      <td>0.537248</td>\n",
              "      <td>0.535663</td>\n",
              "      <td>0.534455</td>\n",
              "      <td>0.531889</td>\n",
              "      <td>0.536109</td>\n",
              "      <td>0.003126</td>\n",
              "    </tr>\n",
              "    <tr>\n",
              "      <th>7</th>\n",
              "      <td>0.026880</td>\n",
              "      <td>0.000283</td>\n",
              "      <td>0.107901</td>\n",
              "      <td>0.003135</td>\n",
              "      <td>15</td>\n",
              "      <td>{'n_neighbors': 15}</td>\n",
              "      <td>0.431935</td>\n",
              "      <td>0.428442</td>\n",
              "      <td>0.442633</td>\n",
              "      <td>0.439614</td>\n",
              "      <td>...</td>\n",
              "      <td>0.436025</td>\n",
              "      <td>0.005157</td>\n",
              "      <td>7</td>\n",
              "      <td>0.541289</td>\n",
              "      <td>0.537248</td>\n",
              "      <td>0.535663</td>\n",
              "      <td>0.534455</td>\n",
              "      <td>0.531889</td>\n",
              "      <td>0.536109</td>\n",
              "      <td>0.003126</td>\n",
              "    </tr>\n",
              "    <tr>\n",
              "      <th>8</th>\n",
              "      <td>0.028502</td>\n",
              "      <td>0.002620</td>\n",
              "      <td>0.117421</td>\n",
              "      <td>0.016303</td>\n",
              "      <td>7</td>\n",
              "      <td>{'n_neighbors': 7}</td>\n",
              "      <td>0.440688</td>\n",
              "      <td>0.446558</td>\n",
              "      <td>0.452899</td>\n",
              "      <td>0.452597</td>\n",
              "      <td>...</td>\n",
              "      <td>0.447377</td>\n",
              "      <td>0.004767</td>\n",
              "      <td>1</td>\n",
              "      <td>0.605752</td>\n",
              "      <td>0.608121</td>\n",
              "      <td>0.600649</td>\n",
              "      <td>0.605329</td>\n",
              "      <td>0.605329</td>\n",
              "      <td>0.605036</td>\n",
              "      <td>0.002427</td>\n",
              "    </tr>\n",
              "    <tr>\n",
              "      <th>9</th>\n",
              "      <td>0.032002</td>\n",
              "      <td>0.004118</td>\n",
              "      <td>0.129357</td>\n",
              "      <td>0.011767</td>\n",
              "      <td>10</td>\n",
              "      <td>{'n_neighbors': 10}</td>\n",
              "      <td>0.434048</td>\n",
              "      <td>0.434179</td>\n",
              "      <td>0.447464</td>\n",
              "      <td>0.451087</td>\n",
              "      <td>...</td>\n",
              "      <td>0.441942</td>\n",
              "      <td>0.006895</td>\n",
              "      <td>2</td>\n",
              "      <td>0.570426</td>\n",
              "      <td>0.570986</td>\n",
              "      <td>0.573477</td>\n",
              "      <td>0.570458</td>\n",
              "      <td>0.570760</td>\n",
              "      <td>0.571222</td>\n",
              "      <td>0.001147</td>\n",
              "    </tr>\n",
              "  </tbody>\n",
              "</table>\n",
              "<p>10 rows × 21 columns</p>\n",
              "</div>\n",
              "      <button class=\"colab-df-convert\" onclick=\"convertToInteractive('df-368e7e5f-789d-4a3f-af79-0c76c986b821')\"\n",
              "              title=\"Convert this dataframe to an interactive table.\"\n",
              "              style=\"display:none;\">\n",
              "        \n",
              "  <svg xmlns=\"http://www.w3.org/2000/svg\" height=\"24px\"viewBox=\"0 0 24 24\"\n",
              "       width=\"24px\">\n",
              "    <path d=\"M0 0h24v24H0V0z\" fill=\"none\"/>\n",
              "    <path d=\"M18.56 5.44l.94 2.06.94-2.06 2.06-.94-2.06-.94-.94-2.06-.94 2.06-2.06.94zm-11 1L8.5 8.5l.94-2.06 2.06-.94-2.06-.94L8.5 2.5l-.94 2.06-2.06.94zm10 10l.94 2.06.94-2.06 2.06-.94-2.06-.94-.94-2.06-.94 2.06-2.06.94z\"/><path d=\"M17.41 7.96l-1.37-1.37c-.4-.4-.92-.59-1.43-.59-.52 0-1.04.2-1.43.59L10.3 9.45l-7.72 7.72c-.78.78-.78 2.05 0 2.83L4 21.41c.39.39.9.59 1.41.59.51 0 1.02-.2 1.41-.59l7.78-7.78 2.81-2.81c.8-.78.8-2.07 0-2.86zM5.41 20L4 18.59l7.72-7.72 1.47 1.35L5.41 20z\"/>\n",
              "  </svg>\n",
              "      </button>\n",
              "      \n",
              "  <style>\n",
              "    .colab-df-container {\n",
              "      display:flex;\n",
              "      flex-wrap:wrap;\n",
              "      gap: 12px;\n",
              "    }\n",
              "\n",
              "    .colab-df-convert {\n",
              "      background-color: #E8F0FE;\n",
              "      border: none;\n",
              "      border-radius: 50%;\n",
              "      cursor: pointer;\n",
              "      display: none;\n",
              "      fill: #1967D2;\n",
              "      height: 32px;\n",
              "      padding: 0 0 0 0;\n",
              "      width: 32px;\n",
              "    }\n",
              "\n",
              "    .colab-df-convert:hover {\n",
              "      background-color: #E2EBFA;\n",
              "      box-shadow: 0px 1px 2px rgba(60, 64, 67, 0.3), 0px 1px 3px 1px rgba(60, 64, 67, 0.15);\n",
              "      fill: #174EA6;\n",
              "    }\n",
              "\n",
              "    [theme=dark] .colab-df-convert {\n",
              "      background-color: #3B4455;\n",
              "      fill: #D2E3FC;\n",
              "    }\n",
              "\n",
              "    [theme=dark] .colab-df-convert:hover {\n",
              "      background-color: #434B5C;\n",
              "      box-shadow: 0px 1px 3px 1px rgba(0, 0, 0, 0.15);\n",
              "      filter: drop-shadow(0px 1px 2px rgba(0, 0, 0, 0.3));\n",
              "      fill: #FFFFFF;\n",
              "    }\n",
              "  </style>\n",
              "\n",
              "      <script>\n",
              "        const buttonEl =\n",
              "          document.querySelector('#df-368e7e5f-789d-4a3f-af79-0c76c986b821 button.colab-df-convert');\n",
              "        buttonEl.style.display =\n",
              "          google.colab.kernel.accessAllowed ? 'block' : 'none';\n",
              "\n",
              "        async function convertToInteractive(key) {\n",
              "          const element = document.querySelector('#df-368e7e5f-789d-4a3f-af79-0c76c986b821');\n",
              "          const dataTable =\n",
              "            await google.colab.kernel.invokeFunction('convertToInteractive',\n",
              "                                                     [key], {});\n",
              "          if (!dataTable) return;\n",
              "\n",
              "          const docLinkHtml = 'Like what you see? Visit the ' +\n",
              "            '<a target=\"_blank\" href=https://colab.research.google.com/notebooks/data_table.ipynb>data table notebook</a>'\n",
              "            + ' to learn more about interactive tables.';\n",
              "          element.innerHTML = '';\n",
              "          dataTable['output_type'] = 'display_data';\n",
              "          await google.colab.output.renderOutput(dataTable, element);\n",
              "          const docLink = document.createElement('div');\n",
              "          docLink.innerHTML = docLinkHtml;\n",
              "          element.appendChild(docLink);\n",
              "        }\n",
              "      </script>\n",
              "    </div>\n",
              "  </div>\n",
              "  "
            ]
          },
          "metadata": {},
          "execution_count": 56
        }
      ]
    },
    {
      "cell_type": "code",
      "source": [
        "import matplotlib.pyplot as plt\n",
        "plt.plot(result_random['param_n_neighbors'], result_random['mean_train_score'], label=\"Train\")\n",
        "plt.plot(result_random['param_n_neighbors'], result_random['mean_test_score'], label=\"Test\")\n",
        "plt.legend()"
      ],
      "metadata": {
        "colab": {
          "base_uri": "https://localhost:8080/",
          "height": 283
        },
        "id": "CAJ0D4iW1f8y",
        "outputId": "e8ef3632-c34b-4cac-96b9-724207dc479d"
      },
      "execution_count": 57,
      "outputs": [
        {
          "output_type": "execute_result",
          "data": {
            "text/plain": [
              "<matplotlib.legend.Legend at 0x7f5c4e47a490>"
            ]
          },
          "metadata": {},
          "execution_count": 57
        },
        {
          "output_type": "display_data",
          "data": {
            "text/plain": [
              "<Figure size 432x288 with 1 Axes>"
            ],
            "image/png": "[encoded data removed]"
          },
          "metadata": {}
        }
      ]
    },
    {
      "cell_type": "markdown",
      "source": [
        "### 모델평가"
      ],
      "metadata": {
        "id": "PZTjGg7I152r"
      }
    },
    {
      "cell_type": "code",
      "source": [
        "from sklearn.neighbors import KNeighborsClassifier"
      ],
      "metadata": {
        "id": "T7m9GvTK1g7a"
      },
      "execution_count": 58,
      "outputs": []
    },
    {
      "cell_type": "code",
      "source": [
        "knn_best=KNeighborsClassifier(n_neighbors=8)"
      ],
      "metadata": {
        "id": "SquOfWiN18OX"
      },
      "execution_count": 59,
      "outputs": []
    },
    {
      "cell_type": "code",
      "source": [
        "knn_best.fit(X_train, y_train)\n",
        "from sklearn.metrics import confusion_matrix\n",
        "# Confusion matrix에서\n",
        "pred_train=knn_best.predict(X_train) \n",
        "confusion_train=confusion_matrix(y_train, pred_train)\n",
        "print(\"훈련데이터 오차행렬:\\n\", confusion_train)"
      ],
      "metadata": {
        "colab": {
          "base_uri": "https://localhost:8080/"
        },
        "id": "ORUIJM-K19Ty",
        "outputId": "846a07e1-9ddb-4e19-a263-29dbad18e9bc"
      },
      "execution_count": 60,
      "outputs": [
        {
          "output_type": "stream",
          "name": "stdout",
          "text": [
            "훈련데이터 오차행렬:\n",
            " [[4901 1110  682]\n",
            " [2127 2896  288]\n",
            " [1964  529 2064]]\n"
          ]
        }
      ]
    },
    {
      "cell_type": "code",
      "source": [
        "pred_test=knn_best.predict(X_test)\n",
        "confusion_test=confusion_matrix(y_test, pred_test)\n",
        "print(\"테스트데이터 오차행렬:\\n\", confusion_test)\n"
      ],
      "metadata": {
        "colab": {
          "base_uri": "https://localhost:8080/"
        },
        "id": "RBnOhKJV2CNu",
        "outputId": "897318a0-e4e5-4b4e-e6be-8207f432b486"
      },
      "execution_count": 61,
      "outputs": [
        {
          "output_type": "stream",
          "name": "stdout",
          "text": [
            "테스트데이터 오차행렬:\n",
            " [[1310  566  356]\n",
            " [ 956  690  124]\n",
            " [ 858  223  438]]\n"
          ]
        }
      ]
    },
    {
      "cell_type": "code",
      "source": [
        "# from sklearn.metrics import f1_score\n",
        "# from sklearn.metrics import classification_report\n",
        "# f1=f1_score(y_test, pred_test)\n",
        "# print(\"f1 score:\", f1,'\\n')\n",
        "# cfreport=classification_report(y_test, pred_test)\n",
        "# print(\"분류예측 레포트:\\n\", cfreport)"
      ],
      "metadata": {
        "id": "XC9amPhr2F-c"
      },
      "execution_count": 62,
      "outputs": []
    },
    {
      "cell_type": "markdown",
      "source": [
        "## 5. Decision tree"
      ],
      "metadata": {
        "id": "ZJm-wLSL3XS3"
      }
    },
    {
      "cell_type": "code",
      "source": [
        "from sklearn.tree import DecisionTreeClassifier\n",
        "from sklearn.model_selection import train_test_split"
      ],
      "metadata": {
        "id": "8xQor8ZG5Fw_"
      },
      "execution_count": 63,
      "outputs": []
    },
    {
      "cell_type": "code",
      "source": [
        "X_train, X_test, y_train, y_test = train_test_split(X, y, test_size = 0.25, stratify = y, random_state = 42)\n",
        "\n",
        "tree = DecisionTreeClassifier(random_state = 0)\n",
        "tree.fit(X_train, y_train)\n",
        "print(\"학습용 데이터 정확도: {:.3f}\".format(tree.score(X_train, y_train)))\n",
        "print(\"시험용 데이터 정확도: {:.3f}\".format(tree.score(X_test, y_test)))\n",
        "# 완전 과적합"
      ],
      "metadata": {
        "id": "Xwipj76TAOup",
        "colab": {
          "base_uri": "https://localhost:8080/"
        },
        "outputId": "fd982947-e43f-4793-bab1-261ac3bbd27b"
      },
      "execution_count": 64,
      "outputs": [
        {
          "output_type": "stream",
          "name": "stdout",
          "text": [
            "학습용 데이터 정확도: 1.000\n",
            "시험용 데이터 정확도: 0.509\n"
          ]
        }
      ]
    },
    {
      "cell_type": "code",
      "source": [
        "# 과적합 낮추기 위해 max_depth 적용\n",
        "tree = DecisionTreeClassifier(max_depth = 6, random_state = 0)\n",
        "tree.fit(X_train, y_train)\n",
        "\n",
        "print(\"학습용 데이터 정확도: {:.3f}\".format(tree.score(X_train, y_train)))\n",
        "print(\"시험용 데이터 정확도: {:.3f}\".format(tree.score(X_test, y_test))) # 정확도 증가함"
      ],
      "metadata": {
        "colab": {
          "base_uri": "https://localhost:8080/"
        },
        "id": "UxGXx3Ro6tws",
        "outputId": "d7067ce2-e58f-46fb-c984-6ac1327fde29"
      },
      "execution_count": 65,
      "outputs": [
        {
          "output_type": "stream",
          "name": "stdout",
          "text": [
            "학습용 데이터 정확도: 0.458\n",
            "시험용 데이터 정확도: 0.421\n"
          ]
        }
      ]
    },
    {
      "cell_type": "code",
      "source": [
        "# graphviz 라이브러리를 이용하여 의사결정나무 그리기 \n",
        "# feature_names 머지\n",
        "from sklearn.tree import export_graphviz\n",
        "import graphviz\n",
        "\n",
        "export_graphviz(tree, out_file = \"tree.dot\", class_names = [ \"남\", \"여\", \"미기입\"],\n",
        "                feature_names = data_new.columns[1:9], \n",
        "                impurity = False, filled = True)\n",
        "\n",
        "with open(\"tree.dot\") as f:\n",
        "    dot_graph = f.read()\n",
        "\n",
        "display(graphviz.Source(dot_graph))"
      ],
      "metadata": {
        "colab": {
          "base_uri": "https://localhost:8080/",
          "height": 954
        },
        "id": "XhVQLcmq8lnk",
        "outputId": "a25eead5-fb7e-4a53-c3b7-591dc1164d04"
      },
      "execution_count": 66,
      "outputs": [
        {
          "output_type": "display_data",
          "data": {
            "text/plain": [
              "<graphviz.files.Source at 0x7f5c4e475100>"
            ],
            "image/svg+xml": "<?xml version=\"1.0\" encoding=\"UTF-8\" standalone=\"no\"?>\n<!DOCTYPE svg PUBLIC \"-//W3C//DTD SVG 1.1//EN\"\n \"http://www.w3.org/Graphics/SVG/1.1/DTD/svg11.dtd\">\n<!-- Generated by graphviz version 2.40.1 (20161225.0304)\n -->\n<!-- Title: Tree Pages: 1 -->\n<svg width=\"9705pt\" height=\"685pt\"\n viewBox=\"0.00 0.00 9705.00 685.00\" xmlns=\"http://www.w3.org/2000/svg\" xmlns:xlink=\"http://www.w3.org/1999/xlink\">\n<g id=\"graph0\" class=\"graph\" transform=\"scale(1 1) rotate(0) translate(4 681)\">\n<title>Tree</title>\n<polygon fill=\"#ffffff\" stroke=\"transparent\" points=\"-4,4 -4,-681 9701,-681 9701,4 -4,4\"/>\n<!-- 0 -->\n<g id=\"node1\" class=\"node\">\n<title>0</title>\n<polygon fill=\"#fcf0e7\" stroke=\"#000000\" points=\"5449,-677 5260,-677 5260,-609 5449,-609 5449,-677\"/>\n<text text-anchor=\"middle\" x=\"5354.5\" y=\"-661.8\" font-family=\"Helvetica,sans-Serif\" font-size=\"14.00\" fill=\"#000000\">연령대코드 &lt;= 359.445</text>\n<text text-anchor=\"middle\" x=\"5354.5\" y=\"-646.8\" font-family=\"Helvetica,sans-Serif\" font-size=\"14.00\" fill=\"#000000\">samples = 16561</text>\n<text text-anchor=\"middle\" x=\"5354.5\" y=\"-631.8\" font-family=\"Helvetica,sans-Serif\" font-size=\"14.00\" fill=\"#000000\">value = [6693, 5311, 4557]</text>\n<text text-anchor=\"middle\" x=\"5354.5\" y=\"-616.8\" font-family=\"Helvetica,sans-Serif\" font-size=\"14.00\" fill=\"#000000\">class = 남</text>\n</g>\n<!-- 1 -->\n<g id=\"node2\" class=\"node\">\n<title>1</title>\n<polygon fill=\"#f9e1d0\" stroke=\"#000000\" points=\"3904,-573 3715,-573 3715,-505 3904,-505 3904,-573\"/>\n<text text-anchor=\"middle\" x=\"3809.5\" y=\"-557.8\" font-family=\"Helvetica,sans-Serif\" font-size=\"14.00\" fill=\"#000000\">대여구분 &lt;= 1.5</text>\n<text text-anchor=\"middle\" x=\"3809.5\" y=\"-542.8\" font-family=\"Helvetica,sans-Serif\" font-size=\"14.00\" fill=\"#000000\">samples = 6875</text>\n<text text-anchor=\"middle\" x=\"3809.5\" y=\"-527.8\" font-family=\"Helvetica,sans-Serif\" font-size=\"14.00\" fill=\"#000000\">value = [3161, 1701, 2013]</text>\n<text text-anchor=\"middle\" x=\"3809.5\" y=\"-512.8\" font-family=\"Helvetica,sans-Serif\" font-size=\"14.00\" fill=\"#000000\">class = 남</text>\n</g>\n<!-- 0&#45;&gt;1 -->\n<g id=\"edge1\" class=\"edge\">\n<title>0&#45;&gt;1</title>\n<path fill=\"none\" stroke=\"#000000\" d=\"M5259.8897,-636.6314C4986.9866,-618.2612 4199.6859,-565.2649 3914.3523,-546.058\"/>\n<polygon fill=\"#000000\" stroke=\"#000000\" points=\"3914.2184,-542.5412 3904.0058,-545.3616 3913.7482,-549.5254 3914.2184,-542.5412\"/>\n<text text-anchor=\"middle\" x=\"3920.4563\" y=\"-560.4866\" font-family=\"Helvetica,sans-Serif\" font-size=\"14.00\" fill=\"#000000\">True</text>\n</g>\n<!-- 64 -->\n<g id=\"node65\" class=\"node\">\n<title>64</title>\n<polygon fill=\"#fcfffd\" stroke=\"#000000\" points=\"6048,-573 5859,-573 5859,-505 6048,-505 6048,-573\"/>\n<text text-anchor=\"middle\" x=\"5953.5\" y=\"-557.8\" font-family=\"Helvetica,sans-Serif\" font-size=\"14.00\" fill=\"#000000\">운동량 &lt;= 14964.85</text>\n<text text-anchor=\"middle\" x=\"5953.5\" y=\"-542.8\" font-family=\"Helvetica,sans-Serif\" font-size=\"14.00\" fill=\"#000000\">samples = 9686</text>\n<text text-anchor=\"middle\" x=\"5953.5\" y=\"-527.8\" font-family=\"Helvetica,sans-Serif\" font-size=\"14.00\" fill=\"#000000\">value = [3532, 3610, 2544]</text>\n<text text-anchor=\"middle\" x=\"5953.5\" y=\"-512.8\" font-family=\"Helvetica,sans-Serif\" font-size=\"14.00\" fill=\"#000000\">class = 여</text>\n</g>\n<!-- 0&#45;&gt;64 -->\n<g id=\"edge64\" class=\"edge\">\n<title>0&#45;&gt;64</title>\n<path fill=\"none\" stroke=\"#000000\" d=\"M5449.0828,-626.5783C5557.8891,-607.687 5736.0155,-576.7602 5848.8825,-557.164\"/>\n<polygon fill=\"#000000\" stroke=\"#000000\" points=\"5849.6659,-560.5804 5858.9198,-555.4213 5848.4684,-553.6836 5849.6659,-560.5804\"/>\n<text text-anchor=\"middle\" x=\"5844.5267\" y=\"-572.1624\" font-family=\"Helvetica,sans-Serif\" font-size=\"14.00\" fill=\"#000000\">False</text>\n</g>\n<!-- 2 -->\n<g id=\"node3\" class=\"node\">\n<title>2</title>\n<polygon fill=\"#fdf5ef\" stroke=\"#000000\" points=\"1867.5,-469 1703.5,-469 1703.5,-401 1867.5,-401 1867.5,-469\"/>\n<text text-anchor=\"middle\" x=\"1785.5\" y=\"-453.8\" font-family=\"Helvetica,sans-Serif\" font-size=\"14.00\" fill=\"#000000\">연령대코드 &lt;= 116.74</text>\n<text text-anchor=\"middle\" x=\"1785.5\" y=\"-438.8\" font-family=\"Helvetica,sans-Serif\" font-size=\"14.00\" fill=\"#000000\">samples = 2103</text>\n<text text-anchor=\"middle\" x=\"1785.5\" y=\"-423.8\" font-family=\"Helvetica,sans-Serif\" font-size=\"14.00\" fill=\"#000000\">value = [804, 612, 687]</text>\n<text text-anchor=\"middle\" x=\"1785.5\" y=\"-408.8\" font-family=\"Helvetica,sans-Serif\" font-size=\"14.00\" fill=\"#000000\">class = 남</text>\n</g>\n<!-- 1&#45;&gt;2 -->\n<g id=\"edge2\" class=\"edge\">\n<title>1&#45;&gt;2</title>\n<path fill=\"none\" stroke=\"#000000\" d=\"M3714.9299,-534.1407C3374.6329,-516.6551 2214.8471,-457.0613 1877.9607,-439.7509\"/>\n<polygon fill=\"#000000\" stroke=\"#000000\" points=\"1877.9234,-436.2445 1867.7569,-439.2266 1877.5641,-443.2353 1877.9234,-436.2445\"/>\n</g>\n<!-- 33 -->\n<g id=\"node34\" class=\"node\">\n<title>33</title>\n<polygon fill=\"#f7d9c4\" stroke=\"#000000\" points=\"3904,-469 3715,-469 3715,-401 3904,-401 3904,-469\"/>\n<text text-anchor=\"middle\" x=\"3809.5\" y=\"-453.8\" font-family=\"Helvetica,sans-Serif\" font-size=\"14.00\" fill=\"#000000\">대여구분 &lt;= 5.5</text>\n<text text-anchor=\"middle\" x=\"3809.5\" y=\"-438.8\" font-family=\"Helvetica,sans-Serif\" font-size=\"14.00\" fill=\"#000000\">samples = 4772</text>\n<text text-anchor=\"middle\" x=\"3809.5\" y=\"-423.8\" font-family=\"Helvetica,sans-Serif\" font-size=\"14.00\" fill=\"#000000\">value = [2357, 1089, 1326]</text>\n<text text-anchor=\"middle\" x=\"3809.5\" y=\"-408.8\" font-family=\"Helvetica,sans-Serif\" font-size=\"14.00\" fill=\"#000000\">class = 남</text>\n</g>\n<!-- 1&#45;&gt;33 -->\n<g id=\"edge33\" class=\"edge\">\n<title>1&#45;&gt;33</title>\n<path fill=\"none\" stroke=\"#000000\" d=\"M3809.5,-504.9465C3809.5,-496.776 3809.5,-487.9318 3809.5,-479.3697\"/>\n<polygon fill=\"#000000\" stroke=\"#000000\" points=\"3813.0001,-479.13 3809.5,-469.13 3806.0001,-479.13 3813.0001,-479.13\"/>\n</g>\n<!-- 3 -->\n<g id=\"node4\" class=\"node\">\n<title>3</title>\n<polygon fill=\"#fbeee4\" stroke=\"#000000\" points=\"904.5,-365 740.5,-365 740.5,-297 904.5,-297 904.5,-365\"/>\n<text text-anchor=\"middle\" x=\"822.5\" y=\"-349.8\" font-family=\"Helvetica,sans-Serif\" font-size=\"14.00\" fill=\"#000000\">운동량 &lt;= 365.0</text>\n<text text-anchor=\"middle\" x=\"822.5\" y=\"-334.8\" font-family=\"Helvetica,sans-Serif\" font-size=\"14.00\" fill=\"#000000\">samples = 1021</text>\n<text text-anchor=\"middle\" x=\"822.5\" y=\"-319.8\" font-family=\"Helvetica,sans-Serif\" font-size=\"14.00\" fill=\"#000000\">value = [441, 232, 348]</text>\n<text text-anchor=\"middle\" x=\"822.5\" y=\"-304.8\" font-family=\"Helvetica,sans-Serif\" font-size=\"14.00\" fill=\"#000000\">class = 남</text>\n</g>\n<!-- 2&#45;&gt;3 -->\n<g id=\"edge3\" class=\"edge\">\n<title>2&#45;&gt;3</title>\n<path fill=\"none\" stroke=\"#000000\" d=\"M1703.3952,-426.133C1524.856,-406.8515 1102.3167,-361.219 914.8442,-340.9728\"/>\n<polygon fill=\"#000000\" stroke=\"#000000\" points=\"915.0561,-337.4754 904.7381,-339.8814 914.3044,-344.4349 915.0561,-337.4754\"/>\n</g>\n<!-- 18 -->\n<g id=\"node19\" class=\"node\">\n<title>18</title>\n<polygon fill=\"#fafefc\" stroke=\"#000000\" points=\"1867.5,-365 1703.5,-365 1703.5,-297 1867.5,-297 1867.5,-365\"/>\n<text text-anchor=\"middle\" x=\"1785.5\" y=\"-349.8\" font-family=\"Helvetica,sans-Serif\" font-size=\"14.00\" fill=\"#000000\">탄소량 &lt;= 65.5</text>\n<text text-anchor=\"middle\" x=\"1785.5\" y=\"-334.8\" font-family=\"Helvetica,sans-Serif\" font-size=\"14.00\" fill=\"#000000\">samples = 1082</text>\n<text text-anchor=\"middle\" x=\"1785.5\" y=\"-319.8\" font-family=\"Helvetica,sans-Serif\" font-size=\"14.00\" fill=\"#000000\">value = [363, 380, 339]</text>\n<text text-anchor=\"middle\" x=\"1785.5\" y=\"-304.8\" font-family=\"Helvetica,sans-Serif\" font-size=\"14.00\" fill=\"#000000\">class = 여</text>\n</g>\n<!-- 2&#45;&gt;18 -->\n<g id=\"edge18\" class=\"edge\">\n<title>2&#45;&gt;18</title>\n<path fill=\"none\" stroke=\"#000000\" d=\"M1785.5,-400.9465C1785.5,-392.776 1785.5,-383.9318 1785.5,-375.3697\"/>\n<polygon fill=\"#000000\" stroke=\"#000000\" points=\"1789.0001,-375.13 1785.5,-365.13 1782.0001,-375.13 1789.0001,-375.13\"/>\n</g>\n<!-- 4 -->\n<g id=\"node5\" class=\"node\">\n<title>4</title>\n<polygon fill=\"#f1fdf6\" stroke=\"#000000\" points=\"483,-261 338,-261 338,-193 483,-193 483,-261\"/>\n<text text-anchor=\"middle\" x=\"410.5\" y=\"-245.8\" font-family=\"Helvetica,sans-Serif\" font-size=\"14.00\" fill=\"#000000\">연령대코드 &lt;= 6.575</text>\n<text text-anchor=\"middle\" x=\"410.5\" y=\"-230.8\" font-family=\"Helvetica,sans-Serif\" font-size=\"14.00\" fill=\"#000000\">samples = 24</text>\n<text text-anchor=\"middle\" x=\"410.5\" y=\"-215.8\" font-family=\"Helvetica,sans-Serif\" font-size=\"14.00\" fill=\"#000000\">value = [3, 11, 10]</text>\n<text text-anchor=\"middle\" x=\"410.5\" y=\"-200.8\" font-family=\"Helvetica,sans-Serif\" font-size=\"14.00\" fill=\"#000000\">class = 여</text>\n</g>\n<!-- 3&#45;&gt;4 -->\n<g id=\"edge4\" class=\"edge\">\n<title>3&#45;&gt;4</title>\n<path fill=\"none\" stroke=\"#000000\" d=\"M740.1159,-310.204C668.3465,-292.0875 564.8107,-265.9522 493.0055,-247.8266\"/>\n<polygon fill=\"#000000\" stroke=\"#000000\" points=\"493.6432,-244.3779 483.0907,-245.3239 491.9299,-251.165 493.6432,-244.3779\"/>\n</g>\n<!-- 11 -->\n<g id=\"node12\" class=\"node\">\n<title>11</title>\n<polygon fill=\"#fbece1\" stroke=\"#000000\" points=\"904.5,-261 740.5,-261 740.5,-193 904.5,-193 904.5,-261\"/>\n<text text-anchor=\"middle\" x=\"822.5\" y=\"-245.8\" font-family=\"Helvetica,sans-Serif\" font-size=\"14.00\" fill=\"#000000\">연령대코드 &lt;= 14.16</text>\n<text text-anchor=\"middle\" x=\"822.5\" y=\"-230.8\" font-family=\"Helvetica,sans-Serif\" font-size=\"14.00\" fill=\"#000000\">samples = 997</text>\n<text text-anchor=\"middle\" x=\"822.5\" y=\"-215.8\" font-family=\"Helvetica,sans-Serif\" font-size=\"14.00\" fill=\"#000000\">value = [438, 221, 338]</text>\n<text text-anchor=\"middle\" x=\"822.5\" y=\"-200.8\" font-family=\"Helvetica,sans-Serif\" font-size=\"14.00\" fill=\"#000000\">class = 남</text>\n</g>\n<!-- 3&#45;&gt;11 -->\n<g id=\"edge11\" class=\"edge\">\n<title>3&#45;&gt;11</title>\n<path fill=\"none\" stroke=\"#000000\" d=\"M822.5,-296.9465C822.5,-288.776 822.5,-279.9318 822.5,-271.3697\"/>\n<polygon fill=\"#000000\" stroke=\"#000000\" points=\"826.0001,-271.13 822.5,-261.13 819.0001,-271.13 826.0001,-271.13\"/>\n</g>\n<!-- 5 -->\n<g id=\"node6\" class=\"node\">\n<title>5</title>\n<polygon fill=\"#b68cf0\" stroke=\"#000000\" points=\"271,-157 126,-157 126,-89 271,-89 271,-157\"/>\n<text text-anchor=\"middle\" x=\"198.5\" y=\"-141.8\" font-family=\"Helvetica,sans-Serif\" font-size=\"14.00\" fill=\"#000000\">연령대코드 &lt;= 6.255</text>\n<text text-anchor=\"middle\" x=\"198.5\" y=\"-126.8\" font-family=\"Helvetica,sans-Serif\" font-size=\"14.00\" fill=\"#000000\">samples = 15</text>\n<text text-anchor=\"middle\" x=\"198.5\" y=\"-111.8\" font-family=\"Helvetica,sans-Serif\" font-size=\"14.00\" fill=\"#000000\">value = [2, 3, 10]</text>\n<text text-anchor=\"middle\" x=\"198.5\" y=\"-96.8\" font-family=\"Helvetica,sans-Serif\" font-size=\"14.00\" fill=\"#000000\">class = 미기입</text>\n</g>\n<!-- 4&#45;&gt;5 -->\n<g id=\"edge5\" class=\"edge\">\n<title>4&#45;&gt;5</title>\n<path fill=\"none\" stroke=\"#000000\" d=\"M341.0833,-192.9465C320.6761,-182.9354 298.207,-171.9129 277.2603,-161.6371\"/>\n<polygon fill=\"#000000\" stroke=\"#000000\" points=\"278.5921,-158.392 268.0727,-157.13 275.5091,-164.6766 278.5921,-158.392\"/>\n</g>\n<!-- 8 -->\n<g id=\"node9\" class=\"node\">\n<title>8</title>\n<polygon fill=\"#52e891\" stroke=\"#000000\" points=\"477.5,-157 343.5,-157 343.5,-89 477.5,-89 477.5,-157\"/>\n<text text-anchor=\"middle\" x=\"410.5\" y=\"-141.8\" font-family=\"Helvetica,sans-Serif\" font-size=\"14.00\" fill=\"#000000\">운동량 &lt;= 310.775</text>\n<text text-anchor=\"middle\" x=\"410.5\" y=\"-126.8\" font-family=\"Helvetica,sans-Serif\" font-size=\"14.00\" fill=\"#000000\">samples = 9</text>\n<text text-anchor=\"middle\" x=\"410.5\" y=\"-111.8\" font-family=\"Helvetica,sans-Serif\" font-size=\"14.00\" fill=\"#000000\">value = [1, 8, 0]</text>\n<text text-anchor=\"middle\" x=\"410.5\" y=\"-96.8\" font-family=\"Helvetica,sans-Serif\" font-size=\"14.00\" fill=\"#000000\">class = 여</text>\n</g>\n<!-- 4&#45;&gt;8 -->\n<g id=\"edge8\" class=\"edge\">\n<title>4&#45;&gt;8</title>\n<path fill=\"none\" stroke=\"#000000\" d=\"M410.5,-192.9465C410.5,-184.776 410.5,-175.9318 410.5,-167.3697\"/>\n<polygon fill=\"#000000\" stroke=\"#000000\" points=\"414.0001,-167.13 410.5,-157.13 407.0001,-167.13 414.0001,-167.13\"/>\n</g>\n<!-- 6 -->\n<g id=\"node7\" class=\"node\">\n<title>6</title>\n<polygon fill=\"#af81ee\" stroke=\"#000000\" points=\"123,-53 0,-53 0,0 123,0 123,-53\"/>\n<text text-anchor=\"middle\" x=\"61.5\" y=\"-37.8\" font-family=\"Helvetica,sans-Serif\" font-size=\"14.00\" fill=\"#000000\">samples = 14</text>\n<text text-anchor=\"middle\" x=\"61.5\" y=\"-22.8\" font-family=\"Helvetica,sans-Serif\" font-size=\"14.00\" fill=\"#000000\">value = [1, 3, 10]</text>\n<text text-anchor=\"middle\" x=\"61.5\" y=\"-7.8\" font-family=\"Helvetica,sans-Serif\" font-size=\"14.00\" fill=\"#000000\">class = 미기입</text>\n</g>\n<!-- 5&#45;&gt;6 -->\n<g id=\"edge6\" class=\"edge\">\n<title>5&#45;&gt;6</title>\n<path fill=\"none\" stroke=\"#000000\" d=\"M150.1989,-88.9777C136.4189,-79.2713 121.4411,-68.7213 107.7845,-59.1018\"/>\n<polygon fill=\"#000000\" stroke=\"#000000\" points=\"109.6655,-56.1457 99.4745,-53.2485 105.6345,-61.8686 109.6655,-56.1457\"/>\n</g>\n<!-- 7 -->\n<g id=\"node8\" class=\"node\">\n<title>7</title>\n<polygon fill=\"#e58139\" stroke=\"#000000\" points=\"256,-53 141,-53 141,0 256,0 256,-53\"/>\n<text text-anchor=\"middle\" x=\"198.5\" y=\"-37.8\" font-family=\"Helvetica,sans-Serif\" font-size=\"14.00\" fill=\"#000000\">samples = 1</text>\n<text text-anchor=\"middle\" x=\"198.5\" y=\"-22.8\" font-family=\"Helvetica,sans-Serif\" font-size=\"14.00\" fill=\"#000000\">value = [1, 0, 0]</text>\n<text text-anchor=\"middle\" x=\"198.5\" y=\"-7.8\" font-family=\"Helvetica,sans-Serif\" font-size=\"14.00\" fill=\"#000000\">class = 남</text>\n</g>\n<!-- 5&#45;&gt;7 -->\n<g id=\"edge7\" class=\"edge\">\n<title>5&#45;&gt;7</title>\n<path fill=\"none\" stroke=\"#000000\" d=\"M198.5,-88.9777C198.5,-80.7364 198.5,-71.887 198.5,-63.5153\"/>\n<polygon fill=\"#000000\" stroke=\"#000000\" points=\"202.0001,-63.2484 198.5,-53.2485 195.0001,-63.2485 202.0001,-63.2484\"/>\n</g>\n<!-- 9 -->\n<g id=\"node10\" class=\"node\">\n<title>9</title>\n<polygon fill=\"#39e581\" stroke=\"#000000\" points=\"389,-53 274,-53 274,0 389,0 389,-53\"/>\n<text text-anchor=\"middle\" x=\"331.5\" y=\"-37.8\" font-family=\"Helvetica,sans-Serif\" font-size=\"14.00\" fill=\"#000000\">samples = 5</text>\n<text text-anchor=\"middle\" x=\"331.5\" y=\"-22.8\" font-family=\"Helvetica,sans-Serif\" font-size=\"14.00\" fill=\"#000000\">value = [0, 5, 0]</text>\n<text text-anchor=\"middle\" x=\"331.5\" y=\"-7.8\" font-family=\"Helvetica,sans-Serif\" font-size=\"14.00\" fill=\"#000000\">class = 여</text>\n</g>\n<!-- 8&#45;&gt;9 -->\n<g id=\"edge9\" class=\"edge\">\n<title>8&#45;&gt;9</title>\n<path fill=\"none\" stroke=\"#000000\" d=\"M382.6476,-88.9777C375.2261,-79.9123 367.2023,-70.111 359.7593,-61.0192\"/>\n<polygon fill=\"#000000\" stroke=\"#000000\" points=\"362.4405,-58.7692 353.3977,-53.2485 357.0241,-63.2034 362.4405,-58.7692\"/>\n</g>\n<!-- 10 -->\n<g id=\"node11\" class=\"node\">\n<title>10</title>\n<polygon fill=\"#7beeab\" stroke=\"#000000\" points=\"522,-53 407,-53 407,0 522,0 522,-53\"/>\n<text text-anchor=\"middle\" x=\"464.5\" y=\"-37.8\" font-family=\"Helvetica,sans-Serif\" font-size=\"14.00\" fill=\"#000000\">samples = 4</text>\n<text text-anchor=\"middle\" x=\"464.5\" y=\"-22.8\" font-family=\"Helvetica,sans-Serif\" font-size=\"14.00\" fill=\"#000000\">value = [1, 3, 0]</text>\n<text text-anchor=\"middle\" x=\"464.5\" y=\"-7.8\" font-family=\"Helvetica,sans-Serif\" font-size=\"14.00\" fill=\"#000000\">class = 여</text>\n</g>\n<!-- 8&#45;&gt;10 -->\n<g id=\"edge10\" class=\"edge\">\n<title>8&#45;&gt;10</title>\n<path fill=\"none\" stroke=\"#000000\" d=\"M429.5384,-88.9777C434.4063,-80.2786 439.6534,-70.9018 444.565,-62.1247\"/>\n<polygon fill=\"#000000\" stroke=\"#000000\" points=\"447.7029,-63.6843 449.5319,-53.2485 441.5943,-60.2659 447.7029,-63.6843\"/>\n</g>\n<!-- 12 -->\n<g id=\"node13\" class=\"node\">\n<title>12</title>\n<polygon fill=\"#f1bc96\" stroke=\"#000000\" points=\"806,-157 669,-157 669,-89 806,-89 806,-157\"/>\n<text text-anchor=\"middle\" x=\"737.5\" y=\"-141.8\" font-family=\"Helvetica,sans-Serif\" font-size=\"14.00\" fill=\"#000000\">연령대코드 &lt;= 5.57</text>\n<text text-anchor=\"middle\" x=\"737.5\" y=\"-126.8\" font-family=\"Helvetica,sans-Serif\" font-size=\"14.00\" fill=\"#000000\">samples = 48</text>\n<text text-anchor=\"middle\" x=\"737.5\" y=\"-111.8\" font-family=\"Helvetica,sans-Serif\" font-size=\"14.00\" fill=\"#000000\">value = [32, 2, 14]</text>\n<text text-anchor=\"middle\" x=\"737.5\" y=\"-96.8\" font-family=\"Helvetica,sans-Serif\" font-size=\"14.00\" fill=\"#000000\">class = 남</text>\n</g>\n<!-- 11&#45;&gt;12 -->\n<g id=\"edge12\" class=\"edge\">\n<title>11&#45;&gt;12</title>\n<path fill=\"none\" stroke=\"#000000\" d=\"M794.6678,-192.9465C787.403,-184.0578 779.4864,-174.3716 771.924,-165.1188\"/>\n<polygon fill=\"#000000\" stroke=\"#000000\" points=\"774.4331,-162.658 765.3947,-157.13 769.013,-167.0878 774.4331,-162.658\"/>\n</g>\n<!-- 15 -->\n<g id=\"node16\" class=\"node\">\n<title>15</title>\n<polygon fill=\"#fceee5\" stroke=\"#000000\" points=\"988.5,-157 824.5,-157 824.5,-89 988.5,-89 988.5,-157\"/>\n<text text-anchor=\"middle\" x=\"906.5\" y=\"-141.8\" font-family=\"Helvetica,sans-Serif\" font-size=\"14.00\" fill=\"#000000\">운동량 &lt;= 3380.125</text>\n<text text-anchor=\"middle\" x=\"906.5\" y=\"-126.8\" font-family=\"Helvetica,sans-Serif\" font-size=\"14.00\" fill=\"#000000\">samples = 949</text>\n<text text-anchor=\"middle\" x=\"906.5\" y=\"-111.8\" font-family=\"Helvetica,sans-Serif\" font-size=\"14.00\" fill=\"#000000\">value = [406, 219, 324]</text>\n<text text-anchor=\"middle\" x=\"906.5\" y=\"-96.8\" font-family=\"Helvetica,sans-Serif\" font-size=\"14.00\" fill=\"#000000\">class = 남</text>\n</g>\n<!-- 11&#45;&gt;15 -->\n<g id=\"edge15\" class=\"edge\">\n<title>11&#45;&gt;15</title>\n<path fill=\"none\" stroke=\"#000000\" d=\"M850.0047,-192.9465C857.1841,-184.0578 865.0076,-174.3716 872.481,-165.1188\"/>\n<polygon fill=\"#000000\" stroke=\"#000000\" points=\"875.3729,-167.1086 878.9335,-157.13 869.9273,-162.7102 875.3729,-167.1086\"/>\n</g>\n<!-- 13 -->\n<g id=\"node14\" class=\"node\">\n<title>13</title>\n<polygon fill=\"#e58139\" stroke=\"#000000\" points=\"655,-53 540,-53 540,0 655,0 655,-53\"/>\n<text text-anchor=\"middle\" x=\"597.5\" y=\"-37.8\" font-family=\"Helvetica,sans-Serif\" font-size=\"14.00\" fill=\"#000000\">samples = 7</text>\n<text text-anchor=\"middle\" x=\"597.5\" y=\"-22.8\" font-family=\"Helvetica,sans-Serif\" font-size=\"14.00\" fill=\"#000000\">value = [7, 0, 0]</text>\n<text text-anchor=\"middle\" x=\"597.5\" y=\"-7.8\" font-family=\"Helvetica,sans-Serif\" font-size=\"14.00\" fill=\"#000000\">class = 남</text>\n</g>\n<!-- 12&#45;&gt;13 -->\n<g id=\"edge13\" class=\"edge\">\n<title>12&#45;&gt;13</title>\n<path fill=\"none\" stroke=\"#000000\" d=\"M688.1412,-88.9777C674.0594,-79.2713 658.7537,-68.7213 644.798,-59.1018\"/>\n<polygon fill=\"#000000\" stroke=\"#000000\" points=\"646.526,-56.042 636.3061,-53.2485 642.5533,-61.8055 646.526,-56.042\"/>\n</g>\n<!-- 14 -->\n<g id=\"node15\" class=\"node\">\n<title>14</title>\n<polygon fill=\"#f4ccae\" stroke=\"#000000\" points=\"804,-53 673,-53 673,0 804,0 804,-53\"/>\n<text text-anchor=\"middle\" x=\"738.5\" y=\"-37.8\" font-family=\"Helvetica,sans-Serif\" font-size=\"14.00\" fill=\"#000000\">samples = 41</text>\n<text text-anchor=\"middle\" x=\"738.5\" y=\"-22.8\" font-family=\"Helvetica,sans-Serif\" font-size=\"14.00\" fill=\"#000000\">value = [25, 2, 14]</text>\n<text text-anchor=\"middle\" x=\"738.5\" y=\"-7.8\" font-family=\"Helvetica,sans-Serif\" font-size=\"14.00\" fill=\"#000000\">class = 남</text>\n</g>\n<!-- 12&#45;&gt;14 -->\n<g id=\"edge14\" class=\"edge\">\n<title>12&#45;&gt;14</title>\n<path fill=\"none\" stroke=\"#000000\" d=\"M737.8526,-88.9777C737.938,-80.7364 738.0297,-71.887 738.1164,-63.5153\"/>\n<polygon fill=\"#000000\" stroke=\"#000000\" points=\"741.6189,-63.2842 738.2228,-53.2485 734.6193,-63.2116 741.6189,-63.2842\"/>\n</g>\n<!-- 16 -->\n<g id=\"node17\" class=\"node\">\n<title>16</title>\n<polygon fill=\"#fae7da\" stroke=\"#000000\" points=\"986.5,-53 822.5,-53 822.5,0 986.5,0 986.5,-53\"/>\n<text text-anchor=\"middle\" x=\"904.5\" y=\"-37.8\" font-family=\"Helvetica,sans-Serif\" font-size=\"14.00\" fill=\"#000000\">samples = 699</text>\n<text text-anchor=\"middle\" x=\"904.5\" y=\"-22.8\" font-family=\"Helvetica,sans-Serif\" font-size=\"14.00\" fill=\"#000000\">value = [307, 176, 216]</text>\n<text text-anchor=\"middle\" x=\"904.5\" y=\"-7.8\" font-family=\"Helvetica,sans-Serif\" font-size=\"14.00\" fill=\"#000000\">class = 남</text>\n</g>\n<!-- 15&#45;&gt;16 -->\n<g id=\"edge16\" class=\"edge\">\n<title>15&#45;&gt;16</title>\n<path fill=\"none\" stroke=\"#000000\" d=\"M905.7949,-88.9777C905.6241,-80.7364 905.4407,-71.887 905.2672,-63.5153\"/>\n<polygon fill=\"#000000\" stroke=\"#000000\" points=\"908.7609,-63.1738 905.0544,-53.2485 901.7624,-63.3189 908.7609,-63.1738\"/>\n</g>\n<!-- 17 -->\n<g id=\"node18\" class=\"node\">\n<title>17</title>\n<polygon fill=\"#f7f3fd\" stroke=\"#000000\" points=\"1152.5,-53 1004.5,-53 1004.5,0 1152.5,0 1152.5,-53\"/>\n<text text-anchor=\"middle\" x=\"1078.5\" y=\"-37.8\" font-family=\"Helvetica,sans-Serif\" font-size=\"14.00\" fill=\"#000000\">samples = 250</text>\n<text text-anchor=\"middle\" x=\"1078.5\" y=\"-22.8\" font-family=\"Helvetica,sans-Serif\" font-size=\"14.00\" fill=\"#000000\">value = [99, 43, 108]</text>\n<text text-anchor=\"middle\" x=\"1078.5\" y=\"-7.8\" font-family=\"Helvetica,sans-Serif\" font-size=\"14.00\" fill=\"#000000\">class = 미기입</text>\n</g>\n<!-- 15&#45;&gt;17 -->\n<g id=\"edge17\" class=\"edge\">\n<title>15&#45;&gt;17</title>\n<path fill=\"none\" stroke=\"#000000\" d=\"M967.1408,-88.9777C985.0133,-78.9504 1004.4905,-68.0228 1022.0861,-58.1508\"/>\n<polygon fill=\"#000000\" stroke=\"#000000\" points=\"1024.0888,-61.0405 1031.0975,-53.095 1020.6637,-54.9356 1024.0888,-61.0405\"/>\n</g>\n<!-- 19 -->\n<g id=\"node20\" class=\"node\">\n<title>19</title>\n<polygon fill=\"#f4fef8\" stroke=\"#000000\" points=\"1679.5,-261 1523.5,-261 1523.5,-193 1679.5,-193 1679.5,-261\"/>\n<text text-anchor=\"middle\" x=\"1601.5\" y=\"-245.8\" font-family=\"Helvetica,sans-Serif\" font-size=\"14.00\" fill=\"#000000\">운동량 &lt;= 4759.725</text>\n<text text-anchor=\"middle\" x=\"1601.5\" y=\"-230.8\" font-family=\"Helvetica,sans-Serif\" font-size=\"14.00\" fill=\"#000000\">samples = 408</text>\n<text text-anchor=\"middle\" x=\"1601.5\" y=\"-215.8\" font-family=\"Helvetica,sans-Serif\" font-size=\"14.00\" fill=\"#000000\">value = [155, 169, 84]</text>\n<text text-anchor=\"middle\" x=\"1601.5\" y=\"-200.8\" font-family=\"Helvetica,sans-Serif\" font-size=\"14.00\" fill=\"#000000\">class = 여</text>\n</g>\n<!-- 18&#45;&gt;19 -->\n<g id=\"edge19\" class=\"edge\">\n<title>18&#45;&gt;19</title>\n<path fill=\"none\" stroke=\"#000000\" d=\"M1725.2515,-296.9465C1707.7779,-287.0701 1688.5625,-276.2093 1670.5924,-266.0522\"/>\n<polygon fill=\"#000000\" stroke=\"#000000\" points=\"1672.3117,-263.0036 1661.8838,-261.13 1668.8673,-269.0976 1672.3117,-263.0036\"/>\n</g>\n<!-- 26 -->\n<g id=\"node27\" class=\"node\">\n<title>26</title>\n<polygon fill=\"#f3ecfd\" stroke=\"#000000\" points=\"1983.5,-261 1819.5,-261 1819.5,-193 1983.5,-193 1983.5,-261\"/>\n<text text-anchor=\"middle\" x=\"1901.5\" y=\"-245.8\" font-family=\"Helvetica,sans-Serif\" font-size=\"14.00\" fill=\"#000000\">대여소번호 &lt;= 3.5</text>\n<text text-anchor=\"middle\" x=\"1901.5\" y=\"-230.8\" font-family=\"Helvetica,sans-Serif\" font-size=\"14.00\" fill=\"#000000\">samples = 674</text>\n<text text-anchor=\"middle\" x=\"1901.5\" y=\"-215.8\" font-family=\"Helvetica,sans-Serif\" font-size=\"14.00\" fill=\"#000000\">value = [208, 211, 255]</text>\n<text text-anchor=\"middle\" x=\"1901.5\" y=\"-200.8\" font-family=\"Helvetica,sans-Serif\" font-size=\"14.00\" fill=\"#000000\">class = 미기입</text>\n</g>\n<!-- 18&#45;&gt;26 -->\n<g id=\"edge26\" class=\"edge\">\n<title>18&#45;&gt;26</title>\n<path fill=\"none\" stroke=\"#000000\" d=\"M1823.4827,-296.9465C1833.7977,-287.6986 1845.0754,-277.5876 1855.7699,-267.9994\"/>\n<polygon fill=\"#000000\" stroke=\"#000000\" points=\"1858.3226,-270.4115 1863.4319,-261.13 1853.6498,-265.1995 1858.3226,-270.4115\"/>\n</g>\n<!-- 20 -->\n<g id=\"node21\" class=\"node\">\n<title>20</title>\n<polygon fill=\"#9cf2c0\" stroke=\"#000000\" points=\"1431,-157 1300,-157 1300,-89 1431,-89 1431,-157\"/>\n<text text-anchor=\"middle\" x=\"1365.5\" y=\"-141.8\" font-family=\"Helvetica,sans-Serif\" font-size=\"14.00\" fill=\"#000000\">대여소명 &lt;= 820.0</text>\n<text text-anchor=\"middle\" x=\"1365.5\" y=\"-126.8\" font-family=\"Helvetica,sans-Serif\" font-size=\"14.00\" fill=\"#000000\">samples = 53</text>\n<text text-anchor=\"middle\" x=\"1365.5\" y=\"-111.8\" font-family=\"Helvetica,sans-Serif\" font-size=\"14.00\" fill=\"#000000\">value = [13, 33, 7]</text>\n<text text-anchor=\"middle\" x=\"1365.5\" y=\"-96.8\" font-family=\"Helvetica,sans-Serif\" font-size=\"14.00\" fill=\"#000000\">class = 여</text>\n</g>\n<!-- 19&#45;&gt;20 -->\n<g id=\"edge20\" class=\"edge\">\n<title>19&#45;&gt;20</title>\n<path fill=\"none\" stroke=\"#000000\" d=\"M1524.2248,-192.9465C1497.2886,-181.0763 1467.1254,-167.7841 1440.3865,-156.0008\"/>\n<polygon fill=\"#000000\" stroke=\"#000000\" points=\"1441.6447,-152.7306 1431.0824,-151.9007 1438.8218,-159.1362 1441.6447,-152.7306\"/>\n</g>\n<!-- 23 -->\n<g id=\"node24\" class=\"node\">\n<title>23</title>\n<polygon fill=\"#fefcfa\" stroke=\"#000000\" points=\"1682,-157 1521,-157 1521,-89 1682,-89 1682,-157\"/>\n<text text-anchor=\"middle\" x=\"1601.5\" y=\"-141.8\" font-family=\"Helvetica,sans-Serif\" font-size=\"14.00\" fill=\"#000000\">연령대코드 &lt;= 181.905</text>\n<text text-anchor=\"middle\" x=\"1601.5\" y=\"-126.8\" font-family=\"Helvetica,sans-Serif\" font-size=\"14.00\" fill=\"#000000\">samples = 355</text>\n<text text-anchor=\"middle\" x=\"1601.5\" y=\"-111.8\" font-family=\"Helvetica,sans-Serif\" font-size=\"14.00\" fill=\"#000000\">value = [142, 136, 77]</text>\n<text text-anchor=\"middle\" x=\"1601.5\" y=\"-96.8\" font-family=\"Helvetica,sans-Serif\" font-size=\"14.00\" fill=\"#000000\">class = 남</text>\n</g>\n<!-- 19&#45;&gt;23 -->\n<g id=\"edge23\" class=\"edge\">\n<title>19&#45;&gt;23</title>\n<path fill=\"none\" stroke=\"#000000\" d=\"M1601.5,-192.9465C1601.5,-184.776 1601.5,-175.9318 1601.5,-167.3697\"/>\n<polygon fill=\"#000000\" stroke=\"#000000\" points=\"1605.0001,-167.13 1601.5,-157.13 1598.0001,-167.13 1605.0001,-167.13\"/>\n</g>\n<!-- 21 -->\n<g id=\"node22\" class=\"node\">\n<title>21</title>\n<polygon fill=\"#f5d0b5\" stroke=\"#000000\" points=\"1286,-53 1171,-53 1171,0 1286,0 1286,-53\"/>\n<text text-anchor=\"middle\" x=\"1228.5\" y=\"-37.8\" font-family=\"Helvetica,sans-Serif\" font-size=\"14.00\" fill=\"#000000\">samples = 11</text>\n<text text-anchor=\"middle\" x=\"1228.5\" y=\"-22.8\" font-family=\"Helvetica,sans-Serif\" font-size=\"14.00\" fill=\"#000000\">value = [6, 3, 2]</text>\n<text text-anchor=\"middle\" x=\"1228.5\" y=\"-7.8\" font-family=\"Helvetica,sans-Serif\" font-size=\"14.00\" fill=\"#000000\">class = 남</text>\n</g>\n<!-- 20&#45;&gt;21 -->\n<g id=\"edge21\" class=\"edge\">\n<title>20&#45;&gt;21</title>\n<path fill=\"none\" stroke=\"#000000\" d=\"M1317.1989,-88.9777C1303.4189,-79.2713 1288.4411,-68.7213 1274.7845,-59.1018\"/>\n<polygon fill=\"#000000\" stroke=\"#000000\" points=\"1276.6655,-56.1457 1266.4745,-53.2485 1272.6345,-61.8686 1276.6655,-56.1457\"/>\n</g>\n<!-- 22 -->\n<g id=\"node23\" class=\"node\">\n<title>22</title>\n<polygon fill=\"#7deeac\" stroke=\"#000000\" points=\"1427,-53 1304,-53 1304,0 1427,0 1427,-53\"/>\n<text text-anchor=\"middle\" x=\"1365.5\" y=\"-37.8\" font-family=\"Helvetica,sans-Serif\" font-size=\"14.00\" fill=\"#000000\">samples = 42</text>\n<text text-anchor=\"middle\" x=\"1365.5\" y=\"-22.8\" font-family=\"Helvetica,sans-Serif\" font-size=\"14.00\" fill=\"#000000\">value = [7, 30, 5]</text>\n<text text-anchor=\"middle\" x=\"1365.5\" y=\"-7.8\" font-family=\"Helvetica,sans-Serif\" font-size=\"14.00\" fill=\"#000000\">class = 여</text>\n</g>\n<!-- 20&#45;&gt;22 -->\n<g id=\"edge22\" class=\"edge\">\n<title>20&#45;&gt;22</title>\n<path fill=\"none\" stroke=\"#000000\" d=\"M1365.5,-88.9777C1365.5,-80.7364 1365.5,-71.887 1365.5,-63.5153\"/>\n<polygon fill=\"#000000\" stroke=\"#000000\" points=\"1369.0001,-63.2484 1365.5,-53.2485 1362.0001,-63.2485 1369.0001,-63.2484\"/>\n</g>\n<!-- 24 -->\n<g id=\"node25\" class=\"node\">\n<title>24</title>\n<polygon fill=\"#fbede3\" stroke=\"#000000\" points=\"1585.5,-53 1445.5,-53 1445.5,0 1585.5,0 1585.5,-53\"/>\n<text text-anchor=\"middle\" x=\"1515.5\" y=\"-37.8\" font-family=\"Helvetica,sans-Serif\" font-size=\"14.00\" fill=\"#000000\">samples = 196</text>\n<text text-anchor=\"middle\" x=\"1515.5\" y=\"-22.8\" font-family=\"Helvetica,sans-Serif\" font-size=\"14.00\" fill=\"#000000\">value = [79, 60, 57]</text>\n<text text-anchor=\"middle\" x=\"1515.5\" y=\"-7.8\" font-family=\"Helvetica,sans-Serif\" font-size=\"14.00\" fill=\"#000000\">class = 남</text>\n</g>\n<!-- 23&#45;&gt;24 -->\n<g id=\"edge24\" class=\"edge\">\n<title>23&#45;&gt;24</title>\n<path fill=\"none\" stroke=\"#000000\" d=\"M1571.1796,-88.9777C1563.019,-79.8207 1554.1892,-69.9129 1546.0179,-60.744\"/>\n<polygon fill=\"#000000\" stroke=\"#000000\" points=\"1548.6042,-58.3854 1539.338,-53.2485 1543.3783,-63.0427 1548.6042,-58.3854\"/>\n</g>\n<!-- 25 -->\n<g id=\"node26\" class=\"node\">\n<title>25</title>\n<polygon fill=\"#e4fbee\" stroke=\"#000000\" points=\"1743.5,-53 1603.5,-53 1603.5,0 1743.5,0 1743.5,-53\"/>\n<text text-anchor=\"middle\" x=\"1673.5\" y=\"-37.8\" font-family=\"Helvetica,sans-Serif\" font-size=\"14.00\" fill=\"#000000\">samples = 159</text>\n<text text-anchor=\"middle\" x=\"1673.5\" y=\"-22.8\" font-family=\"Helvetica,sans-Serif\" font-size=\"14.00\" fill=\"#000000\">value = [63, 76, 20]</text>\n<text text-anchor=\"middle\" x=\"1673.5\" y=\"-7.8\" font-family=\"Helvetica,sans-Serif\" font-size=\"14.00\" fill=\"#000000\">class = 여</text>\n</g>\n<!-- 23&#45;&gt;25 -->\n<g id=\"edge25\" class=\"edge\">\n<title>23&#45;&gt;25</title>\n<path fill=\"none\" stroke=\"#000000\" d=\"M1626.8845,-88.9777C1633.58,-80.0039 1640.8135,-70.3089 1647.539,-61.295\"/>\n<polygon fill=\"#000000\" stroke=\"#000000\" points=\"1650.3677,-63.3565 1653.5426,-53.2485 1644.7573,-59.1704 1650.3677,-63.3565\"/>\n</g>\n<!-- 27 -->\n<g id=\"node28\" class=\"node\">\n<title>27</title>\n<polygon fill=\"#e8fcf0\" stroke=\"#000000\" points=\"1982,-157 1821,-157 1821,-89 1982,-89 1982,-157\"/>\n<text text-anchor=\"middle\" x=\"1901.5\" y=\"-141.8\" font-family=\"Helvetica,sans-Serif\" font-size=\"14.00\" fill=\"#000000\">연령대코드 &lt;= 271.145</text>\n<text text-anchor=\"middle\" x=\"1901.5\" y=\"-126.8\" font-family=\"Helvetica,sans-Serif\" font-size=\"14.00\" fill=\"#000000\">samples = 306</text>\n<text text-anchor=\"middle\" x=\"1901.5\" y=\"-111.8\" font-family=\"Helvetica,sans-Serif\" font-size=\"14.00\" fill=\"#000000\">value = [86, 122, 98]</text>\n<text text-anchor=\"middle\" x=\"1901.5\" y=\"-96.8\" font-family=\"Helvetica,sans-Serif\" font-size=\"14.00\" fill=\"#000000\">class = 여</text>\n</g>\n<!-- 26&#45;&gt;27 -->\n<g id=\"edge27\" class=\"edge\">\n<title>26&#45;&gt;27</title>\n<path fill=\"none\" stroke=\"#000000\" d=\"M1901.5,-192.9465C1901.5,-184.776 1901.5,-175.9318 1901.5,-167.3697\"/>\n<polygon fill=\"#000000\" stroke=\"#000000\" points=\"1905.0001,-167.13 1901.5,-157.13 1898.0001,-167.13 1905.0001,-167.13\"/>\n</g>\n<!-- 30 -->\n<g id=\"node31\" class=\"node\">\n<title>30</title>\n<polygon fill=\"#ede3fb\" stroke=\"#000000\" points=\"2225.5,-157 2069.5,-157 2069.5,-89 2225.5,-89 2225.5,-157\"/>\n<text text-anchor=\"middle\" x=\"2147.5\" y=\"-141.8\" font-family=\"Helvetica,sans-Serif\" font-size=\"14.00\" fill=\"#000000\">탄소량 &lt;= 107.5</text>\n<text text-anchor=\"middle\" x=\"2147.5\" y=\"-126.8\" font-family=\"Helvetica,sans-Serif\" font-size=\"14.00\" fill=\"#000000\">samples = 368</text>\n<text text-anchor=\"middle\" x=\"2147.5\" y=\"-111.8\" font-family=\"Helvetica,sans-Serif\" font-size=\"14.00\" fill=\"#000000\">value = [122, 89, 157]</text>\n<text text-anchor=\"middle\" x=\"2147.5\" y=\"-96.8\" font-family=\"Helvetica,sans-Serif\" font-size=\"14.00\" fill=\"#000000\">class = 미기입</text>\n</g>\n<!-- 26&#45;&gt;30 -->\n<g id=\"edge30\" class=\"edge\">\n<title>26&#45;&gt;30</title>\n<path fill=\"none\" stroke=\"#000000\" d=\"M1982.0496,-192.9465C2007.0094,-182.3944 2034.6273,-170.7185 2060.0329,-159.9779\"/>\n<polygon fill=\"#000000\" stroke=\"#000000\" points=\"2061.436,-163.1848 2069.2838,-156.067 2058.7102,-156.7373 2061.436,-163.1848\"/>\n</g>\n<!-- 28 -->\n<g id=\"node29\" class=\"node\">\n<title>28</title>\n<polygon fill=\"#f6f1fd\" stroke=\"#000000\" points=\"1901.5,-53 1761.5,-53 1761.5,0 1901.5,0 1901.5,-53\"/>\n<text text-anchor=\"middle\" x=\"1831.5\" y=\"-37.8\" font-family=\"Helvetica,sans-Serif\" font-size=\"14.00\" fill=\"#000000\">samples = 196</text>\n<text text-anchor=\"middle\" x=\"1831.5\" y=\"-22.8\" font-family=\"Helvetica,sans-Serif\" font-size=\"14.00\" fill=\"#000000\">value = [47, 70, 79]</text>\n<text text-anchor=\"middle\" x=\"1831.5\" y=\"-7.8\" font-family=\"Helvetica,sans-Serif\" font-size=\"14.00\" fill=\"#000000\">class = 미기입</text>\n</g>\n<!-- 27&#45;&gt;28 -->\n<g id=\"edge28\" class=\"edge\">\n<title>27&#45;&gt;28</title>\n<path fill=\"none\" stroke=\"#000000\" d=\"M1876.8206,-88.9777C1870.3775,-80.0954 1863.422,-70.5067 1856.9402,-61.5711\"/>\n<polygon fill=\"#000000\" stroke=\"#000000\" points=\"1859.6079,-59.288 1850.903,-53.2485 1853.9417,-63.3982 1859.6079,-59.288\"/>\n</g>\n<!-- 29 -->\n<g id=\"node30\" class=\"node\">\n<title>29</title>\n<polygon fill=\"#dbfae8\" stroke=\"#000000\" points=\"2059.5,-53 1919.5,-53 1919.5,0 2059.5,0 2059.5,-53\"/>\n<text text-anchor=\"middle\" x=\"1989.5\" y=\"-37.8\" font-family=\"Helvetica,sans-Serif\" font-size=\"14.00\" fill=\"#000000\">samples = 110</text>\n<text text-anchor=\"middle\" x=\"1989.5\" y=\"-22.8\" font-family=\"Helvetica,sans-Serif\" font-size=\"14.00\" fill=\"#000000\">value = [39, 52, 19]</text>\n<text text-anchor=\"middle\" x=\"1989.5\" y=\"-7.8\" font-family=\"Helvetica,sans-Serif\" font-size=\"14.00\" fill=\"#000000\">class = 여</text>\n</g>\n<!-- 27&#45;&gt;29 -->\n<g id=\"edge29\" class=\"edge\">\n<title>27&#45;&gt;29</title>\n<path fill=\"none\" stroke=\"#000000\" d=\"M1932.5255,-88.9777C1940.8759,-79.8207 1949.911,-69.9129 1958.2724,-60.744\"/>\n<polygon fill=\"#000000\" stroke=\"#000000\" points=\"1960.9556,-62.9959 1965.1076,-53.2485 1955.7833,-58.2791 1960.9556,-62.9959\"/>\n</g>\n<!-- 31 -->\n<g id=\"node32\" class=\"node\">\n<title>31</title>\n<polygon fill=\"#fefdff\" stroke=\"#000000\" points=\"2217.5,-53 2077.5,-53 2077.5,0 2217.5,0 2217.5,-53\"/>\n<text text-anchor=\"middle\" x=\"2147.5\" y=\"-37.8\" font-family=\"Helvetica,sans-Serif\" font-size=\"14.00\" fill=\"#000000\">samples = 196</text>\n<text text-anchor=\"middle\" x=\"2147.5\" y=\"-22.8\" font-family=\"Helvetica,sans-Serif\" font-size=\"14.00\" fill=\"#000000\">value = [69, 57, 70]</text>\n<text text-anchor=\"middle\" x=\"2147.5\" y=\"-7.8\" font-family=\"Helvetica,sans-Serif\" font-size=\"14.00\" fill=\"#000000\">class = 미기입</text>\n</g>\n<!-- 30&#45;&gt;31 -->\n<g id=\"edge31\" class=\"edge\">\n<title>30&#45;&gt;31</title>\n<path fill=\"none\" stroke=\"#000000\" d=\"M2147.5,-88.9777C2147.5,-80.7364 2147.5,-71.887 2147.5,-63.5153\"/>\n<polygon fill=\"#000000\" stroke=\"#000000\" points=\"2151.0001,-63.2484 2147.5,-53.2485 2144.0001,-63.2485 2151.0001,-63.2484\"/>\n</g>\n<!-- 32 -->\n<g id=\"node33\" class=\"node\">\n<title>32</title>\n<polygon fill=\"#dbc6f8\" stroke=\"#000000\" points=\"2375.5,-53 2235.5,-53 2235.5,0 2375.5,0 2375.5,-53\"/>\n<text text-anchor=\"middle\" x=\"2305.5\" y=\"-37.8\" font-family=\"Helvetica,sans-Serif\" font-size=\"14.00\" fill=\"#000000\">samples = 172</text>\n<text text-anchor=\"middle\" x=\"2305.5\" y=\"-22.8\" font-family=\"Helvetica,sans-Serif\" font-size=\"14.00\" fill=\"#000000\">value = [53, 32, 87]</text>\n<text text-anchor=\"middle\" x=\"2305.5\" y=\"-7.8\" font-family=\"Helvetica,sans-Serif\" font-size=\"14.00\" fill=\"#000000\">class = 미기입</text>\n</g>\n<!-- 30&#45;&gt;32 -->\n<g id=\"edge32\" class=\"edge\">\n<title>30&#45;&gt;32</title>\n<path fill=\"none\" stroke=\"#000000\" d=\"M2203.2049,-88.9777C2219.472,-79.0424 2237.1864,-68.2232 2253.2326,-58.4228\"/>\n<polygon fill=\"#000000\" stroke=\"#000000\" points=\"2255.246,-61.2943 2261.9558,-53.095 2251.5973,-55.3204 2255.246,-61.2943\"/>\n</g>\n<!-- 34 -->\n<g id=\"node35\" class=\"node\">\n<title>34</title>\n<polygon fill=\"#f6d1b7\" stroke=\"#000000\" points=\"3494,-365 3313,-365 3313,-297 3494,-297 3494,-365\"/>\n<text text-anchor=\"middle\" x=\"3403.5\" y=\"-349.8\" font-family=\"Helvetica,sans-Serif\" font-size=\"14.00\" fill=\"#000000\">탄소량 &lt;= 68.5</text>\n<text text-anchor=\"middle\" x=\"3403.5\" y=\"-334.8\" font-family=\"Helvetica,sans-Serif\" font-size=\"14.00\" fill=\"#000000\">samples = 3773</text>\n<text text-anchor=\"middle\" x=\"3403.5\" y=\"-319.8\" font-family=\"Helvetica,sans-Serif\" font-size=\"14.00\" fill=\"#000000\">value = [2013, 752, 1008]</text>\n<text text-anchor=\"middle\" x=\"3403.5\" y=\"-304.8\" font-family=\"Helvetica,sans-Serif\" font-size=\"14.00\" fill=\"#000000\">class = 남</text>\n</g>\n<!-- 33&#45;&gt;34 -->\n<g id=\"edge34\" class=\"edge\">\n<title>33&#45;&gt;34</title>\n<path fill=\"none\" stroke=\"#000000\" d=\"M3714.8234,-410.7479C3651.527,-394.534 3568.3598,-373.2301 3503.9091,-356.7206\"/>\n<polygon fill=\"#000000\" stroke=\"#000000\" points=\"3504.6924,-353.3083 3494.1366,-354.2173 3502.9553,-360.0893 3504.6924,-353.3083\"/>\n</g>\n<!-- 49 -->\n<g id=\"node50\" class=\"node\">\n<title>49</title>\n<polygon fill=\"#fffefd\" stroke=\"#000000\" points=\"4116.5,-365 3952.5,-365 3952.5,-297 4116.5,-297 4116.5,-365\"/>\n<text text-anchor=\"middle\" x=\"4034.5\" y=\"-349.8\" font-family=\"Helvetica,sans-Serif\" font-size=\"14.00\" fill=\"#000000\">대여구분 &lt;= 6.5</text>\n<text text-anchor=\"middle\" x=\"4034.5\" y=\"-334.8\" font-family=\"Helvetica,sans-Serif\" font-size=\"14.00\" fill=\"#000000\">samples = 999</text>\n<text text-anchor=\"middle\" x=\"4034.5\" y=\"-319.8\" font-family=\"Helvetica,sans-Serif\" font-size=\"14.00\" fill=\"#000000\">value = [344, 337, 318]</text>\n<text text-anchor=\"middle\" x=\"4034.5\" y=\"-304.8\" font-family=\"Helvetica,sans-Serif\" font-size=\"14.00\" fill=\"#000000\">class = 남</text>\n</g>\n<!-- 33&#45;&gt;49 -->\n<g id=\"edge49\" class=\"edge\">\n<title>33&#45;&gt;49</title>\n<path fill=\"none\" stroke=\"#000000\" d=\"M3883.1734,-400.9465C3905.0262,-390.8457 3929.1068,-379.7151 3951.5078,-369.3608\"/>\n<polygon fill=\"#000000\" stroke=\"#000000\" points=\"3953.0523,-372.5028 3960.6611,-365.13 3950.1153,-366.1487 3953.0523,-372.5028\"/>\n</g>\n<!-- 35 -->\n<g id=\"node36\" class=\"node\">\n<title>35</title>\n<polygon fill=\"#f3c5a5\" stroke=\"#000000\" points=\"2983,-261 2810,-261 2810,-193 2983,-193 2983,-261\"/>\n<text text-anchor=\"middle\" x=\"2896.5\" y=\"-245.8\" font-family=\"Helvetica,sans-Serif\" font-size=\"14.00\" fill=\"#000000\">연령대코드 &lt;= 145.245</text>\n<text text-anchor=\"middle\" x=\"2896.5\" y=\"-230.8\" font-family=\"Helvetica,sans-Serif\" font-size=\"14.00\" fill=\"#000000\">samples = 2334</text>\n<text text-anchor=\"middle\" x=\"2896.5\" y=\"-215.8\" font-family=\"Helvetica,sans-Serif\" font-size=\"14.00\" fill=\"#000000\">value = [1354, 451, 529]</text>\n<text text-anchor=\"middle\" x=\"2896.5\" y=\"-200.8\" font-family=\"Helvetica,sans-Serif\" font-size=\"14.00\" fill=\"#000000\">class = 남</text>\n</g>\n<!-- 34&#45;&gt;35 -->\n<g id=\"edge35\" class=\"edge\">\n<title>34&#45;&gt;35</title>\n<path fill=\"none\" stroke=\"#000000\" d=\"M3312.8586,-312.4069C3222.8573,-293.9451 3085.3608,-265.7407 2993.2738,-246.851\"/>\n<polygon fill=\"#000000\" stroke=\"#000000\" points=\"2993.8923,-243.4051 2983.393,-244.8242 2992.4857,-250.2623 2993.8923,-243.4051\"/>\n</g>\n<!-- 42 -->\n<g id=\"node43\" class=\"node\">\n<title>42</title>\n<polygon fill=\"#fae7da\" stroke=\"#000000\" points=\"3485.5,-261 3321.5,-261 3321.5,-193 3485.5,-193 3485.5,-261\"/>\n<text text-anchor=\"middle\" x=\"3403.5\" y=\"-245.8\" font-family=\"Helvetica,sans-Serif\" font-size=\"14.00\" fill=\"#000000\">운동량 &lt;= 12480.3</text>\n<text text-anchor=\"middle\" x=\"3403.5\" y=\"-230.8\" font-family=\"Helvetica,sans-Serif\" font-size=\"14.00\" fill=\"#000000\">samples = 1439</text>\n<text text-anchor=\"middle\" x=\"3403.5\" y=\"-215.8\" font-family=\"Helvetica,sans-Serif\" font-size=\"14.00\" fill=\"#000000\">value = [659, 301, 479]</text>\n<text text-anchor=\"middle\" x=\"3403.5\" y=\"-200.8\" font-family=\"Helvetica,sans-Serif\" font-size=\"14.00\" fill=\"#000000\">class = 남</text>\n</g>\n<!-- 34&#45;&gt;42 -->\n<g id=\"edge42\" class=\"edge\">\n<title>34&#45;&gt;42</title>\n<path fill=\"none\" stroke=\"#000000\" d=\"M3403.5,-296.9465C3403.5,-288.776 3403.5,-279.9318 3403.5,-271.3697\"/>\n<polygon fill=\"#000000\" stroke=\"#000000\" points=\"3407.0001,-271.13 3403.5,-261.13 3400.0001,-271.13 3407.0001,-271.13\"/>\n</g>\n<!-- 36 -->\n<g id=\"node37\" class=\"node\">\n<title>36</title>\n<polygon fill=\"#f4cbad\" stroke=\"#000000\" points=\"2727.5,-157 2563.5,-157 2563.5,-89 2727.5,-89 2727.5,-157\"/>\n<text text-anchor=\"middle\" x=\"2645.5\" y=\"-141.8\" font-family=\"Helvetica,sans-Serif\" font-size=\"14.00\" fill=\"#000000\">운동량 &lt;= 4833.2</text>\n<text text-anchor=\"middle\" x=\"2645.5\" y=\"-126.8\" font-family=\"Helvetica,sans-Serif\" font-size=\"14.00\" fill=\"#000000\">samples = 1716</text>\n<text text-anchor=\"middle\" x=\"2645.5\" y=\"-111.8\" font-family=\"Helvetica,sans-Serif\" font-size=\"14.00\" fill=\"#000000\">value = [975, 295, 446]</text>\n<text text-anchor=\"middle\" x=\"2645.5\" y=\"-96.8\" font-family=\"Helvetica,sans-Serif\" font-size=\"14.00\" fill=\"#000000\">class = 남</text>\n</g>\n<!-- 35&#45;&gt;36 -->\n<g id=\"edge36\" class=\"edge\">\n<title>35&#45;&gt;36</title>\n<path fill=\"none\" stroke=\"#000000\" d=\"M2814.3132,-192.9465C2789.7185,-182.7559 2762.5942,-171.5171 2737.4164,-161.0849\"/>\n<polygon fill=\"#000000\" stroke=\"#000000\" points=\"2738.4496,-157.7245 2727.8714,-157.13 2735.77,-164.1913 2738.4496,-157.7245\"/>\n</g>\n<!-- 39 -->\n<g id=\"node40\" class=\"node\">\n<title>39</title>\n<polygon fill=\"#f2c29f\" stroke=\"#000000\" points=\"2974.5,-157 2818.5,-157 2818.5,-89 2974.5,-89 2974.5,-157\"/>\n<text text-anchor=\"middle\" x=\"2896.5\" y=\"-141.8\" font-family=\"Helvetica,sans-Serif\" font-size=\"14.00\" fill=\"#000000\">대여소번호 &lt;= 1.5</text>\n<text text-anchor=\"middle\" x=\"2896.5\" y=\"-126.8\" font-family=\"Helvetica,sans-Serif\" font-size=\"14.00\" fill=\"#000000\">samples = 618</text>\n<text text-anchor=\"middle\" x=\"2896.5\" y=\"-111.8\" font-family=\"Helvetica,sans-Serif\" font-size=\"14.00\" fill=\"#000000\">value = [379, 156, 83]</text>\n<text text-anchor=\"middle\" x=\"2896.5\" y=\"-96.8\" font-family=\"Helvetica,sans-Serif\" font-size=\"14.00\" fill=\"#000000\">class = 남</text>\n</g>\n<!-- 35&#45;&gt;39 -->\n<g id=\"edge39\" class=\"edge\">\n<title>35&#45;&gt;39</title>\n<path fill=\"none\" stroke=\"#000000\" d=\"M2896.5,-192.9465C2896.5,-184.776 2896.5,-175.9318 2896.5,-167.3697\"/>\n<polygon fill=\"#000000\" stroke=\"#000000\" points=\"2900.0001,-167.13 2896.5,-157.13 2893.0001,-167.13 2900.0001,-167.13\"/>\n</g>\n<!-- 37 -->\n<g id=\"node38\" class=\"node\">\n<title>37</title>\n<polygon fill=\"#f3c6a5\" stroke=\"#000000\" points=\"2557.5,-53 2393.5,-53 2393.5,0 2557.5,0 2557.5,-53\"/>\n<text text-anchor=\"middle\" x=\"2475.5\" y=\"-37.8\" font-family=\"Helvetica,sans-Serif\" font-size=\"14.00\" fill=\"#000000\">samples = 1580</text>\n<text text-anchor=\"middle\" x=\"2475.5\" y=\"-22.8\" font-family=\"Helvetica,sans-Serif\" font-size=\"14.00\" fill=\"#000000\">value = [923, 282, 375]</text>\n<text text-anchor=\"middle\" x=\"2475.5\" y=\"-7.8\" font-family=\"Helvetica,sans-Serif\" font-size=\"14.00\" fill=\"#000000\">class = 남</text>\n</g>\n<!-- 36&#45;&gt;37 -->\n<g id=\"edge37\" class=\"edge\">\n<title>36&#45;&gt;37</title>\n<path fill=\"none\" stroke=\"#000000\" d=\"M2585.5644,-88.9777C2567.8997,-78.9504 2548.6489,-68.0228 2531.2579,-58.1508\"/>\n<polygon fill=\"#000000\" stroke=\"#000000\" points=\"2532.7757,-54.9879 2522.3513,-53.095 2529.3201,-61.0755 2532.7757,-54.9879\"/>\n</g>\n<!-- 38 -->\n<g id=\"node39\" class=\"node\">\n<title>38</title>\n<polygon fill=\"#e2d2f9\" stroke=\"#000000\" points=\"2715.5,-53 2575.5,-53 2575.5,0 2715.5,0 2715.5,-53\"/>\n<text text-anchor=\"middle\" x=\"2645.5\" y=\"-37.8\" font-family=\"Helvetica,sans-Serif\" font-size=\"14.00\" fill=\"#000000\">samples = 136</text>\n<text text-anchor=\"middle\" x=\"2645.5\" y=\"-22.8\" font-family=\"Helvetica,sans-Serif\" font-size=\"14.00\" fill=\"#000000\">value = [52, 13, 71]</text>\n<text text-anchor=\"middle\" x=\"2645.5\" y=\"-7.8\" font-family=\"Helvetica,sans-Serif\" font-size=\"14.00\" fill=\"#000000\">class = 미기입</text>\n</g>\n<!-- 36&#45;&gt;38 -->\n<g id=\"edge38\" class=\"edge\">\n<title>36&#45;&gt;38</title>\n<path fill=\"none\" stroke=\"#000000\" d=\"M2645.5,-88.9777C2645.5,-80.7364 2645.5,-71.887 2645.5,-63.5153\"/>\n<polygon fill=\"#000000\" stroke=\"#000000\" points=\"2649.0001,-63.2484 2645.5,-53.2485 2642.0001,-63.2485 2649.0001,-63.2484\"/>\n</g>\n<!-- 40 -->\n<g id=\"node41\" class=\"node\">\n<title>40</title>\n<polygon fill=\"#fae7d9\" stroke=\"#000000\" points=\"2873.5,-53 2733.5,-53 2733.5,0 2873.5,0 2873.5,-53\"/>\n<text text-anchor=\"middle\" x=\"2803.5\" y=\"-37.8\" font-family=\"Helvetica,sans-Serif\" font-size=\"14.00\" fill=\"#000000\">samples = 101</text>\n<text text-anchor=\"middle\" x=\"2803.5\" y=\"-22.8\" font-family=\"Helvetica,sans-Serif\" font-size=\"14.00\" fill=\"#000000\">value = [47, 34, 20]</text>\n<text text-anchor=\"middle\" x=\"2803.5\" y=\"-7.8\" font-family=\"Helvetica,sans-Serif\" font-size=\"14.00\" fill=\"#000000\">class = 남</text>\n</g>\n<!-- 39&#45;&gt;40 -->\n<g id=\"edge40\" class=\"edge\">\n<title>39&#45;&gt;40</title>\n<path fill=\"none\" stroke=\"#000000\" d=\"M2863.7117,-88.9777C2854.7986,-79.7292 2845.1473,-69.7147 2836.2371,-60.4691\"/>\n<polygon fill=\"#000000\" stroke=\"#000000\" points=\"2838.7378,-58.0202 2829.2783,-53.2485 2833.6975,-62.8777 2838.7378,-58.0202\"/>\n</g>\n<!-- 41 -->\n<g id=\"node42\" class=\"node\">\n<title>41</title>\n<polygon fill=\"#f1bc96\" stroke=\"#000000\" points=\"3047.5,-53 2891.5,-53 2891.5,0 3047.5,0 3047.5,-53\"/>\n<text text-anchor=\"middle\" x=\"2969.5\" y=\"-37.8\" font-family=\"Helvetica,sans-Serif\" font-size=\"14.00\" fill=\"#000000\">samples = 517</text>\n<text text-anchor=\"middle\" x=\"2969.5\" y=\"-22.8\" font-family=\"Helvetica,sans-Serif\" font-size=\"14.00\" fill=\"#000000\">value = [332, 122, 63]</text>\n<text text-anchor=\"middle\" x=\"2969.5\" y=\"-7.8\" font-family=\"Helvetica,sans-Serif\" font-size=\"14.00\" fill=\"#000000\">class = 남</text>\n</g>\n<!-- 39&#45;&gt;41 -->\n<g id=\"edge41\" class=\"edge\">\n<title>39&#45;&gt;41</title>\n<path fill=\"none\" stroke=\"#000000\" d=\"M2922.2371,-88.9777C2929.0256,-80.0039 2936.3596,-70.3089 2943.1784,-61.295\"/>\n<polygon fill=\"#000000\" stroke=\"#000000\" points=\"2946.0237,-63.3352 2949.2654,-53.2485 2940.441,-59.1121 2946.0237,-63.3352\"/>\n</g>\n<!-- 43 -->\n<g id=\"node44\" class=\"node\">\n<title>43</title>\n<polygon fill=\"#f9e0cf\" stroke=\"#000000\" points=\"3395.5,-157 3231.5,-157 3231.5,-89 3395.5,-89 3395.5,-157\"/>\n<text text-anchor=\"middle\" x=\"3313.5\" y=\"-141.8\" font-family=\"Helvetica,sans-Serif\" font-size=\"14.00\" fill=\"#000000\">연령대코드 &lt;= 291.095</text>\n<text text-anchor=\"middle\" x=\"3313.5\" y=\"-126.8\" font-family=\"Helvetica,sans-Serif\" font-size=\"14.00\" fill=\"#000000\">samples = 1169</text>\n<text text-anchor=\"middle\" x=\"3313.5\" y=\"-111.8\" font-family=\"Helvetica,sans-Serif\" font-size=\"14.00\" fill=\"#000000\">value = [546, 277, 346]</text>\n<text text-anchor=\"middle\" x=\"3313.5\" y=\"-96.8\" font-family=\"Helvetica,sans-Serif\" font-size=\"14.00\" fill=\"#000000\">class = 남</text>\n</g>\n<!-- 42&#45;&gt;43 -->\n<g id=\"edge43\" class=\"edge\">\n<title>42&#45;&gt;43</title>\n<path fill=\"none\" stroke=\"#000000\" d=\"M3374.0306,-192.9465C3366.2607,-183.968 3357.7868,-174.1758 3349.7064,-164.8385\"/>\n<polygon fill=\"#000000\" stroke=\"#000000\" points=\"3352.226,-162.4014 3343.0356,-157.13 3346.9328,-166.982 3352.226,-162.4014\"/>\n</g>\n<!-- 46 -->\n<g id=\"node47\" class=\"node\">\n<title>46</title>\n<polygon fill=\"#efe6fc\" stroke=\"#000000\" points=\"3575,-157 3414,-157 3414,-89 3575,-89 3575,-157\"/>\n<text text-anchor=\"middle\" x=\"3494.5\" y=\"-141.8\" font-family=\"Helvetica,sans-Serif\" font-size=\"14.00\" fill=\"#000000\">연령대코드 &lt;= 348.495</text>\n<text text-anchor=\"middle\" x=\"3494.5\" y=\"-126.8\" font-family=\"Helvetica,sans-Serif\" font-size=\"14.00\" fill=\"#000000\">samples = 270</text>\n<text text-anchor=\"middle\" x=\"3494.5\" y=\"-111.8\" font-family=\"Helvetica,sans-Serif\" font-size=\"14.00\" fill=\"#000000\">value = [113, 24, 133]</text>\n<text text-anchor=\"middle\" x=\"3494.5\" y=\"-96.8\" font-family=\"Helvetica,sans-Serif\" font-size=\"14.00\" fill=\"#000000\">class = 미기입</text>\n</g>\n<!-- 42&#45;&gt;46 -->\n<g id=\"edge46\" class=\"edge\">\n<title>42&#45;&gt;46</title>\n<path fill=\"none\" stroke=\"#000000\" d=\"M3433.2968,-192.9465C3441.153,-183.968 3449.7212,-174.1758 3457.8913,-164.8385\"/>\n<polygon fill=\"#000000\" stroke=\"#000000\" points=\"3460.6852,-166.9606 3464.6363,-157.13 3455.4171,-162.351 3460.6852,-166.9606\"/>\n</g>\n<!-- 44 -->\n<g id=\"node45\" class=\"node\">\n<title>44</title>\n<polygon fill=\"#fae9dc\" stroke=\"#000000\" points=\"3229.5,-53 3065.5,-53 3065.5,0 3229.5,0 3229.5,-53\"/>\n<text text-anchor=\"middle\" x=\"3147.5\" y=\"-37.8\" font-family=\"Helvetica,sans-Serif\" font-size=\"14.00\" fill=\"#000000\">samples = 981</text>\n<text text-anchor=\"middle\" x=\"3147.5\" y=\"-22.8\" font-family=\"Helvetica,sans-Serif\" font-size=\"14.00\" fill=\"#000000\">value = [446, 203, 332]</text>\n<text text-anchor=\"middle\" x=\"3147.5\" y=\"-7.8\" font-family=\"Helvetica,sans-Serif\" font-size=\"14.00\" fill=\"#000000\">class = 남</text>\n</g>\n<!-- 43&#45;&gt;44 -->\n<g id=\"edge44\" class=\"edge\">\n<title>43&#45;&gt;44</title>\n<path fill=\"none\" stroke=\"#000000\" d=\"M3254.9746,-88.9777C3237.7256,-78.9504 3218.9277,-68.0228 3201.946,-58.1508\"/>\n<polygon fill=\"#000000\" stroke=\"#000000\" points=\"3203.6533,-55.095 3193.249,-53.095 3200.1353,-61.1467 3203.6533,-55.095\"/>\n</g>\n<!-- 45 -->\n<g id=\"node46\" class=\"node\">\n<title>45</title>\n<polygon fill=\"#f9e2d2\" stroke=\"#000000\" points=\"3395.5,-53 3247.5,-53 3247.5,0 3395.5,0 3395.5,-53\"/>\n<text text-anchor=\"middle\" x=\"3321.5\" y=\"-37.8\" font-family=\"Helvetica,sans-Serif\" font-size=\"14.00\" fill=\"#000000\">samples = 188</text>\n<text text-anchor=\"middle\" x=\"3321.5\" y=\"-22.8\" font-family=\"Helvetica,sans-Serif\" font-size=\"14.00\" fill=\"#000000\">value = [100, 74, 14]</text>\n<text text-anchor=\"middle\" x=\"3321.5\" y=\"-7.8\" font-family=\"Helvetica,sans-Serif\" font-size=\"14.00\" fill=\"#000000\">class = 남</text>\n</g>\n<!-- 43&#45;&gt;45 -->\n<g id=\"edge45\" class=\"edge\">\n<title>43&#45;&gt;45</title>\n<path fill=\"none\" stroke=\"#000000\" d=\"M3316.3205,-88.9777C3317.0113,-80.6449 3317.7537,-71.6903 3318.4545,-63.2364\"/>\n<polygon fill=\"#000000\" stroke=\"#000000\" points=\"3321.9443,-63.5035 3319.2825,-53.2485 3314.9682,-62.9251 3321.9443,-63.5035\"/>\n</g>\n<!-- 47 -->\n<g id=\"node48\" class=\"node\">\n<title>47</title>\n<polygon fill=\"#ddcaf8\" stroke=\"#000000\" points=\"3561.5,-53 3413.5,-53 3413.5,0 3561.5,0 3561.5,-53\"/>\n<text text-anchor=\"middle\" x=\"3487.5\" y=\"-37.8\" font-family=\"Helvetica,sans-Serif\" font-size=\"14.00\" fill=\"#000000\">samples = 215</text>\n<text text-anchor=\"middle\" x=\"3487.5\" y=\"-22.8\" font-family=\"Helvetica,sans-Serif\" font-size=\"14.00\" fill=\"#000000\">value = [84, 12, 119]</text>\n<text text-anchor=\"middle\" x=\"3487.5\" y=\"-7.8\" font-family=\"Helvetica,sans-Serif\" font-size=\"14.00\" fill=\"#000000\">class = 미기입</text>\n</g>\n<!-- 46&#45;&gt;47 -->\n<g id=\"edge47\" class=\"edge\">\n<title>46&#45;&gt;47</title>\n<path fill=\"none\" stroke=\"#000000\" d=\"M3492.0321,-88.9777C3491.4276,-80.6449 3490.778,-71.6903 3490.1648,-63.2364\"/>\n<polygon fill=\"#000000\" stroke=\"#000000\" points=\"3493.6547,-62.969 3489.4403,-53.2485 3486.6731,-63.4755 3493.6547,-62.969\"/>\n</g>\n<!-- 48 -->\n<g id=\"node49\" class=\"node\">\n<title>48</title>\n<polygon fill=\"#f5d1b7\" stroke=\"#000000\" points=\"3719.5,-53 3579.5,-53 3579.5,0 3719.5,0 3719.5,-53\"/>\n<text text-anchor=\"middle\" x=\"3649.5\" y=\"-37.8\" font-family=\"Helvetica,sans-Serif\" font-size=\"14.00\" fill=\"#000000\">samples = 55</text>\n<text text-anchor=\"middle\" x=\"3649.5\" y=\"-22.8\" font-family=\"Helvetica,sans-Serif\" font-size=\"14.00\" fill=\"#000000\">value = [29, 12, 14]</text>\n<text text-anchor=\"middle\" x=\"3649.5\" y=\"-7.8\" font-family=\"Helvetica,sans-Serif\" font-size=\"14.00\" fill=\"#000000\">class = 남</text>\n</g>\n<!-- 46&#45;&gt;48 -->\n<g id=\"edge48\" class=\"edge\">\n<title>46&#45;&gt;48</title>\n<path fill=\"none\" stroke=\"#000000\" d=\"M3549.1472,-88.9777C3565.0319,-79.0882 3582.3233,-68.3229 3598.0073,-58.5583\"/>\n<polygon fill=\"#000000\" stroke=\"#000000\" points=\"3599.8967,-61.505 3606.5361,-53.2485 3596.1971,-55.5625 3599.8967,-61.505\"/>\n</g>\n<!-- 50 -->\n<g id=\"node51\" class=\"node\">\n<title>50</title>\n<polygon fill=\"#fdf5ef\" stroke=\"#000000\" points=\"4116.5,-261 3952.5,-261 3952.5,-193 4116.5,-193 4116.5,-261\"/>\n<text text-anchor=\"middle\" x=\"4034.5\" y=\"-245.8\" font-family=\"Helvetica,sans-Serif\" font-size=\"14.00\" fill=\"#000000\">대여소번호 &lt;= 1.5</text>\n<text text-anchor=\"middle\" x=\"4034.5\" y=\"-230.8\" font-family=\"Helvetica,sans-Serif\" font-size=\"14.00\" fill=\"#000000\">samples = 698</text>\n<text text-anchor=\"middle\" x=\"4034.5\" y=\"-215.8\" font-family=\"Helvetica,sans-Serif\" font-size=\"14.00\" fill=\"#000000\">value = [263, 209, 226]</text>\n<text text-anchor=\"middle\" x=\"4034.5\" y=\"-200.8\" font-family=\"Helvetica,sans-Serif\" font-size=\"14.00\" fill=\"#000000\">class = 남</text>\n</g>\n<!-- 49&#45;&gt;50 -->\n<g id=\"edge50\" class=\"edge\">\n<title>49&#45;&gt;50</title>\n<path fill=\"none\" stroke=\"#000000\" d=\"M4034.5,-296.9465C4034.5,-288.776 4034.5,-279.9318 4034.5,-271.3697\"/>\n<polygon fill=\"#000000\" stroke=\"#000000\" points=\"4038.0001,-271.13 4034.5,-261.13 4031.0001,-271.13 4038.0001,-271.13\"/>\n</g>\n<!-- 57 -->\n<g id=\"node58\" class=\"node\">\n<title>57</title>\n<polygon fill=\"#ddfbe9\" stroke=\"#000000\" points=\"4596.5,-261 4448.5,-261 4448.5,-193 4596.5,-193 4596.5,-261\"/>\n<text text-anchor=\"middle\" x=\"4522.5\" y=\"-245.8\" font-family=\"Helvetica,sans-Serif\" font-size=\"14.00\" fill=\"#000000\">탄소량 &lt;= 136.0</text>\n<text text-anchor=\"middle\" x=\"4522.5\" y=\"-230.8\" font-family=\"Helvetica,sans-Serif\" font-size=\"14.00\" fill=\"#000000\">samples = 301</text>\n<text text-anchor=\"middle\" x=\"4522.5\" y=\"-215.8\" font-family=\"Helvetica,sans-Serif\" font-size=\"14.00\" fill=\"#000000\">value = [81, 128, 92]</text>\n<text text-anchor=\"middle\" x=\"4522.5\" y=\"-200.8\" font-family=\"Helvetica,sans-Serif\" font-size=\"14.00\" fill=\"#000000\">class = 여</text>\n</g>\n<!-- 49&#45;&gt;57 -->\n<g id=\"edge57\" class=\"edge\">\n<title>49&#45;&gt;57</title>\n<path fill=\"none\" stroke=\"#000000\" d=\"M4116.7307,-313.4754C4206.1417,-294.4206 4348.298,-264.125 4438.4261,-244.9174\"/>\n<polygon fill=\"#000000\" stroke=\"#000000\" points=\"4439.2864,-248.3127 4448.3372,-242.8052 4437.8273,-241.4665 4439.2864,-248.3127\"/>\n</g>\n<!-- 51 -->\n<g id=\"node52\" class=\"node\">\n<title>51</title>\n<polygon fill=\"#dafae7\" stroke=\"#000000\" points=\"4019.5,-157 3879.5,-157 3879.5,-89 4019.5,-89 4019.5,-157\"/>\n<text text-anchor=\"middle\" x=\"3949.5\" y=\"-141.8\" font-family=\"Helvetica,sans-Serif\" font-size=\"14.00\" fill=\"#000000\">운동량 &lt;= 1485.0</text>\n<text text-anchor=\"middle\" x=\"3949.5\" y=\"-126.8\" font-family=\"Helvetica,sans-Serif\" font-size=\"14.00\" fill=\"#000000\">samples = 96</text>\n<text text-anchor=\"middle\" x=\"3949.5\" y=\"-111.8\" font-family=\"Helvetica,sans-Serif\" font-size=\"14.00\" fill=\"#000000\">value = [32, 44, 20]</text>\n<text text-anchor=\"middle\" x=\"3949.5\" y=\"-96.8\" font-family=\"Helvetica,sans-Serif\" font-size=\"14.00\" fill=\"#000000\">class = 여</text>\n</g>\n<!-- 50&#45;&gt;51 -->\n<g id=\"edge51\" class=\"edge\">\n<title>50&#45;&gt;51</title>\n<path fill=\"none\" stroke=\"#000000\" d=\"M4006.6678,-192.9465C3999.403,-184.0578 3991.4864,-174.3716 3983.924,-165.1188\"/>\n<polygon fill=\"#000000\" stroke=\"#000000\" points=\"3986.4331,-162.658 3977.3947,-157.13 3981.013,-167.0878 3986.4331,-162.658\"/>\n</g>\n<!-- 54 -->\n<g id=\"node55\" class=\"node\">\n<title>54</title>\n<polygon fill=\"#fdf7f2\" stroke=\"#000000\" points=\"4201.5,-157 4037.5,-157 4037.5,-89 4201.5,-89 4201.5,-157\"/>\n<text text-anchor=\"middle\" x=\"4119.5\" y=\"-141.8\" font-family=\"Helvetica,sans-Serif\" font-size=\"14.00\" fill=\"#000000\">탄소량 &lt;= 69.5</text>\n<text text-anchor=\"middle\" x=\"4119.5\" y=\"-126.8\" font-family=\"Helvetica,sans-Serif\" font-size=\"14.00\" fill=\"#000000\">samples = 602</text>\n<text text-anchor=\"middle\" x=\"4119.5\" y=\"-111.8\" font-family=\"Helvetica,sans-Serif\" font-size=\"14.00\" fill=\"#000000\">value = [231, 165, 206]</text>\n<text text-anchor=\"middle\" x=\"4119.5\" y=\"-96.8\" font-family=\"Helvetica,sans-Serif\" font-size=\"14.00\" fill=\"#000000\">class = 남</text>\n</g>\n<!-- 50&#45;&gt;54 -->\n<g id=\"edge54\" class=\"edge\">\n<title>50&#45;&gt;54</title>\n<path fill=\"none\" stroke=\"#000000\" d=\"M4062.3322,-192.9465C4069.597,-184.0578 4077.5136,-174.3716 4085.076,-165.1188\"/>\n<polygon fill=\"#000000\" stroke=\"#000000\" points=\"4087.987,-167.0878 4091.6053,-157.13 4082.5669,-162.658 4087.987,-167.0878\"/>\n</g>\n<!-- 52 -->\n<g id=\"node53\" class=\"node\">\n<title>52</title>\n<polygon fill=\"#f7dac5\" stroke=\"#000000\" points=\"3861,-53 3738,-53 3738,0 3861,0 3861,-53\"/>\n<text text-anchor=\"middle\" x=\"3799.5\" y=\"-37.8\" font-family=\"Helvetica,sans-Serif\" font-size=\"14.00\" fill=\"#000000\">samples = 24</text>\n<text text-anchor=\"middle\" x=\"3799.5\" y=\"-22.8\" font-family=\"Helvetica,sans-Serif\" font-size=\"14.00\" fill=\"#000000\">value = [12, 5, 7]</text>\n<text text-anchor=\"middle\" x=\"3799.5\" y=\"-7.8\" font-family=\"Helvetica,sans-Serif\" font-size=\"14.00\" fill=\"#000000\">class = 남</text>\n</g>\n<!-- 51&#45;&gt;52 -->\n<g id=\"edge52\" class=\"edge\">\n<title>51&#45;&gt;52</title>\n<path fill=\"none\" stroke=\"#000000\" d=\"M3896.6156,-88.9777C3881.3856,-79.1798 3864.8194,-68.5222 3849.7536,-58.8298\"/>\n<polygon fill=\"#000000\" stroke=\"#000000\" points=\"3851.3816,-55.7154 3841.0779,-53.2485 3847.5943,-61.6024 3851.3816,-55.7154\"/>\n</g>\n<!-- 53 -->\n<g id=\"node54\" class=\"node\">\n<title>53</title>\n<polygon fill=\"#b7f6d1\" stroke=\"#000000\" points=\"4019.5,-53 3879.5,-53 3879.5,0 4019.5,0 4019.5,-53\"/>\n<text text-anchor=\"middle\" x=\"3949.5\" y=\"-37.8\" font-family=\"Helvetica,sans-Serif\" font-size=\"14.00\" fill=\"#000000\">samples = 72</text>\n<text text-anchor=\"middle\" x=\"3949.5\" y=\"-22.8\" font-family=\"Helvetica,sans-Serif\" font-size=\"14.00\" fill=\"#000000\">value = [20, 39, 13]</text>\n<text text-anchor=\"middle\" x=\"3949.5\" y=\"-7.8\" font-family=\"Helvetica,sans-Serif\" font-size=\"14.00\" fill=\"#000000\">class = 여</text>\n</g>\n<!-- 51&#45;&gt;53 -->\n<g id=\"edge53\" class=\"edge\">\n<title>51&#45;&gt;53</title>\n<path fill=\"none\" stroke=\"#000000\" d=\"M3949.5,-88.9777C3949.5,-80.7364 3949.5,-71.887 3949.5,-63.5153\"/>\n<polygon fill=\"#000000\" stroke=\"#000000\" points=\"3953.0001,-63.2484 3949.5,-53.2485 3946.0001,-63.2485 3953.0001,-63.2484\"/>\n</g>\n<!-- 55 -->\n<g id=\"node56\" class=\"node\">\n<title>55</title>\n<polygon fill=\"#fbece1\" stroke=\"#000000\" points=\"4201.5,-53 4037.5,-53 4037.5,0 4201.5,0 4201.5,-53\"/>\n<text text-anchor=\"middle\" x=\"4119.5\" y=\"-37.8\" font-family=\"Helvetica,sans-Serif\" font-size=\"14.00\" fill=\"#000000\">samples = 441</text>\n<text text-anchor=\"middle\" x=\"4119.5\" y=\"-22.8\" font-family=\"Helvetica,sans-Serif\" font-size=\"14.00\" fill=\"#000000\">value = [181, 126, 134]</text>\n<text text-anchor=\"middle\" x=\"4119.5\" y=\"-7.8\" font-family=\"Helvetica,sans-Serif\" font-size=\"14.00\" fill=\"#000000\">class = 남</text>\n</g>\n<!-- 54&#45;&gt;55 -->\n<g id=\"edge55\" class=\"edge\">\n<title>54&#45;&gt;55</title>\n<path fill=\"none\" stroke=\"#000000\" d=\"M4119.5,-88.9777C4119.5,-80.7364 4119.5,-71.887 4119.5,-63.5153\"/>\n<polygon fill=\"#000000\" stroke=\"#000000\" points=\"4123.0001,-63.2484 4119.5,-53.2485 4116.0001,-63.2485 4123.0001,-63.2484\"/>\n</g>\n<!-- 56 -->\n<g id=\"node57\" class=\"node\">\n<title>56</title>\n<polygon fill=\"#e6d8fa\" stroke=\"#000000\" points=\"4359.5,-53 4219.5,-53 4219.5,0 4359.5,0 4359.5,-53\"/>\n<text text-anchor=\"middle\" x=\"4289.5\" y=\"-37.8\" font-family=\"Helvetica,sans-Serif\" font-size=\"14.00\" fill=\"#000000\">samples = 161</text>\n<text text-anchor=\"middle\" x=\"4289.5\" y=\"-22.8\" font-family=\"Helvetica,sans-Serif\" font-size=\"14.00\" fill=\"#000000\">value = [50, 39, 72]</text>\n<text text-anchor=\"middle\" x=\"4289.5\" y=\"-7.8\" font-family=\"Helvetica,sans-Serif\" font-size=\"14.00\" fill=\"#000000\">class = 미기입</text>\n</g>\n<!-- 54&#45;&gt;56 -->\n<g id=\"edge56\" class=\"edge\">\n<title>54&#45;&gt;56</title>\n<path fill=\"none\" stroke=\"#000000\" d=\"M4179.4356,-88.9777C4197.1003,-78.9504 4216.3511,-68.0228 4233.7421,-58.1508\"/>\n<polygon fill=\"#000000\" stroke=\"#000000\" points=\"4235.6799,-61.0755 4242.6487,-53.095 4232.2243,-54.9879 4235.6799,-61.0755\"/>\n</g>\n<!-- 58 -->\n<g id=\"node59\" class=\"node\">\n<title>58</title>\n<polygon fill=\"#edfdf3\" stroke=\"#000000\" points=\"4596.5,-157 4448.5,-157 4448.5,-89 4596.5,-89 4596.5,-157\"/>\n<text text-anchor=\"middle\" x=\"4522.5\" y=\"-141.8\" font-family=\"Helvetica,sans-Serif\" font-size=\"14.00\" fill=\"#000000\">탄소량 &lt;= 15.5</text>\n<text text-anchor=\"middle\" x=\"4522.5\" y=\"-126.8\" font-family=\"Helvetica,sans-Serif\" font-size=\"14.00\" fill=\"#000000\">samples = 277</text>\n<text text-anchor=\"middle\" x=\"4522.5\" y=\"-111.8\" font-family=\"Helvetica,sans-Serif\" font-size=\"14.00\" fill=\"#000000\">value = [78, 108, 91]</text>\n<text text-anchor=\"middle\" x=\"4522.5\" y=\"-96.8\" font-family=\"Helvetica,sans-Serif\" font-size=\"14.00\" fill=\"#000000\">class = 여</text>\n</g>\n<!-- 57&#45;&gt;58 -->\n<g id=\"edge58\" class=\"edge\">\n<title>57&#45;&gt;58</title>\n<path fill=\"none\" stroke=\"#000000\" d=\"M4522.5,-192.9465C4522.5,-184.776 4522.5,-175.9318 4522.5,-167.3697\"/>\n<polygon fill=\"#000000\" stroke=\"#000000\" points=\"4526.0001,-167.13 4522.5,-157.13 4519.0001,-167.13 4526.0001,-167.13\"/>\n</g>\n<!-- 61 -->\n<g id=\"node62\" class=\"node\">\n<title>61</title>\n<polygon fill=\"#5fea99\" stroke=\"#000000\" points=\"4813,-157 4690,-157 4690,-89 4813,-89 4813,-157\"/>\n<text text-anchor=\"middle\" x=\"4751.5\" y=\"-141.8\" font-family=\"Helvetica,sans-Serif\" font-size=\"14.00\" fill=\"#000000\">성별 &lt;= 3.5</text>\n<text text-anchor=\"middle\" x=\"4751.5\" y=\"-126.8\" font-family=\"Helvetica,sans-Serif\" font-size=\"14.00\" fill=\"#000000\">samples = 24</text>\n<text text-anchor=\"middle\" x=\"4751.5\" y=\"-111.8\" font-family=\"Helvetica,sans-Serif\" font-size=\"14.00\" fill=\"#000000\">value = [3, 20, 1]</text>\n<text text-anchor=\"middle\" x=\"4751.5\" y=\"-96.8\" font-family=\"Helvetica,sans-Serif\" font-size=\"14.00\" fill=\"#000000\">class = 여</text>\n</g>\n<!-- 57&#45;&gt;61 -->\n<g id=\"edge61\" class=\"edge\">\n<title>57&#45;&gt;61</title>\n<path fill=\"none\" stroke=\"#000000\" d=\"M4596.5335,-193.3778C4623.5358,-181.1148 4653.9838,-167.2868 4680.6982,-155.1545\"/>\n<polygon fill=\"#000000\" stroke=\"#000000\" points=\"4682.3221,-158.2611 4689.9799,-150.9393 4679.4276,-151.8876 4682.3221,-158.2611\"/>\n</g>\n<!-- 59 -->\n<g id=\"node60\" class=\"node\">\n<title>59</title>\n<polygon fill=\"#e0cef9\" stroke=\"#000000\" points=\"4517.5,-53 4377.5,-53 4377.5,0 4517.5,0 4517.5,-53\"/>\n<text text-anchor=\"middle\" x=\"4447.5\" y=\"-37.8\" font-family=\"Helvetica,sans-Serif\" font-size=\"14.00\" fill=\"#000000\">samples = 91</text>\n<text text-anchor=\"middle\" x=\"4447.5\" y=\"-22.8\" font-family=\"Helvetica,sans-Serif\" font-size=\"14.00\" fill=\"#000000\">value = [23, 26, 42]</text>\n<text text-anchor=\"middle\" x=\"4447.5\" y=\"-7.8\" font-family=\"Helvetica,sans-Serif\" font-size=\"14.00\" fill=\"#000000\">class = 미기입</text>\n</g>\n<!-- 58&#45;&gt;59 -->\n<g id=\"edge59\" class=\"edge\">\n<title>58&#45;&gt;59</title>\n<path fill=\"none\" stroke=\"#000000\" d=\"M4496.0578,-88.9777C4489.0833,-80.0039 4481.5484,-70.3089 4474.5427,-61.295\"/>\n<polygon fill=\"#000000\" stroke=\"#000000\" points=\"4477.1891,-58.9964 4468.289,-53.2485 4471.6621,-63.292 4477.1891,-58.9964\"/>\n</g>\n<!-- 60 -->\n<g id=\"node61\" class=\"node\">\n<title>60</title>\n<polygon fill=\"#d6fae5\" stroke=\"#000000\" points=\"4675.5,-53 4535.5,-53 4535.5,0 4675.5,0 4675.5,-53\"/>\n<text text-anchor=\"middle\" x=\"4605.5\" y=\"-37.8\" font-family=\"Helvetica,sans-Serif\" font-size=\"14.00\" fill=\"#000000\">samples = 186</text>\n<text text-anchor=\"middle\" x=\"4605.5\" y=\"-22.8\" font-family=\"Helvetica,sans-Serif\" font-size=\"14.00\" fill=\"#000000\">value = [55, 82, 49]</text>\n<text text-anchor=\"middle\" x=\"4605.5\" y=\"-7.8\" font-family=\"Helvetica,sans-Serif\" font-size=\"14.00\" fill=\"#000000\">class = 여</text>\n</g>\n<!-- 58&#45;&gt;60 -->\n<g id=\"edge60\" class=\"edge\">\n<title>58&#45;&gt;60</title>\n<path fill=\"none\" stroke=\"#000000\" d=\"M4551.7627,-88.9777C4559.5599,-79.9123 4567.99,-70.111 4575.8099,-61.0192\"/>\n<polygon fill=\"#000000\" stroke=\"#000000\" points=\"4578.6262,-63.1123 4582.4935,-53.2485 4573.3191,-58.5477 4578.6262,-63.1123\"/>\n</g>\n<!-- 62 -->\n<g id=\"node63\" class=\"node\">\n<title>62</title>\n<polygon fill=\"#aaf4c9\" stroke=\"#000000\" points=\"4809,-53 4694,-53 4694,0 4809,0 4809,-53\"/>\n<text text-anchor=\"middle\" x=\"4751.5\" y=\"-37.8\" font-family=\"Helvetica,sans-Serif\" font-size=\"14.00\" fill=\"#000000\">samples = 10</text>\n<text text-anchor=\"middle\" x=\"4751.5\" y=\"-22.8\" font-family=\"Helvetica,sans-Serif\" font-size=\"14.00\" fill=\"#000000\">value = [3, 6, 1]</text>\n<text text-anchor=\"middle\" x=\"4751.5\" y=\"-7.8\" font-family=\"Helvetica,sans-Serif\" font-size=\"14.00\" fill=\"#000000\">class = 여</text>\n</g>\n<!-- 61&#45;&gt;62 -->\n<g id=\"edge62\" class=\"edge\">\n<title>61&#45;&gt;62</title>\n<path fill=\"none\" stroke=\"#000000\" d=\"M4751.5,-88.9777C4751.5,-80.7364 4751.5,-71.887 4751.5,-63.5153\"/>\n<polygon fill=\"#000000\" stroke=\"#000000\" points=\"4755.0001,-63.2484 4751.5,-53.2485 4748.0001,-63.2485 4755.0001,-63.2484\"/>\n</g>\n<!-- 63 -->\n<g id=\"node64\" class=\"node\">\n<title>63</title>\n<polygon fill=\"#39e581\" stroke=\"#000000\" points=\"4950,-53 4827,-53 4827,0 4950,0 4950,-53\"/>\n<text text-anchor=\"middle\" x=\"4888.5\" y=\"-37.8\" font-family=\"Helvetica,sans-Serif\" font-size=\"14.00\" fill=\"#000000\">samples = 14</text>\n<text text-anchor=\"middle\" x=\"4888.5\" y=\"-22.8\" font-family=\"Helvetica,sans-Serif\" font-size=\"14.00\" fill=\"#000000\">value = [0, 14, 0]</text>\n<text text-anchor=\"middle\" x=\"4888.5\" y=\"-7.8\" font-family=\"Helvetica,sans-Serif\" font-size=\"14.00\" fill=\"#000000\">class = 여</text>\n</g>\n<!-- 61&#45;&gt;63 -->\n<g id=\"edge63\" class=\"edge\">\n<title>61&#45;&gt;63</title>\n<path fill=\"none\" stroke=\"#000000\" d=\"M4799.8011,-88.9777C4813.5811,-79.2713 4828.5589,-68.7213 4842.2155,-59.1018\"/>\n<polygon fill=\"#000000\" stroke=\"#000000\" points=\"4844.3655,-61.8686 4850.5255,-53.2485 4840.3345,-56.1457 4844.3655,-61.8686\"/>\n</g>\n<!-- 65 -->\n<g id=\"node66\" class=\"node\">\n<title>65</title>\n<polygon fill=\"#c9f8dc\" stroke=\"#000000\" points=\"6031.5,-469 5875.5,-469 5875.5,-401 6031.5,-401 6031.5,-469\"/>\n<text text-anchor=\"middle\" x=\"5953.5\" y=\"-453.8\" font-family=\"Helvetica,sans-Serif\" font-size=\"14.00\" fill=\"#000000\">대여구분 &lt;= 1.5</text>\n<text text-anchor=\"middle\" x=\"5953.5\" y=\"-438.8\" font-family=\"Helvetica,sans-Serif\" font-size=\"14.00\" fill=\"#000000\">samples = 410</text>\n<text text-anchor=\"middle\" x=\"5953.5\" y=\"-423.8\" font-family=\"Helvetica,sans-Serif\" font-size=\"14.00\" fill=\"#000000\">value = [158, 227, 25]</text>\n<text text-anchor=\"middle\" x=\"5953.5\" y=\"-408.8\" font-family=\"Helvetica,sans-Serif\" font-size=\"14.00\" fill=\"#000000\">class = 여</text>\n</g>\n<!-- 64&#45;&gt;65 -->\n<g id=\"edge65\" class=\"edge\">\n<title>64&#45;&gt;65</title>\n<path fill=\"none\" stroke=\"#000000\" d=\"M5953.5,-504.9465C5953.5,-496.776 5953.5,-487.9318 5953.5,-479.3697\"/>\n<polygon fill=\"#000000\" stroke=\"#000000\" points=\"5957.0001,-479.13 5953.5,-469.13 5950.0001,-479.13 5957.0001,-479.13\"/>\n</g>\n<!-- 96 -->\n<g id=\"node97\" class=\"node\">\n<title>96</title>\n<polygon fill=\"#ffffff\" stroke=\"#000000\" points=\"7825,-469 7636,-469 7636,-401 7825,-401 7825,-469\"/>\n<text text-anchor=\"middle\" x=\"7730.5\" y=\"-453.8\" font-family=\"Helvetica,sans-Serif\" font-size=\"14.00\" fill=\"#000000\">연령대코드 &lt;= 488.665</text>\n<text text-anchor=\"middle\" x=\"7730.5\" y=\"-438.8\" font-family=\"Helvetica,sans-Serif\" font-size=\"14.00\" fill=\"#000000\">samples = 9276</text>\n<text text-anchor=\"middle\" x=\"7730.5\" y=\"-423.8\" font-family=\"Helvetica,sans-Serif\" font-size=\"14.00\" fill=\"#000000\">value = [3374, 3383, 2519]</text>\n<text text-anchor=\"middle\" x=\"7730.5\" y=\"-408.8\" font-family=\"Helvetica,sans-Serif\" font-size=\"14.00\" fill=\"#000000\">class = 여</text>\n</g>\n<!-- 64&#45;&gt;96 -->\n<g id=\"edge96\" class=\"edge\">\n<title>64&#45;&gt;96</title>\n<path fill=\"none\" stroke=\"#000000\" d=\"M6048.0976,-533.4636C6352.7896,-515.6313 7307.2256,-459.7724 7625.8036,-441.1274\"/>\n<polygon fill=\"#000000\" stroke=\"#000000\" points=\"7626.1768,-444.6117 7635.9552,-440.5333 7625.7677,-437.6236 7626.1768,-444.6117\"/>\n</g>\n<!-- 66 -->\n<g id=\"node67\" class=\"node\">\n<title>66</title>\n<polygon fill=\"#99f2be\" stroke=\"#000000\" points=\"5844.5,-365 5704.5,-365 5704.5,-297 5844.5,-297 5844.5,-365\"/>\n<text text-anchor=\"middle\" x=\"5774.5\" y=\"-349.8\" font-family=\"Helvetica,sans-Serif\" font-size=\"14.00\" fill=\"#000000\">이용건수 &lt;= 3.115</text>\n<text text-anchor=\"middle\" x=\"5774.5\" y=\"-334.8\" font-family=\"Helvetica,sans-Serif\" font-size=\"14.00\" fill=\"#000000\">samples = 113</text>\n<text text-anchor=\"middle\" x=\"5774.5\" y=\"-319.8\" font-family=\"Helvetica,sans-Serif\" font-size=\"14.00\" fill=\"#000000\">value = [28, 72, 13]</text>\n<text text-anchor=\"middle\" x=\"5774.5\" y=\"-304.8\" font-family=\"Helvetica,sans-Serif\" font-size=\"14.00\" fill=\"#000000\">class = 여</text>\n</g>\n<!-- 65&#45;&gt;66 -->\n<g id=\"edge66\" class=\"edge\">\n<title>65&#45;&gt;66</title>\n<path fill=\"none\" stroke=\"#000000\" d=\"M5894.8887,-400.9465C5878.0445,-391.1599 5859.5364,-380.4066 5842.192,-370.3294\"/>\n<polygon fill=\"#000000\" stroke=\"#000000\" points=\"5843.6478,-367.1274 5833.243,-365.13 5840.1312,-373.18 5843.6478,-367.1274\"/>\n</g>\n<!-- 81 -->\n<g id=\"node82\" class=\"node\">\n<title>81</title>\n<polygon fill=\"#e1fbec\" stroke=\"#000000\" points=\"6393.5,-365 6237.5,-365 6237.5,-297 6393.5,-297 6393.5,-365\"/>\n<text text-anchor=\"middle\" x=\"6315.5\" y=\"-349.8\" font-family=\"Helvetica,sans-Serif\" font-size=\"14.00\" fill=\"#000000\">대여소번호 &lt;= 2.5</text>\n<text text-anchor=\"middle\" x=\"6315.5\" y=\"-334.8\" font-family=\"Helvetica,sans-Serif\" font-size=\"14.00\" fill=\"#000000\">samples = 297</text>\n<text text-anchor=\"middle\" x=\"6315.5\" y=\"-319.8\" font-family=\"Helvetica,sans-Serif\" font-size=\"14.00\" fill=\"#000000\">value = [130, 155, 12]</text>\n<text text-anchor=\"middle\" x=\"6315.5\" y=\"-304.8\" font-family=\"Helvetica,sans-Serif\" font-size=\"14.00\" fill=\"#000000\">class = 여</text>\n</g>\n<!-- 65&#45;&gt;81 -->\n<g id=\"edge81\" class=\"edge\">\n<title>65&#45;&gt;81</title>\n<path fill=\"none\" stroke=\"#000000\" d=\"M6031.6029,-412.5616C6089.1924,-396.0165 6167.5925,-373.4927 6227.414,-356.3065\"/>\n<polygon fill=\"#000000\" stroke=\"#000000\" points=\"6228.5805,-359.613 6237.2253,-353.4878 6226.6476,-352.8852 6228.5805,-359.613\"/>\n</g>\n<!-- 67 -->\n<g id=\"node68\" class=\"node\">\n<title>67</title>\n<polygon fill=\"#6feca3\" stroke=\"#000000\" points=\"5429,-261 5306,-261 5306,-193 5429,-193 5429,-261\"/>\n<text text-anchor=\"middle\" x=\"5367.5\" y=\"-245.8\" font-family=\"Helvetica,sans-Serif\" font-size=\"14.00\" fill=\"#000000\">탄소량 &lt;= 77.5</text>\n<text text-anchor=\"middle\" x=\"5367.5\" y=\"-230.8\" font-family=\"Helvetica,sans-Serif\" font-size=\"14.00\" fill=\"#000000\">samples = 45</text>\n<text text-anchor=\"middle\" x=\"5367.5\" y=\"-215.8\" font-family=\"Helvetica,sans-Serif\" font-size=\"14.00\" fill=\"#000000\">value = [8, 35, 2]</text>\n<text text-anchor=\"middle\" x=\"5367.5\" y=\"-200.8\" font-family=\"Helvetica,sans-Serif\" font-size=\"14.00\" fill=\"#000000\">class = 여</text>\n</g>\n<!-- 66&#45;&gt;67 -->\n<g id=\"edge67\" class=\"edge\">\n<title>66&#45;&gt;67</title>\n<path fill=\"none\" stroke=\"#000000\" d=\"M5704.0707,-313.0033C5629.821,-294.0304 5513.4839,-264.303 5438.8781,-245.2391\"/>\n<polygon fill=\"#000000\" stroke=\"#000000\" points=\"5439.6444,-241.8225 5429.0891,-242.7378 5437.9113,-248.6046 5439.6444,-241.8225\"/>\n</g>\n<!-- 74 -->\n<g id=\"node75\" class=\"node\">\n<title>74</title>\n<polygon fill=\"#b9f6d2\" stroke=\"#000000\" points=\"5855,-261 5694,-261 5694,-193 5855,-193 5855,-261\"/>\n<text text-anchor=\"middle\" x=\"5774.5\" y=\"-245.8\" font-family=\"Helvetica,sans-Serif\" font-size=\"14.00\" fill=\"#000000\">연령대코드 &lt;= 392.255</text>\n<text text-anchor=\"middle\" x=\"5774.5\" y=\"-230.8\" font-family=\"Helvetica,sans-Serif\" font-size=\"14.00\" fill=\"#000000\">samples = 68</text>\n<text text-anchor=\"middle\" x=\"5774.5\" y=\"-215.8\" font-family=\"Helvetica,sans-Serif\" font-size=\"14.00\" fill=\"#000000\">value = [20, 37, 11]</text>\n<text text-anchor=\"middle\" x=\"5774.5\" y=\"-200.8\" font-family=\"Helvetica,sans-Serif\" font-size=\"14.00\" fill=\"#000000\">class = 여</text>\n</g>\n<!-- 66&#45;&gt;74 -->\n<g id=\"edge74\" class=\"edge\">\n<title>66&#45;&gt;74</title>\n<path fill=\"none\" stroke=\"#000000\" d=\"M5774.5,-296.9465C5774.5,-288.776 5774.5,-279.9318 5774.5,-271.3697\"/>\n<polygon fill=\"#000000\" stroke=\"#000000\" points=\"5778.0001,-271.13 5774.5,-261.13 5771.0001,-271.13 5778.0001,-271.13\"/>\n</g>\n<!-- 68 -->\n<g id=\"node69\" class=\"node\">\n<title>68</title>\n<polygon fill=\"#f6d5bd\" stroke=\"#000000\" points=\"5224,-157 5093,-157 5093,-89 5224,-89 5224,-157\"/>\n<text text-anchor=\"middle\" x=\"5158.5\" y=\"-141.8\" font-family=\"Helvetica,sans-Serif\" font-size=\"14.00\" fill=\"#000000\">대여소명 &lt;= 849.5</text>\n<text text-anchor=\"middle\" x=\"5158.5\" y=\"-126.8\" font-family=\"Helvetica,sans-Serif\" font-size=\"14.00\" fill=\"#000000\">samples = 9</text>\n<text text-anchor=\"middle\" x=\"5158.5\" y=\"-111.8\" font-family=\"Helvetica,sans-Serif\" font-size=\"14.00\" fill=\"#000000\">value = [5, 3, 1]</text>\n<text text-anchor=\"middle\" x=\"5158.5\" y=\"-96.8\" font-family=\"Helvetica,sans-Serif\" font-size=\"14.00\" fill=\"#000000\">class = 남</text>\n</g>\n<!-- 67&#45;&gt;68 -->\n<g id=\"edge68\" class=\"edge\">\n<title>67&#45;&gt;68</title>\n<path fill=\"none\" stroke=\"#000000\" d=\"M5305.9235,-196.3591C5283.0748,-184.9894 5256.9125,-171.9708 5233.0312,-160.0873\"/>\n<polygon fill=\"#000000\" stroke=\"#000000\" points=\"5234.5139,-156.9157 5224.0018,-155.5942 5231.3953,-163.1827 5234.5139,-156.9157\"/>\n</g>\n<!-- 71 -->\n<g id=\"node72\" class=\"node\">\n<title>71</title>\n<polygon fill=\"#51e890\" stroke=\"#000000\" points=\"5429,-157 5306,-157 5306,-89 5429,-89 5429,-157\"/>\n<text text-anchor=\"middle\" x=\"5367.5\" y=\"-141.8\" font-family=\"Helvetica,sans-Serif\" font-size=\"14.00\" fill=\"#000000\">성별 &lt;= 16.5</text>\n<text text-anchor=\"middle\" x=\"5367.5\" y=\"-126.8\" font-family=\"Helvetica,sans-Serif\" font-size=\"14.00\" fill=\"#000000\">samples = 36</text>\n<text text-anchor=\"middle\" x=\"5367.5\" y=\"-111.8\" font-family=\"Helvetica,sans-Serif\" font-size=\"14.00\" fill=\"#000000\">value = [3, 32, 1]</text>\n<text text-anchor=\"middle\" x=\"5367.5\" y=\"-96.8\" font-family=\"Helvetica,sans-Serif\" font-size=\"14.00\" fill=\"#000000\">class = 여</text>\n</g>\n<!-- 67&#45;&gt;71 -->\n<g id=\"edge71\" class=\"edge\">\n<title>67&#45;&gt;71</title>\n<path fill=\"none\" stroke=\"#000000\" d=\"M5367.5,-192.9465C5367.5,-184.776 5367.5,-175.9318 5367.5,-167.3697\"/>\n<polygon fill=\"#000000\" stroke=\"#000000\" points=\"5371.0001,-167.13 5367.5,-157.13 5364.0001,-167.13 5371.0001,-167.13\"/>\n</g>\n<!-- 69 -->\n<g id=\"node70\" class=\"node\">\n<title>69</title>\n<polygon fill=\"#e58139\" stroke=\"#000000\" points=\"5083,-53 4968,-53 4968,0 5083,0 5083,-53\"/>\n<text text-anchor=\"middle\" x=\"5025.5\" y=\"-37.8\" font-family=\"Helvetica,sans-Serif\" font-size=\"14.00\" fill=\"#000000\">samples = 4</text>\n<text text-anchor=\"middle\" x=\"5025.5\" y=\"-22.8\" font-family=\"Helvetica,sans-Serif\" font-size=\"14.00\" fill=\"#000000\">value = [4, 0, 0]</text>\n<text text-anchor=\"middle\" x=\"5025.5\" y=\"-7.8\" font-family=\"Helvetica,sans-Serif\" font-size=\"14.00\" fill=\"#000000\">class = 남</text>\n</g>\n<!-- 68&#45;&gt;69 -->\n<g id=\"edge69\" class=\"edge\">\n<title>68&#45;&gt;69</title>\n<path fill=\"none\" stroke=\"#000000\" d=\"M5111.6092,-88.9777C5098.3577,-79.3629 5083.9653,-68.9203 5070.8087,-59.3743\"/>\n<polygon fill=\"#000000\" stroke=\"#000000\" points=\"5072.5152,-56.2883 5062.3658,-53.2485 5068.4043,-61.9541 5072.5152,-56.2883\"/>\n</g>\n<!-- 70 -->\n<g id=\"node71\" class=\"node\">\n<title>70</title>\n<polygon fill=\"#9cf2c0\" stroke=\"#000000\" points=\"5216,-53 5101,-53 5101,0 5216,0 5216,-53\"/>\n<text text-anchor=\"middle\" x=\"5158.5\" y=\"-37.8\" font-family=\"Helvetica,sans-Serif\" font-size=\"14.00\" fill=\"#000000\">samples = 5</text>\n<text text-anchor=\"middle\" x=\"5158.5\" y=\"-22.8\" font-family=\"Helvetica,sans-Serif\" font-size=\"14.00\" fill=\"#000000\">value = [1, 3, 1]</text>\n<text text-anchor=\"middle\" x=\"5158.5\" y=\"-7.8\" font-family=\"Helvetica,sans-Serif\" font-size=\"14.00\" fill=\"#000000\">class = 여</text>\n</g>\n<!-- 68&#45;&gt;70 -->\n<g id=\"edge70\" class=\"edge\">\n<title>68&#45;&gt;70</title>\n<path fill=\"none\" stroke=\"#000000\" d=\"M5158.5,-88.9777C5158.5,-80.7364 5158.5,-71.887 5158.5,-63.5153\"/>\n<polygon fill=\"#000000\" stroke=\"#000000\" points=\"5162.0001,-63.2484 5158.5,-53.2485 5155.0001,-63.2485 5162.0001,-63.2484\"/>\n</g>\n<!-- 72 -->\n<g id=\"node73\" class=\"node\">\n<title>72</title>\n<polygon fill=\"#45e789\" stroke=\"#000000\" points=\"5357,-53 5234,-53 5234,0 5357,0 5357,-53\"/>\n<text text-anchor=\"middle\" x=\"5295.5\" y=\"-37.8\" font-family=\"Helvetica,sans-Serif\" font-size=\"14.00\" fill=\"#000000\">samples = 34</text>\n<text text-anchor=\"middle\" x=\"5295.5\" y=\"-22.8\" font-family=\"Helvetica,sans-Serif\" font-size=\"14.00\" fill=\"#000000\">value = [1, 32, 1]</text>\n<text text-anchor=\"middle\" x=\"5295.5\" y=\"-7.8\" font-family=\"Helvetica,sans-Serif\" font-size=\"14.00\" fill=\"#000000\">class = 여</text>\n</g>\n<!-- 71&#45;&gt;72 -->\n<g id=\"edge72\" class=\"edge\">\n<title>71&#45;&gt;72</title>\n<path fill=\"none\" stroke=\"#000000\" d=\"M5342.1155,-88.9777C5335.42,-80.0039 5328.1865,-70.3089 5321.461,-61.295\"/>\n<polygon fill=\"#000000\" stroke=\"#000000\" points=\"5324.2427,-59.1704 5315.4574,-53.2485 5318.6323,-63.3565 5324.2427,-59.1704\"/>\n</g>\n<!-- 73 -->\n<g id=\"node74\" class=\"node\">\n<title>73</title>\n<polygon fill=\"#e58139\" stroke=\"#000000\" points=\"5490,-53 5375,-53 5375,0 5490,0 5490,-53\"/>\n<text text-anchor=\"middle\" x=\"5432.5\" y=\"-37.8\" font-family=\"Helvetica,sans-Serif\" font-size=\"14.00\" fill=\"#000000\">samples = 2</text>\n<text text-anchor=\"middle\" x=\"5432.5\" y=\"-22.8\" font-family=\"Helvetica,sans-Serif\" font-size=\"14.00\" fill=\"#000000\">value = [2, 0, 0]</text>\n<text text-anchor=\"middle\" x=\"5432.5\" y=\"-7.8\" font-family=\"Helvetica,sans-Serif\" font-size=\"14.00\" fill=\"#000000\">class = 남</text>\n</g>\n<!-- 71&#45;&gt;73 -->\n<g id=\"edge73\" class=\"edge\">\n<title>71&#45;&gt;73</title>\n<path fill=\"none\" stroke=\"#000000\" d=\"M5390.4166,-88.9777C5396.3994,-80.0954 5402.8582,-70.5067 5408.877,-61.5711\"/>\n<polygon fill=\"#000000\" stroke=\"#000000\" points=\"5411.7991,-63.4978 5414.4829,-53.2485 5405.9933,-59.5871 5411.7991,-63.4978\"/>\n</g>\n<!-- 75 -->\n<g id=\"node76\" class=\"node\">\n<title>75</title>\n<polygon fill=\"#ffffff\" stroke=\"#000000\" points=\"5761,-157 5618,-157 5618,-89 5761,-89 5761,-157\"/>\n<text text-anchor=\"middle\" x=\"5689.5\" y=\"-141.8\" font-family=\"Helvetica,sans-Serif\" font-size=\"14.00\" fill=\"#000000\">운동량 &lt;= 14771.44</text>\n<text text-anchor=\"middle\" x=\"5689.5\" y=\"-126.8\" font-family=\"Helvetica,sans-Serif\" font-size=\"14.00\" fill=\"#000000\">samples = 39</text>\n<text text-anchor=\"middle\" x=\"5689.5\" y=\"-111.8\" font-family=\"Helvetica,sans-Serif\" font-size=\"14.00\" fill=\"#000000\">value = [15, 15, 9]</text>\n<text text-anchor=\"middle\" x=\"5689.5\" y=\"-96.8\" font-family=\"Helvetica,sans-Serif\" font-size=\"14.00\" fill=\"#000000\">class = 남</text>\n</g>\n<!-- 74&#45;&gt;75 -->\n<g id=\"edge75\" class=\"edge\">\n<title>74&#45;&gt;75</title>\n<path fill=\"none\" stroke=\"#000000\" d=\"M5746.6678,-192.9465C5739.403,-184.0578 5731.4864,-174.3716 5723.924,-165.1188\"/>\n<polygon fill=\"#000000\" stroke=\"#000000\" points=\"5726.4331,-162.658 5717.3947,-157.13 5721.013,-167.0878 5726.4331,-162.658\"/>\n</g>\n<!-- 78 -->\n<g id=\"node79\" class=\"node\">\n<title>78</title>\n<polygon fill=\"#73eda6\" stroke=\"#000000\" points=\"5940,-157 5779,-157 5779,-89 5940,-89 5940,-157\"/>\n<text text-anchor=\"middle\" x=\"5859.5\" y=\"-141.8\" font-family=\"Helvetica,sans-Serif\" font-size=\"14.00\" fill=\"#000000\">연령대코드 &lt;= 439.875</text>\n<text text-anchor=\"middle\" x=\"5859.5\" y=\"-126.8\" font-family=\"Helvetica,sans-Serif\" font-size=\"14.00\" fill=\"#000000\">samples = 29</text>\n<text text-anchor=\"middle\" x=\"5859.5\" y=\"-111.8\" font-family=\"Helvetica,sans-Serif\" font-size=\"14.00\" fill=\"#000000\">value = [5, 22, 2]</text>\n<text text-anchor=\"middle\" x=\"5859.5\" y=\"-96.8\" font-family=\"Helvetica,sans-Serif\" font-size=\"14.00\" fill=\"#000000\">class = 여</text>\n</g>\n<!-- 74&#45;&gt;78 -->\n<g id=\"edge78\" class=\"edge\">\n<title>74&#45;&gt;78</title>\n<path fill=\"none\" stroke=\"#000000\" d=\"M5802.3322,-192.9465C5809.597,-184.0578 5817.5136,-174.3716 5825.076,-165.1188\"/>\n<polygon fill=\"#000000\" stroke=\"#000000\" points=\"5827.987,-167.0878 5831.6053,-157.13 5822.5669,-162.658 5827.987,-167.0878\"/>\n</g>\n<!-- 76 -->\n<g id=\"node77\" class=\"node\">\n<title>76</title>\n<polygon fill=\"#f8dbc6\" stroke=\"#000000\" points=\"5631,-53 5508,-53 5508,0 5631,0 5631,-53\"/>\n<text text-anchor=\"middle\" x=\"5569.5\" y=\"-37.8\" font-family=\"Helvetica,sans-Serif\" font-size=\"14.00\" fill=\"#000000\">samples = 29</text>\n<text text-anchor=\"middle\" x=\"5569.5\" y=\"-22.8\" font-family=\"Helvetica,sans-Serif\" font-size=\"14.00\" fill=\"#000000\">value = [14, 8, 7]</text>\n<text text-anchor=\"middle\" x=\"5569.5\" y=\"-7.8\" font-family=\"Helvetica,sans-Serif\" font-size=\"14.00\" fill=\"#000000\">class = 남</text>\n</g>\n<!-- 75&#45;&gt;76 -->\n<g id=\"edge76\" class=\"edge\">\n<title>75&#45;&gt;76</title>\n<path fill=\"none\" stroke=\"#000000\" d=\"M5647.1925,-88.9777C5635.3501,-79.4545 5622.4979,-69.1191 5610.7195,-59.6473\"/>\n<polygon fill=\"#000000\" stroke=\"#000000\" points=\"5612.7486,-56.7877 5602.7624,-53.2485 5608.3618,-62.2427 5612.7486,-56.7877\"/>\n</g>\n<!-- 77 -->\n<g id=\"node78\" class=\"node\">\n<title>77</title>\n<polygon fill=\"#83efb0\" stroke=\"#000000\" points=\"5764,-53 5649,-53 5649,0 5764,0 5764,-53\"/>\n<text text-anchor=\"middle\" x=\"5706.5\" y=\"-37.8\" font-family=\"Helvetica,sans-Serif\" font-size=\"14.00\" fill=\"#000000\">samples = 10</text>\n<text text-anchor=\"middle\" x=\"5706.5\" y=\"-22.8\" font-family=\"Helvetica,sans-Serif\" font-size=\"14.00\" fill=\"#000000\">value = [1, 7, 2]</text>\n<text text-anchor=\"middle\" x=\"5706.5\" y=\"-7.8\" font-family=\"Helvetica,sans-Serif\" font-size=\"14.00\" fill=\"#000000\">class = 여</text>\n</g>\n<!-- 75&#45;&gt;77 -->\n<g id=\"edge77\" class=\"edge\">\n<title>75&#45;&gt;77</title>\n<path fill=\"none\" stroke=\"#000000\" d=\"M5695.4936,-88.9777C5696.9615,-80.6449 5698.539,-71.6903 5700.0283,-63.2364\"/>\n<polygon fill=\"#000000\" stroke=\"#000000\" points=\"5703.4997,-63.7041 5701.7878,-53.2485 5696.6059,-62.4896 5703.4997,-63.7041\"/>\n</g>\n<!-- 79 -->\n<g id=\"node80\" class=\"node\">\n<title>79</title>\n<polygon fill=\"#57e994\" stroke=\"#000000\" points=\"5905,-53 5782,-53 5782,0 5905,0 5905,-53\"/>\n<text text-anchor=\"middle\" x=\"5843.5\" y=\"-37.8\" font-family=\"Helvetica,sans-Serif\" font-size=\"14.00\" fill=\"#000000\">samples = 22</text>\n<text text-anchor=\"middle\" x=\"5843.5\" y=\"-22.8\" font-family=\"Helvetica,sans-Serif\" font-size=\"14.00\" fill=\"#000000\">value = [1, 19, 2]</text>\n<text text-anchor=\"middle\" x=\"5843.5\" y=\"-7.8\" font-family=\"Helvetica,sans-Serif\" font-size=\"14.00\" fill=\"#000000\">class = 여</text>\n</g>\n<!-- 78&#45;&gt;79 -->\n<g id=\"edge79\" class=\"edge\">\n<title>78&#45;&gt;79</title>\n<path fill=\"none\" stroke=\"#000000\" d=\"M5853.859,-88.9777C5852.4774,-80.6449 5850.9927,-71.6903 5849.591,-63.2364\"/>\n<polygon fill=\"#000000\" stroke=\"#000000\" points=\"5853.0236,-62.5413 5847.935,-53.2485 5846.1179,-63.6863 5853.0236,-62.5413\"/>\n</g>\n<!-- 80 -->\n<g id=\"node81\" class=\"node\">\n<title>80</title>\n<polygon fill=\"#f8e0ce\" stroke=\"#000000\" points=\"6038,-53 5923,-53 5923,0 6038,0 6038,-53\"/>\n<text text-anchor=\"middle\" x=\"5980.5\" y=\"-37.8\" font-family=\"Helvetica,sans-Serif\" font-size=\"14.00\" fill=\"#000000\">samples = 7</text>\n<text text-anchor=\"middle\" x=\"5980.5\" y=\"-22.8\" font-family=\"Helvetica,sans-Serif\" font-size=\"14.00\" fill=\"#000000\">value = [4, 3, 0]</text>\n<text text-anchor=\"middle\" x=\"5980.5\" y=\"-7.8\" font-family=\"Helvetica,sans-Serif\" font-size=\"14.00\" fill=\"#000000\">class = 남</text>\n</g>\n<!-- 78&#45;&gt;80 -->\n<g id=\"edge80\" class=\"edge\">\n<title>78&#45;&gt;80</title>\n<path fill=\"none\" stroke=\"#000000\" d=\"M5902.1601,-88.9777C5914.1011,-79.4545 5927.0605,-69.1191 5938.937,-59.6473\"/>\n<polygon fill=\"#000000\" stroke=\"#000000\" points=\"5941.3246,-62.22 5946.9605,-53.2485 5936.96,-56.7473 5941.3246,-62.22\"/>\n</g>\n<!-- 82 -->\n<g id=\"node83\" class=\"node\">\n<title>82</title>\n<polygon fill=\"#a0f3c3\" stroke=\"#000000\" points=\"6387,-261 6244,-261 6244,-193 6387,-193 6387,-261\"/>\n<text text-anchor=\"middle\" x=\"6315.5\" y=\"-245.8\" font-family=\"Helvetica,sans-Serif\" font-size=\"14.00\" fill=\"#000000\">운동량 &lt;= 11380.64</text>\n<text text-anchor=\"middle\" x=\"6315.5\" y=\"-230.8\" font-family=\"Helvetica,sans-Serif\" font-size=\"14.00\" fill=\"#000000\">samples = 105</text>\n<text text-anchor=\"middle\" x=\"6315.5\" y=\"-215.8\" font-family=\"Helvetica,sans-Serif\" font-size=\"14.00\" fill=\"#000000\">value = [34, 68, 3]</text>\n<text text-anchor=\"middle\" x=\"6315.5\" y=\"-200.8\" font-family=\"Helvetica,sans-Serif\" font-size=\"14.00\" fill=\"#000000\">class = 여</text>\n</g>\n<!-- 81&#45;&gt;82 -->\n<g id=\"edge82\" class=\"edge\">\n<title>81&#45;&gt;82</title>\n<path fill=\"none\" stroke=\"#000000\" d=\"M6315.5,-296.9465C6315.5,-288.776 6315.5,-279.9318 6315.5,-271.3697\"/>\n<polygon fill=\"#000000\" stroke=\"#000000\" points=\"6319.0001,-271.13 6315.5,-261.13 6312.0001,-271.13 6319.0001,-271.13\"/>\n</g>\n<!-- 89 -->\n<g id=\"node90\" class=\"node\">\n<title>89</title>\n<polygon fill=\"#fdf4ee\" stroke=\"#000000\" points=\"6801,-261 6670,-261 6670,-193 6801,-193 6801,-261\"/>\n<text text-anchor=\"middle\" x=\"6735.5\" y=\"-245.8\" font-family=\"Helvetica,sans-Serif\" font-size=\"14.00\" fill=\"#000000\">성별 &lt;= 1.5</text>\n<text text-anchor=\"middle\" x=\"6735.5\" y=\"-230.8\" font-family=\"Helvetica,sans-Serif\" font-size=\"14.00\" fill=\"#000000\">samples = 192</text>\n<text text-anchor=\"middle\" x=\"6735.5\" y=\"-215.8\" font-family=\"Helvetica,sans-Serif\" font-size=\"14.00\" fill=\"#000000\">value = [96, 87, 9]</text>\n<text text-anchor=\"middle\" x=\"6735.5\" y=\"-200.8\" font-family=\"Helvetica,sans-Serif\" font-size=\"14.00\" fill=\"#000000\">class = 남</text>\n</g>\n<!-- 81&#45;&gt;89 -->\n<g id=\"edge89\" class=\"edge\">\n<title>81&#45;&gt;89</title>\n<path fill=\"none\" stroke=\"#000000\" d=\"M6393.5145,-311.6821C6469.6847,-292.8209 6584.8143,-264.3127 6660.0831,-245.6747\"/>\n<polygon fill=\"#000000\" stroke=\"#000000\" points=\"6661.1076,-249.0267 6669.9732,-243.2257 6659.4251,-242.232 6661.1076,-249.0267\"/>\n</g>\n<!-- 83 -->\n<g id=\"node84\" class=\"node\">\n<title>83</title>\n<polygon fill=\"#eca572\" stroke=\"#000000\" points=\"6297,-157 6182,-157 6182,-89 6297,-89 6297,-157\"/>\n<text text-anchor=\"middle\" x=\"6239.5\" y=\"-141.8\" font-family=\"Helvetica,sans-Serif\" font-size=\"14.00\" fill=\"#000000\">성별 &lt;= 6.5</text>\n<text text-anchor=\"middle\" x=\"6239.5\" y=\"-126.8\" font-family=\"Helvetica,sans-Serif\" font-size=\"14.00\" fill=\"#000000\">samples = 9</text>\n<text text-anchor=\"middle\" x=\"6239.5\" y=\"-111.8\" font-family=\"Helvetica,sans-Serif\" font-size=\"14.00\" fill=\"#000000\">value = [7, 2, 0]</text>\n<text text-anchor=\"middle\" x=\"6239.5\" y=\"-96.8\" font-family=\"Helvetica,sans-Serif\" font-size=\"14.00\" fill=\"#000000\">class = 남</text>\n</g>\n<!-- 82&#45;&gt;83 -->\n<g id=\"edge83\" class=\"edge\">\n<title>82&#45;&gt;83</title>\n<path fill=\"none\" stroke=\"#000000\" d=\"M6290.6148,-192.9465C6284.1847,-184.1475 6277.1837,-174.5672 6270.4841,-165.3993\"/>\n<polygon fill=\"#000000\" stroke=\"#000000\" points=\"6273.1672,-163.1389 6264.4412,-157.13 6267.5155,-167.269 6273.1672,-163.1389\"/>\n</g>\n<!-- 86 -->\n<g id=\"node87\" class=\"node\">\n<title>86</title>\n<polygon fill=\"#8ff0b8\" stroke=\"#000000\" points=\"6466,-157 6315,-157 6315,-89 6466,-89 6466,-157\"/>\n<text text-anchor=\"middle\" x=\"6390.5\" y=\"-141.8\" font-family=\"Helvetica,sans-Serif\" font-size=\"14.00\" fill=\"#000000\">운동량 &lt;= 13316.935</text>\n<text text-anchor=\"middle\" x=\"6390.5\" y=\"-126.8\" font-family=\"Helvetica,sans-Serif\" font-size=\"14.00\" fill=\"#000000\">samples = 96</text>\n<text text-anchor=\"middle\" x=\"6390.5\" y=\"-111.8\" font-family=\"Helvetica,sans-Serif\" font-size=\"14.00\" fill=\"#000000\">value = [27, 66, 3]</text>\n<text text-anchor=\"middle\" x=\"6390.5\" y=\"-96.8\" font-family=\"Helvetica,sans-Serif\" font-size=\"14.00\" fill=\"#000000\">class = 여</text>\n</g>\n<!-- 82&#45;&gt;86 -->\n<g id=\"edge86\" class=\"edge\">\n<title>82&#45;&gt;86</title>\n<path fill=\"none\" stroke=\"#000000\" d=\"M6340.0578,-192.9465C6346.4032,-184.1475 6353.3121,-174.5672 6359.9236,-165.3993\"/>\n<polygon fill=\"#000000\" stroke=\"#000000\" points=\"6362.8766,-167.2882 6365.887,-157.13 6357.1989,-163.1937 6362.8766,-167.2882\"/>\n</g>\n<!-- 84 -->\n<g id=\"node85\" class=\"node\">\n<title>84</title>\n<polygon fill=\"#e58139\" stroke=\"#000000\" points=\"6171,-53 6056,-53 6056,0 6171,0 6171,-53\"/>\n<text text-anchor=\"middle\" x=\"6113.5\" y=\"-37.8\" font-family=\"Helvetica,sans-Serif\" font-size=\"14.00\" fill=\"#000000\">samples = 7</text>\n<text text-anchor=\"middle\" x=\"6113.5\" y=\"-22.8\" font-family=\"Helvetica,sans-Serif\" font-size=\"14.00\" fill=\"#000000\">value = [7, 0, 0]</text>\n<text text-anchor=\"middle\" x=\"6113.5\" y=\"-7.8\" font-family=\"Helvetica,sans-Serif\" font-size=\"14.00\" fill=\"#000000\">class = 남</text>\n</g>\n<!-- 83&#45;&gt;84 -->\n<g id=\"edge84\" class=\"edge\">\n<title>83&#45;&gt;84</title>\n<path fill=\"none\" stroke=\"#000000\" d=\"M6195.0771,-88.9777C6182.523,-79.3629 6168.8881,-68.9203 6156.424,-59.3743\"/>\n<polygon fill=\"#000000\" stroke=\"#000000\" points=\"6158.4927,-56.5502 6148.4255,-53.2485 6154.2365,-62.1076 6158.4927,-56.5502\"/>\n</g>\n<!-- 85 -->\n<g id=\"node86\" class=\"node\">\n<title>85</title>\n<polygon fill=\"#39e581\" stroke=\"#000000\" points=\"6304,-53 6189,-53 6189,0 6304,0 6304,-53\"/>\n<text text-anchor=\"middle\" x=\"6246.5\" y=\"-37.8\" font-family=\"Helvetica,sans-Serif\" font-size=\"14.00\" fill=\"#000000\">samples = 2</text>\n<text text-anchor=\"middle\" x=\"6246.5\" y=\"-22.8\" font-family=\"Helvetica,sans-Serif\" font-size=\"14.00\" fill=\"#000000\">value = [0, 2, 0]</text>\n<text text-anchor=\"middle\" x=\"6246.5\" y=\"-7.8\" font-family=\"Helvetica,sans-Serif\" font-size=\"14.00\" fill=\"#000000\">class = 여</text>\n</g>\n<!-- 83&#45;&gt;85 -->\n<g id=\"edge85\" class=\"edge\">\n<title>83&#45;&gt;85</title>\n<path fill=\"none\" stroke=\"#000000\" d=\"M6241.9679,-88.9777C6242.5724,-80.6449 6243.222,-71.6903 6243.8352,-63.2364\"/>\n<polygon fill=\"#000000\" stroke=\"#000000\" points=\"6247.3269,-63.4755 6244.5597,-53.2485 6240.3453,-62.969 6247.3269,-63.4755\"/>\n</g>\n<!-- 87 -->\n<g id=\"node88\" class=\"node\">\n<title>87</title>\n<polygon fill=\"#5cea98\" stroke=\"#000000\" points=\"6445,-53 6322,-53 6322,0 6445,0 6445,-53\"/>\n<text text-anchor=\"middle\" x=\"6383.5\" y=\"-37.8\" font-family=\"Helvetica,sans-Serif\" font-size=\"14.00\" fill=\"#000000\">samples = 33</text>\n<text text-anchor=\"middle\" x=\"6383.5\" y=\"-22.8\" font-family=\"Helvetica,sans-Serif\" font-size=\"14.00\" fill=\"#000000\">value = [5, 28, 0]</text>\n<text text-anchor=\"middle\" x=\"6383.5\" y=\"-7.8\" font-family=\"Helvetica,sans-Serif\" font-size=\"14.00\" fill=\"#000000\">class = 여</text>\n</g>\n<!-- 86&#45;&gt;87 -->\n<g id=\"edge87\" class=\"edge\">\n<title>86&#45;&gt;87</title>\n<path fill=\"none\" stroke=\"#000000\" d=\"M6388.0321,-88.9777C6387.4276,-80.6449 6386.778,-71.6903 6386.1648,-63.2364\"/>\n<polygon fill=\"#000000\" stroke=\"#000000\" points=\"6389.6547,-62.969 6385.4403,-53.2485 6382.6731,-63.4755 6389.6547,-62.969\"/>\n</g>\n<!-- 88 -->\n<g id=\"node89\" class=\"node\">\n<title>88</title>\n<polygon fill=\"#b2f5ce\" stroke=\"#000000\" points=\"6594,-53 6463,-53 6463,0 6594,0 6594,-53\"/>\n<text text-anchor=\"middle\" x=\"6528.5\" y=\"-37.8\" font-family=\"Helvetica,sans-Serif\" font-size=\"14.00\" fill=\"#000000\">samples = 63</text>\n<text text-anchor=\"middle\" x=\"6528.5\" y=\"-22.8\" font-family=\"Helvetica,sans-Serif\" font-size=\"14.00\" fill=\"#000000\">value = [22, 38, 3]</text>\n<text text-anchor=\"middle\" x=\"6528.5\" y=\"-7.8\" font-family=\"Helvetica,sans-Serif\" font-size=\"14.00\" fill=\"#000000\">class = 여</text>\n</g>\n<!-- 86&#45;&gt;88 -->\n<g id=\"edge88\" class=\"edge\">\n<title>86&#45;&gt;88</title>\n<path fill=\"none\" stroke=\"#000000\" d=\"M6439.1536,-88.9777C6453.0343,-79.2713 6468.1214,-68.7213 6481.8777,-59.1018\"/>\n<polygon fill=\"#000000\" stroke=\"#000000\" points=\"6484.0589,-61.8475 6490.2483,-53.2485 6480.0474,-56.1109 6484.0589,-61.8475\"/>\n</g>\n<!-- 90 -->\n<g id=\"node91\" class=\"node\">\n<title>90</title>\n<polygon fill=\"#e78a47\" stroke=\"#000000\" points=\"6801,-157 6670,-157 6670,-89 6801,-89 6801,-157\"/>\n<text text-anchor=\"middle\" x=\"6735.5\" y=\"-141.8\" font-family=\"Helvetica,sans-Serif\" font-size=\"14.00\" fill=\"#000000\">대여소명 &lt;= 812.0</text>\n<text text-anchor=\"middle\" x=\"6735.5\" y=\"-126.8\" font-family=\"Helvetica,sans-Serif\" font-size=\"14.00\" fill=\"#000000\">samples = 15</text>\n<text text-anchor=\"middle\" x=\"6735.5\" y=\"-111.8\" font-family=\"Helvetica,sans-Serif\" font-size=\"14.00\" fill=\"#000000\">value = [14, 1, 0]</text>\n<text text-anchor=\"middle\" x=\"6735.5\" y=\"-96.8\" font-family=\"Helvetica,sans-Serif\" font-size=\"14.00\" fill=\"#000000\">class = 남</text>\n</g>\n<!-- 89&#45;&gt;90 -->\n<g id=\"edge90\" class=\"edge\">\n<title>89&#45;&gt;90</title>\n<path fill=\"none\" stroke=\"#000000\" d=\"M6735.5,-192.9465C6735.5,-184.776 6735.5,-175.9318 6735.5,-167.3697\"/>\n<polygon fill=\"#000000\" stroke=\"#000000\" points=\"6739.0001,-167.13 6735.5,-157.13 6732.0001,-167.13 6739.0001,-167.13\"/>\n</g>\n<!-- 93 -->\n<g id=\"node94\" class=\"node\">\n<title>93</title>\n<polygon fill=\"#f7fefa\" stroke=\"#000000\" points=\"7017,-157 6886,-157 6886,-89 7017,-89 7017,-157\"/>\n<text text-anchor=\"middle\" x=\"6951.5\" y=\"-141.8\" font-family=\"Helvetica,sans-Serif\" font-size=\"14.00\" fill=\"#000000\">대여구분 &lt;= 4.5</text>\n<text text-anchor=\"middle\" x=\"6951.5\" y=\"-126.8\" font-family=\"Helvetica,sans-Serif\" font-size=\"14.00\" fill=\"#000000\">samples = 177</text>\n<text text-anchor=\"middle\" x=\"6951.5\" y=\"-111.8\" font-family=\"Helvetica,sans-Serif\" font-size=\"14.00\" fill=\"#000000\">value = [82, 86, 9]</text>\n<text text-anchor=\"middle\" x=\"6951.5\" y=\"-96.8\" font-family=\"Helvetica,sans-Serif\" font-size=\"14.00\" fill=\"#000000\">class = 여</text>\n</g>\n<!-- 89&#45;&gt;93 -->\n<g id=\"edge93\" class=\"edge\">\n<title>89&#45;&gt;93</title>\n<path fill=\"none\" stroke=\"#000000\" d=\"M6801.1869,-195.373C6824.9593,-183.927 6851.9807,-170.9167 6876.4935,-159.1142\"/>\n<polygon fill=\"#000000\" stroke=\"#000000\" points=\"6878.2618,-162.1475 6885.7534,-154.6557 6875.225,-155.8405 6878.2618,-162.1475\"/>\n</g>\n<!-- 91 -->\n<g id=\"node92\" class=\"node\">\n<title>91</title>\n<polygon fill=\"#ffffff\" stroke=\"#000000\" points=\"6727,-53 6612,-53 6612,0 6727,0 6727,-53\"/>\n<text text-anchor=\"middle\" x=\"6669.5\" y=\"-37.8\" font-family=\"Helvetica,sans-Serif\" font-size=\"14.00\" fill=\"#000000\">samples = 2</text>\n<text text-anchor=\"middle\" x=\"6669.5\" y=\"-22.8\" font-family=\"Helvetica,sans-Serif\" font-size=\"14.00\" fill=\"#000000\">value = [1, 1, 0]</text>\n<text text-anchor=\"middle\" x=\"6669.5\" y=\"-7.8\" font-family=\"Helvetica,sans-Serif\" font-size=\"14.00\" fill=\"#000000\">class = 남</text>\n</g>\n<!-- 90&#45;&gt;91 -->\n<g id=\"edge91\" class=\"edge\">\n<title>90&#45;&gt;91</title>\n<path fill=\"none\" stroke=\"#000000\" d=\"M6712.2309,-88.9777C6706.156,-80.0954 6699.5979,-70.5067 6693.4865,-61.5711\"/>\n<polygon fill=\"#000000\" stroke=\"#000000\" points=\"6696.3286,-59.5267 6687.7943,-53.2485 6690.5507,-63.4785 6696.3286,-59.5267\"/>\n</g>\n<!-- 92 -->\n<g id=\"node93\" class=\"node\">\n<title>92</title>\n<polygon fill=\"#e58139\" stroke=\"#000000\" points=\"6868,-53 6745,-53 6745,0 6868,0 6868,-53\"/>\n<text text-anchor=\"middle\" x=\"6806.5\" y=\"-37.8\" font-family=\"Helvetica,sans-Serif\" font-size=\"14.00\" fill=\"#000000\">samples = 13</text>\n<text text-anchor=\"middle\" x=\"6806.5\" y=\"-22.8\" font-family=\"Helvetica,sans-Serif\" font-size=\"14.00\" fill=\"#000000\">value = [13, 0, 0]</text>\n<text text-anchor=\"middle\" x=\"6806.5\" y=\"-7.8\" font-family=\"Helvetica,sans-Serif\" font-size=\"14.00\" fill=\"#000000\">class = 남</text>\n</g>\n<!-- 90&#45;&gt;92 -->\n<g id=\"edge92\" class=\"edge\">\n<title>90&#45;&gt;92</title>\n<path fill=\"none\" stroke=\"#000000\" d=\"M6760.5319,-88.9777C6767.0671,-80.0954 6774.122,-70.5067 6780.6964,-61.5711\"/>\n<polygon fill=\"#000000\" stroke=\"#000000\" points=\"6783.7126,-63.3775 6786.8198,-53.2485 6778.0743,-59.229 6783.7126,-63.3775\"/>\n</g>\n<!-- 94 -->\n<g id=\"node95\" class=\"node\">\n<title>94</title>\n<polygon fill=\"#f8e0ce\" stroke=\"#000000\" points=\"7017,-53 6886,-53 6886,0 7017,0 7017,-53\"/>\n<text text-anchor=\"middle\" x=\"6951.5\" y=\"-37.8\" font-family=\"Helvetica,sans-Serif\" font-size=\"14.00\" fill=\"#000000\">samples = 112</text>\n<text text-anchor=\"middle\" x=\"6951.5\" y=\"-22.8\" font-family=\"Helvetica,sans-Serif\" font-size=\"14.00\" fill=\"#000000\">value = [61, 44, 7]</text>\n<text text-anchor=\"middle\" x=\"6951.5\" y=\"-7.8\" font-family=\"Helvetica,sans-Serif\" font-size=\"14.00\" fill=\"#000000\">class = 남</text>\n</g>\n<!-- 93&#45;&gt;94 -->\n<g id=\"edge94\" class=\"edge\">\n<title>93&#45;&gt;94</title>\n<path fill=\"none\" stroke=\"#000000\" d=\"M6951.5,-88.9777C6951.5,-80.7364 6951.5,-71.887 6951.5,-63.5153\"/>\n<polygon fill=\"#000000\" stroke=\"#000000\" points=\"6955.0001,-63.2484 6951.5,-53.2485 6948.0001,-63.2485 6955.0001,-63.2484\"/>\n</g>\n<!-- 95 -->\n<g id=\"node96\" class=\"node\">\n<title>95</title>\n<polygon fill=\"#a0f3c3\" stroke=\"#000000\" points=\"7166,-53 7035,-53 7035,0 7166,0 7166,-53\"/>\n<text text-anchor=\"middle\" x=\"7100.5\" y=\"-37.8\" font-family=\"Helvetica,sans-Serif\" font-size=\"14.00\" fill=\"#000000\">samples = 65</text>\n<text text-anchor=\"middle\" x=\"7100.5\" y=\"-22.8\" font-family=\"Helvetica,sans-Serif\" font-size=\"14.00\" fill=\"#000000\">value = [21, 42, 2]</text>\n<text text-anchor=\"middle\" x=\"7100.5\" y=\"-7.8\" font-family=\"Helvetica,sans-Serif\" font-size=\"14.00\" fill=\"#000000\">class = 여</text>\n</g>\n<!-- 93&#45;&gt;95 -->\n<g id=\"edge95\" class=\"edge\">\n<title>93&#45;&gt;95</title>\n<path fill=\"none\" stroke=\"#000000\" d=\"M7004.0318,-88.9777C7019.1603,-79.1798 7035.616,-68.5222 7050.5814,-58.8298\"/>\n<polygon fill=\"#000000\" stroke=\"#000000\" points=\"7052.7084,-61.6222 7059.1992,-53.2485 7048.9032,-55.7468 7052.7084,-61.6222\"/>\n</g>\n<!-- 97 -->\n<g id=\"node98\" class=\"node\">\n<title>97</title>\n<polygon fill=\"#fefaf7\" stroke=\"#000000\" points=\"7812.5,-365 7648.5,-365 7648.5,-297 7812.5,-297 7812.5,-365\"/>\n<text text-anchor=\"middle\" x=\"7730.5\" y=\"-349.8\" font-family=\"Helvetica,sans-Serif\" font-size=\"14.00\" fill=\"#000000\">이용건수 &lt;= 4.375</text>\n<text text-anchor=\"middle\" x=\"7730.5\" y=\"-334.8\" font-family=\"Helvetica,sans-Serif\" font-size=\"14.00\" fill=\"#000000\">samples = 792</text>\n<text text-anchor=\"middle\" x=\"7730.5\" y=\"-319.8\" font-family=\"Helvetica,sans-Serif\" font-size=\"14.00\" fill=\"#000000\">value = [319, 173, 300]</text>\n<text text-anchor=\"middle\" x=\"7730.5\" y=\"-304.8\" font-family=\"Helvetica,sans-Serif\" font-size=\"14.00\" fill=\"#000000\">class = 남</text>\n</g>\n<!-- 96&#45;&gt;97 -->\n<g id=\"edge97\" class=\"edge\">\n<title>96&#45;&gt;97</title>\n<path fill=\"none\" stroke=\"#000000\" d=\"M7730.5,-400.9465C7730.5,-392.776 7730.5,-383.9318 7730.5,-375.3697\"/>\n<polygon fill=\"#000000\" stroke=\"#000000\" points=\"7734.0001,-375.13 7730.5,-365.13 7727.0001,-375.13 7734.0001,-375.13\"/>\n</g>\n<!-- 112 -->\n<g id=\"node113\" class=\"node\">\n<title>112</title>\n<polygon fill=\"#f9fefb\" stroke=\"#000000\" points=\"8757,-365 8568,-365 8568,-297 8757,-297 8757,-365\"/>\n<text text-anchor=\"middle\" x=\"8662.5\" y=\"-349.8\" font-family=\"Helvetica,sans-Serif\" font-size=\"14.00\" fill=\"#000000\">운동량 &lt;= 19920.811</text>\n<text text-anchor=\"middle\" x=\"8662.5\" y=\"-334.8\" font-family=\"Helvetica,sans-Serif\" font-size=\"14.00\" fill=\"#000000\">samples = 8484</text>\n<text text-anchor=\"middle\" x=\"8662.5\" y=\"-319.8\" font-family=\"Helvetica,sans-Serif\" font-size=\"14.00\" fill=\"#000000\">value = [3055, 3210, 2219]</text>\n<text text-anchor=\"middle\" x=\"8662.5\" y=\"-304.8\" font-family=\"Helvetica,sans-Serif\" font-size=\"14.00\" fill=\"#000000\">class = 여</text>\n</g>\n<!-- 96&#45;&gt;112 -->\n<g id=\"edge112\" class=\"edge\">\n<title>96&#45;&gt;112</title>\n<path fill=\"none\" stroke=\"#000000\" d=\"M7825.4269,-424.4073C8000.9643,-404.8194 8375.0145,-363.0799 8557.7084,-342.6935\"/>\n<polygon fill=\"#000000\" stroke=\"#000000\" points=\"8558.3122,-346.1479 8567.8623,-341.5604 8557.5358,-339.1911 8558.3122,-346.1479\"/>\n</g>\n<!-- 98 -->\n<g id=\"node99\" class=\"node\">\n<title>98</title>\n<polygon fill=\"#fae7d9\" stroke=\"#000000\" points=\"7734.5,-261 7570.5,-261 7570.5,-193 7734.5,-193 7734.5,-261\"/>\n<text text-anchor=\"middle\" x=\"7652.5\" y=\"-245.8\" font-family=\"Helvetica,sans-Serif\" font-size=\"14.00\" fill=\"#000000\">연령대코드 &lt;= 448.15</text>\n<text text-anchor=\"middle\" x=\"7652.5\" y=\"-230.8\" font-family=\"Helvetica,sans-Serif\" font-size=\"14.00\" fill=\"#000000\">samples = 621</text>\n<text text-anchor=\"middle\" x=\"7652.5\" y=\"-215.8\" font-family=\"Helvetica,sans-Serif\" font-size=\"14.00\" fill=\"#000000\">value = [270, 164, 187]</text>\n<text text-anchor=\"middle\" x=\"7652.5\" y=\"-200.8\" font-family=\"Helvetica,sans-Serif\" font-size=\"14.00\" fill=\"#000000\">class = 남</text>\n</g>\n<!-- 97&#45;&gt;98 -->\n<g id=\"edge98\" class=\"edge\">\n<title>97&#45;&gt;98</title>\n<path fill=\"none\" stroke=\"#000000\" d=\"M7704.9599,-296.9465C7698.3607,-288.1475 7691.1754,-278.5672 7684.2995,-269.3993\"/>\n<polygon fill=\"#000000\" stroke=\"#000000\" points=\"7686.8975,-267.03 7678.0975,-261.13 7681.2975,-271.23 7686.8975,-267.03\"/>\n</g>\n<!-- 105 -->\n<g id=\"node106\" class=\"node\">\n<title>105</title>\n<polygon fill=\"#bd97f1\" stroke=\"#000000\" points=\"8004.5,-261 7864.5,-261 7864.5,-193 8004.5,-193 8004.5,-261\"/>\n<text text-anchor=\"middle\" x=\"7934.5\" y=\"-245.8\" font-family=\"Helvetica,sans-Serif\" font-size=\"14.00\" fill=\"#000000\">탄소량 &lt;= 144.5</text>\n<text text-anchor=\"middle\" x=\"7934.5\" y=\"-230.8\" font-family=\"Helvetica,sans-Serif\" font-size=\"14.00\" fill=\"#000000\">samples = 171</text>\n<text text-anchor=\"middle\" x=\"7934.5\" y=\"-215.8\" font-family=\"Helvetica,sans-Serif\" font-size=\"14.00\" fill=\"#000000\">value = [49, 9, 113]</text>\n<text text-anchor=\"middle\" x=\"7934.5\" y=\"-200.8\" font-family=\"Helvetica,sans-Serif\" font-size=\"14.00\" fill=\"#000000\">class = 미기입</text>\n</g>\n<!-- 97&#45;&gt;105 -->\n<g id=\"edge105\" class=\"edge\">\n<title>97&#45;&gt;105</title>\n<path fill=\"none\" stroke=\"#000000\" d=\"M7797.2972,-296.9465C7816.8463,-286.9803 7838.3617,-276.0117 7858.4406,-265.7754\"/>\n<polygon fill=\"#000000\" stroke=\"#000000\" points=\"7860.2333,-268.7901 7867.5527,-261.13 7857.054,-262.5537 7860.2333,-268.7901\"/>\n</g>\n<!-- 99 -->\n<g id=\"node100\" class=\"node\">\n<title>99</title>\n<polygon fill=\"#fefcfa\" stroke=\"#000000\" points=\"7494.5,-157 7338.5,-157 7338.5,-89 7494.5,-89 7494.5,-157\"/>\n<text text-anchor=\"middle\" x=\"7416.5\" y=\"-141.8\" font-family=\"Helvetica,sans-Serif\" font-size=\"14.00\" fill=\"#000000\">운동량 &lt;= 17147.811</text>\n<text text-anchor=\"middle\" x=\"7416.5\" y=\"-126.8\" font-family=\"Helvetica,sans-Serif\" font-size=\"14.00\" fill=\"#000000\">samples = 421</text>\n<text text-anchor=\"middle\" x=\"7416.5\" y=\"-111.8\" font-family=\"Helvetica,sans-Serif\" font-size=\"14.00\" fill=\"#000000\">value = [170, 87, 164]</text>\n<text text-anchor=\"middle\" x=\"7416.5\" y=\"-96.8\" font-family=\"Helvetica,sans-Serif\" font-size=\"14.00\" fill=\"#000000\">class = 남</text>\n</g>\n<!-- 98&#45;&gt;99 -->\n<g id=\"edge99\" class=\"edge\">\n<title>98&#45;&gt;99</title>\n<path fill=\"none\" stroke=\"#000000\" d=\"M7575.2248,-192.9465C7552.2017,-182.8008 7526.8212,-171.6161 7503.2364,-161.2228\"/>\n<polygon fill=\"#000000\" stroke=\"#000000\" points=\"7504.5111,-157.9598 7493.9488,-157.13 7501.6883,-164.3654 7504.5111,-157.9598\"/>\n</g>\n<!-- 102 -->\n<g id=\"node103\" class=\"node\">\n<title>102</title>\n<polygon fill=\"#fae7da\" stroke=\"#000000\" points=\"7726.5,-157 7578.5,-157 7578.5,-89 7726.5,-89 7726.5,-157\"/>\n<text text-anchor=\"middle\" x=\"7652.5\" y=\"-141.8\" font-family=\"Helvetica,sans-Serif\" font-size=\"14.00\" fill=\"#000000\">이용건수 &lt;= 4.155</text>\n<text text-anchor=\"middle\" x=\"7652.5\" y=\"-126.8\" font-family=\"Helvetica,sans-Serif\" font-size=\"14.00\" fill=\"#000000\">samples = 200</text>\n<text text-anchor=\"middle\" x=\"7652.5\" y=\"-111.8\" font-family=\"Helvetica,sans-Serif\" font-size=\"14.00\" fill=\"#000000\">value = [100, 77, 23]</text>\n<text text-anchor=\"middle\" x=\"7652.5\" y=\"-96.8\" font-family=\"Helvetica,sans-Serif\" font-size=\"14.00\" fill=\"#000000\">class = 남</text>\n</g>\n<!-- 98&#45;&gt;102 -->\n<g id=\"edge102\" class=\"edge\">\n<title>98&#45;&gt;102</title>\n<path fill=\"none\" stroke=\"#000000\" d=\"M7652.5,-192.9465C7652.5,-184.776 7652.5,-175.9318 7652.5,-167.3697\"/>\n<polygon fill=\"#000000\" stroke=\"#000000\" points=\"7656.0001,-167.13 7652.5,-157.13 7649.0001,-167.13 7656.0001,-167.13\"/>\n</g>\n<!-- 100 -->\n<g id=\"node101\" class=\"node\">\n<title>100</title>\n<polygon fill=\"#fbece2\" stroke=\"#000000\" points=\"7332.5,-53 7184.5,-53 7184.5,0 7332.5,0 7332.5,-53\"/>\n<text text-anchor=\"middle\" x=\"7258.5\" y=\"-37.8\" font-family=\"Helvetica,sans-Serif\" font-size=\"14.00\" fill=\"#000000\">samples = 307</text>\n<text text-anchor=\"middle\" x=\"7258.5\" y=\"-22.8\" font-family=\"Helvetica,sans-Serif\" font-size=\"14.00\" fill=\"#000000\">value = [128, 82, 97]</text>\n<text text-anchor=\"middle\" x=\"7258.5\" y=\"-7.8\" font-family=\"Helvetica,sans-Serif\" font-size=\"14.00\" fill=\"#000000\">class = 남</text>\n</g>\n<!-- 99&#45;&gt;100 -->\n<g id=\"edge100\" class=\"edge\">\n<title>99&#45;&gt;100</title>\n<path fill=\"none\" stroke=\"#000000\" d=\"M7360.7951,-88.9777C7344.528,-79.0424 7326.8136,-68.2232 7310.7674,-58.4228\"/>\n<polygon fill=\"#000000\" stroke=\"#000000\" points=\"7312.4027,-55.3204 7302.0442,-53.095 7308.754,-61.2943 7312.4027,-55.3204\"/>\n</g>\n<!-- 101 -->\n<g id=\"node102\" class=\"node\">\n<title>101</title>\n<polygon fill=\"#d3baf6\" stroke=\"#000000\" points=\"7482,-53 7351,-53 7351,0 7482,0 7482,-53\"/>\n<text text-anchor=\"middle\" x=\"7416.5\" y=\"-37.8\" font-family=\"Helvetica,sans-Serif\" font-size=\"14.00\" fill=\"#000000\">samples = 114</text>\n<text text-anchor=\"middle\" x=\"7416.5\" y=\"-22.8\" font-family=\"Helvetica,sans-Serif\" font-size=\"14.00\" fill=\"#000000\">value = [42, 5, 67]</text>\n<text text-anchor=\"middle\" x=\"7416.5\" y=\"-7.8\" font-family=\"Helvetica,sans-Serif\" font-size=\"14.00\" fill=\"#000000\">class = 미기입</text>\n</g>\n<!-- 99&#45;&gt;101 -->\n<g id=\"edge101\" class=\"edge\">\n<title>99&#45;&gt;101</title>\n<path fill=\"none\" stroke=\"#000000\" d=\"M7416.5,-88.9777C7416.5,-80.7364 7416.5,-71.887 7416.5,-63.5153\"/>\n<polygon fill=\"#000000\" stroke=\"#000000\" points=\"7420.0001,-63.2484 7416.5,-53.2485 7413.0001,-63.2485 7420.0001,-63.2484\"/>\n</g>\n<!-- 103 -->\n<g id=\"node104\" class=\"node\">\n<title>103</title>\n<polygon fill=\"#f1fdf6\" stroke=\"#000000\" points=\"7631,-53 7500,-53 7500,0 7631,0 7631,-53\"/>\n<text text-anchor=\"middle\" x=\"7565.5\" y=\"-37.8\" font-family=\"Helvetica,sans-Serif\" font-size=\"14.00\" fill=\"#000000\">samples = 134</text>\n<text text-anchor=\"middle\" x=\"7565.5\" y=\"-22.8\" font-family=\"Helvetica,sans-Serif\" font-size=\"14.00\" fill=\"#000000\">value = [62, 67, 5]</text>\n<text text-anchor=\"middle\" x=\"7565.5\" y=\"-7.8\" font-family=\"Helvetica,sans-Serif\" font-size=\"14.00\" fill=\"#000000\">class = 여</text>\n</g>\n<!-- 102&#45;&gt;103 -->\n<g id=\"edge103\" class=\"edge\">\n<title>102&#45;&gt;103</title>\n<path fill=\"none\" stroke=\"#000000\" d=\"M7621.8271,-88.9777C7613.5715,-79.8207 7604.6391,-69.9129 7596.3728,-60.744\"/>\n<polygon fill=\"#000000\" stroke=\"#000000\" points=\"7598.9108,-58.3321 7589.6152,-53.2485 7593.7117,-63.0193 7598.9108,-58.3321\"/>\n</g>\n<!-- 104 -->\n<g id=\"node105\" class=\"node\">\n<title>104</title>\n<polygon fill=\"#f4caac\" stroke=\"#000000\" points=\"7789.5,-53 7649.5,-53 7649.5,0 7789.5,0 7789.5,-53\"/>\n<text text-anchor=\"middle\" x=\"7719.5\" y=\"-37.8\" font-family=\"Helvetica,sans-Serif\" font-size=\"14.00\" fill=\"#000000\">samples = 66</text>\n<text text-anchor=\"middle\" x=\"7719.5\" y=\"-22.8\" font-family=\"Helvetica,sans-Serif\" font-size=\"14.00\" fill=\"#000000\">value = [38, 10, 18]</text>\n<text text-anchor=\"middle\" x=\"7719.5\" y=\"-7.8\" font-family=\"Helvetica,sans-Serif\" font-size=\"14.00\" fill=\"#000000\">class = 남</text>\n</g>\n<!-- 102&#45;&gt;104 -->\n<g id=\"edge104\" class=\"edge\">\n<title>102&#45;&gt;104</title>\n<path fill=\"none\" stroke=\"#000000\" d=\"M7676.1217,-88.9777C7682.2887,-80.0954 7688.9461,-70.5067 7695.1501,-61.5711\"/>\n<polygon fill=\"#000000\" stroke=\"#000000\" points=\"7698.1003,-63.4589 7700.9285,-53.2485 7692.3503,-59.4666 7698.1003,-63.4589\"/>\n</g>\n<!-- 106 -->\n<g id=\"node107\" class=\"node\">\n<title>106</title>\n<polygon fill=\"#f8dcc8\" stroke=\"#000000\" points=\"8011,-157 7858,-157 7858,-89 8011,-89 8011,-157\"/>\n<text text-anchor=\"middle\" x=\"7934.5\" y=\"-141.8\" font-family=\"Helvetica,sans-Serif\" font-size=\"14.00\" fill=\"#000000\">연령대코드 &lt;= 485.96</text>\n<text text-anchor=\"middle\" x=\"7934.5\" y=\"-126.8\" font-family=\"Helvetica,sans-Serif\" font-size=\"14.00\" fill=\"#000000\">samples = 47</text>\n<text text-anchor=\"middle\" x=\"7934.5\" y=\"-111.8\" font-family=\"Helvetica,sans-Serif\" font-size=\"14.00\" fill=\"#000000\">value = [26, 3, 18]</text>\n<text text-anchor=\"middle\" x=\"7934.5\" y=\"-96.8\" font-family=\"Helvetica,sans-Serif\" font-size=\"14.00\" fill=\"#000000\">class = 남</text>\n</g>\n<!-- 105&#45;&gt;106 -->\n<g id=\"edge106\" class=\"edge\">\n<title>105&#45;&gt;106</title>\n<path fill=\"none\" stroke=\"#000000\" d=\"M7934.5,-192.9465C7934.5,-184.776 7934.5,-175.9318 7934.5,-167.3697\"/>\n<polygon fill=\"#000000\" stroke=\"#000000\" points=\"7938.0001,-167.13 7934.5,-157.13 7931.0001,-167.13 7938.0001,-167.13\"/>\n</g>\n<!-- 109 -->\n<g id=\"node110\" class=\"node\">\n<title>109</title>\n<polygon fill=\"#a572ec\" stroke=\"#000000\" points=\"8221,-157 8090,-157 8090,-89 8221,-89 8221,-157\"/>\n<text text-anchor=\"middle\" x=\"8155.5\" y=\"-141.8\" font-family=\"Helvetica,sans-Serif\" font-size=\"14.00\" fill=\"#000000\">대여구분 &lt;= 2.5</text>\n<text text-anchor=\"middle\" x=\"8155.5\" y=\"-126.8\" font-family=\"Helvetica,sans-Serif\" font-size=\"14.00\" fill=\"#000000\">samples = 124</text>\n<text text-anchor=\"middle\" x=\"8155.5\" y=\"-111.8\" font-family=\"Helvetica,sans-Serif\" font-size=\"14.00\" fill=\"#000000\">value = [23, 6, 95]</text>\n<text text-anchor=\"middle\" x=\"8155.5\" y=\"-96.8\" font-family=\"Helvetica,sans-Serif\" font-size=\"14.00\" fill=\"#000000\">class = 미기입</text>\n</g>\n<!-- 105&#45;&gt;109 -->\n<g id=\"edge109\" class=\"edge\">\n<title>105&#45;&gt;109</title>\n<path fill=\"none\" stroke=\"#000000\" d=\"M8004.7294,-193.9509C8028.9372,-182.559 8056.1322,-169.7613 8080.6918,-158.2039\"/>\n<polygon fill=\"#000000\" stroke=\"#000000\" points=\"8082.4059,-161.2655 8089.9638,-153.8406 8079.4253,-154.9317 8082.4059,-161.2655\"/>\n</g>\n<!-- 107 -->\n<g id=\"node108\" class=\"node\">\n<title>107</title>\n<polygon fill=\"#f4cbad\" stroke=\"#000000\" points=\"7939,-53 7808,-53 7808,0 7939,0 7939,-53\"/>\n<text text-anchor=\"middle\" x=\"7873.5\" y=\"-37.8\" font-family=\"Helvetica,sans-Serif\" font-size=\"14.00\" fill=\"#000000\">samples = 43</text>\n<text text-anchor=\"middle\" x=\"7873.5\" y=\"-22.8\" font-family=\"Helvetica,sans-Serif\" font-size=\"14.00\" fill=\"#000000\">value = [26, 3, 14]</text>\n<text text-anchor=\"middle\" x=\"7873.5\" y=\"-7.8\" font-family=\"Helvetica,sans-Serif\" font-size=\"14.00\" fill=\"#000000\">class = 남</text>\n</g>\n<!-- 106&#45;&gt;107 -->\n<g id=\"edge107\" class=\"edge\">\n<title>106&#45;&gt;107</title>\n<path fill=\"none\" stroke=\"#000000\" d=\"M7912.9937,-88.9777C7907.4369,-80.187 7901.4427,-70.7044 7895.8441,-61.8477\"/>\n<polygon fill=\"#000000\" stroke=\"#000000\" points=\"7898.7101,-59.8312 7890.4084,-53.2485 7892.7931,-63.5714 7898.7101,-59.8312\"/>\n</g>\n<!-- 108 -->\n<g id=\"node109\" class=\"node\">\n<title>108</title>\n<polygon fill=\"#8139e5\" stroke=\"#000000\" points=\"8072,-53 7957,-53 7957,0 8072,0 8072,-53\"/>\n<text text-anchor=\"middle\" x=\"8014.5\" y=\"-37.8\" font-family=\"Helvetica,sans-Serif\" font-size=\"14.00\" fill=\"#000000\">samples = 4</text>\n<text text-anchor=\"middle\" x=\"8014.5\" y=\"-22.8\" font-family=\"Helvetica,sans-Serif\" font-size=\"14.00\" fill=\"#000000\">value = [0, 0, 4]</text>\n<text text-anchor=\"middle\" x=\"8014.5\" y=\"-7.8\" font-family=\"Helvetica,sans-Serif\" font-size=\"14.00\" fill=\"#000000\">class = 미기입</text>\n</g>\n<!-- 106&#45;&gt;108 -->\n<g id=\"edge108\" class=\"edge\">\n<title>106&#45;&gt;108</title>\n<path fill=\"none\" stroke=\"#000000\" d=\"M7962.705,-88.9777C7970.2204,-79.9123 7978.3458,-70.111 7985.883,-61.0192\"/>\n<polygon fill=\"#000000\" stroke=\"#000000\" points=\"7988.6374,-63.1808 7992.3251,-53.2485 7983.2484,-58.7133 7988.6374,-63.1808\"/>\n</g>\n<!-- 110 -->\n<g id=\"node111\" class=\"node\">\n<title>110</title>\n<polygon fill=\"#bd98f1\" stroke=\"#000000\" points=\"8221,-53 8090,-53 8090,0 8221,0 8221,-53\"/>\n<text text-anchor=\"middle\" x=\"8155.5\" y=\"-37.8\" font-family=\"Helvetica,sans-Serif\" font-size=\"14.00\" fill=\"#000000\">samples = 61</text>\n<text text-anchor=\"middle\" x=\"8155.5\" y=\"-22.8\" font-family=\"Helvetica,sans-Serif\" font-size=\"14.00\" fill=\"#000000\">value = [17, 4, 40]</text>\n<text text-anchor=\"middle\" x=\"8155.5\" y=\"-7.8\" font-family=\"Helvetica,sans-Serif\" font-size=\"14.00\" fill=\"#000000\">class = 미기입</text>\n</g>\n<!-- 109&#45;&gt;110 -->\n<g id=\"edge110\" class=\"edge\">\n<title>109&#45;&gt;110</title>\n<path fill=\"none\" stroke=\"#000000\" d=\"M8155.5,-88.9777C8155.5,-80.7364 8155.5,-71.887 8155.5,-63.5153\"/>\n<polygon fill=\"#000000\" stroke=\"#000000\" points=\"8159.0001,-63.2484 8155.5,-53.2485 8152.0001,-63.2485 8159.0001,-63.2484\"/>\n</g>\n<!-- 111 -->\n<g id=\"node112\" class=\"node\">\n<title>111</title>\n<polygon fill=\"#9355e9\" stroke=\"#000000\" points=\"8362,-53 8239,-53 8239,0 8362,0 8362,-53\"/>\n<text text-anchor=\"middle\" x=\"8300.5\" y=\"-37.8\" font-family=\"Helvetica,sans-Serif\" font-size=\"14.00\" fill=\"#000000\">samples = 63</text>\n<text text-anchor=\"middle\" x=\"8300.5\" y=\"-22.8\" font-family=\"Helvetica,sans-Serif\" font-size=\"14.00\" fill=\"#000000\">value = [6, 2, 55]</text>\n<text text-anchor=\"middle\" x=\"8300.5\" y=\"-7.8\" font-family=\"Helvetica,sans-Serif\" font-size=\"14.00\" fill=\"#000000\">class = 미기입</text>\n</g>\n<!-- 109&#45;&gt;111 -->\n<g id=\"edge111\" class=\"edge\">\n<title>109&#45;&gt;111</title>\n<path fill=\"none\" stroke=\"#000000\" d=\"M8206.6216,-88.9777C8221.3439,-79.1798 8237.3579,-68.5222 8251.9215,-58.8298\"/>\n<polygon fill=\"#000000\" stroke=\"#000000\" points=\"8253.9222,-61.7026 8260.308,-53.2485 8250.0439,-55.8752 8253.9222,-61.7026\"/>\n</g>\n<!-- 113 -->\n<g id=\"node114\" class=\"node\">\n<title>113</title>\n<polygon fill=\"#c6f8db\" stroke=\"#000000\" points=\"8740.5,-261 8584.5,-261 8584.5,-193 8740.5,-193 8740.5,-261\"/>\n<text text-anchor=\"middle\" x=\"8662.5\" y=\"-245.8\" font-family=\"Helvetica,sans-Serif\" font-size=\"14.00\" fill=\"#000000\">대여구분 &lt;= 1.5</text>\n<text text-anchor=\"middle\" x=\"8662.5\" y=\"-230.8\" font-family=\"Helvetica,sans-Serif\" font-size=\"14.00\" fill=\"#000000\">samples = 362</text>\n<text text-anchor=\"middle\" x=\"8662.5\" y=\"-215.8\" font-family=\"Helvetica,sans-Serif\" font-size=\"14.00\" fill=\"#000000\">value = [142, 205, 15]</text>\n<text text-anchor=\"middle\" x=\"8662.5\" y=\"-200.8\" font-family=\"Helvetica,sans-Serif\" font-size=\"14.00\" fill=\"#000000\">class = 여</text>\n</g>\n<!-- 112&#45;&gt;113 -->\n<g id=\"edge113\" class=\"edge\">\n<title>112&#45;&gt;113</title>\n<path fill=\"none\" stroke=\"#000000\" d=\"M8662.5,-296.9465C8662.5,-288.776 8662.5,-279.9318 8662.5,-271.3697\"/>\n<polygon fill=\"#000000\" stroke=\"#000000\" points=\"8666.0001,-271.13 8662.5,-261.13 8659.0001,-271.13 8666.0001,-271.13\"/>\n</g>\n<!-- 120 -->\n<g id=\"node121\" class=\"node\">\n<title>120</title>\n<polygon fill=\"#fcfffd\" stroke=\"#000000\" points=\"9240,-261 9051,-261 9051,-193 9240,-193 9240,-261\"/>\n<text text-anchor=\"middle\" x=\"9145.5\" y=\"-245.8\" font-family=\"Helvetica,sans-Serif\" font-size=\"14.00\" fill=\"#000000\">연령대코드 &lt;= 624.85</text>\n<text text-anchor=\"middle\" x=\"9145.5\" y=\"-230.8\" font-family=\"Helvetica,sans-Serif\" font-size=\"14.00\" fill=\"#000000\">samples = 8122</text>\n<text text-anchor=\"middle\" x=\"9145.5\" y=\"-215.8\" font-family=\"Helvetica,sans-Serif\" font-size=\"14.00\" fill=\"#000000\">value = [2913, 3005, 2204]</text>\n<text text-anchor=\"middle\" x=\"9145.5\" y=\"-200.8\" font-family=\"Helvetica,sans-Serif\" font-size=\"14.00\" fill=\"#000000\">class = 여</text>\n</g>\n<!-- 112&#45;&gt;120 -->\n<g id=\"edge120\" class=\"edge\">\n<title>112&#45;&gt;120</title>\n<path fill=\"none\" stroke=\"#000000\" d=\"M8757.0613,-310.639C8838.691,-293.0624 8956.4535,-267.7057 9040.8859,-249.5256\"/>\n<polygon fill=\"#000000\" stroke=\"#000000\" points=\"9041.7147,-252.9274 9050.7539,-247.4008 9040.2412,-246.0843 9041.7147,-252.9274\"/>\n</g>\n<!-- 114 -->\n<g id=\"node115\" class=\"node\">\n<title>114</title>\n<polygon fill=\"#83efb0\" stroke=\"#000000\" points=\"8655,-157 8494,-157 8494,-89 8655,-89 8655,-157\"/>\n<text text-anchor=\"middle\" x=\"8574.5\" y=\"-141.8\" font-family=\"Helvetica,sans-Serif\" font-size=\"14.00\" fill=\"#000000\">연령대코드 &lt;= 512.635</text>\n<text text-anchor=\"middle\" x=\"8574.5\" y=\"-126.8\" font-family=\"Helvetica,sans-Serif\" font-size=\"14.00\" fill=\"#000000\">samples = 83</text>\n<text text-anchor=\"middle\" x=\"8574.5\" y=\"-111.8\" font-family=\"Helvetica,sans-Serif\" font-size=\"14.00\" fill=\"#000000\">value = [19, 59, 5]</text>\n<text text-anchor=\"middle\" x=\"8574.5\" y=\"-96.8\" font-family=\"Helvetica,sans-Serif\" font-size=\"14.00\" fill=\"#000000\">class = 여</text>\n</g>\n<!-- 113&#45;&gt;114 -->\n<g id=\"edge114\" class=\"edge\">\n<title>113&#45;&gt;114</title>\n<path fill=\"none\" stroke=\"#000000\" d=\"M8633.6855,-192.9465C8626.0883,-183.968 8617.8026,-174.1758 8609.9018,-164.8385\"/>\n<polygon fill=\"#000000\" stroke=\"#000000\" points=\"8612.5105,-162.5031 8603.3792,-157.13 8607.1668,-167.0247 8612.5105,-162.5031\"/>\n</g>\n<!-- 117 -->\n<g id=\"node118\" class=\"node\">\n<title>117</title>\n<polygon fill=\"#e2fbec\" stroke=\"#000000\" points=\"8829.5,-157 8673.5,-157 8673.5,-89 8829.5,-89 8829.5,-157\"/>\n<text text-anchor=\"middle\" x=\"8751.5\" y=\"-141.8\" font-family=\"Helvetica,sans-Serif\" font-size=\"14.00\" fill=\"#000000\">대여소번호 &lt;= 1.5</text>\n<text text-anchor=\"middle\" x=\"8751.5\" y=\"-126.8\" font-family=\"Helvetica,sans-Serif\" font-size=\"14.00\" fill=\"#000000\">samples = 279</text>\n<text text-anchor=\"middle\" x=\"8751.5\" y=\"-111.8\" font-family=\"Helvetica,sans-Serif\" font-size=\"14.00\" fill=\"#000000\">value = [123, 146, 10]</text>\n<text text-anchor=\"middle\" x=\"8751.5\" y=\"-96.8\" font-family=\"Helvetica,sans-Serif\" font-size=\"14.00\" fill=\"#000000\">class = 여</text>\n</g>\n<!-- 113&#45;&gt;117 -->\n<g id=\"edge117\" class=\"edge\">\n<title>113&#45;&gt;117</title>\n<path fill=\"none\" stroke=\"#000000\" d=\"M8691.6419,-192.9465C8699.3255,-183.968 8707.7053,-174.1758 8715.6959,-164.8385\"/>\n<polygon fill=\"#000000\" stroke=\"#000000\" points=\"8718.4499,-167.0034 8722.2926,-157.13 8713.1315,-162.4521 8718.4499,-167.0034\"/>\n</g>\n<!-- 115 -->\n<g id=\"node116\" class=\"node\">\n<title>115</title>\n<polygon fill=\"#f1fdf6\" stroke=\"#000000\" points=\"8511,-53 8380,-53 8380,0 8511,0 8511,-53\"/>\n<text text-anchor=\"middle\" x=\"8445.5\" y=\"-37.8\" font-family=\"Helvetica,sans-Serif\" font-size=\"14.00\" fill=\"#000000\">samples = 25</text>\n<text text-anchor=\"middle\" x=\"8445.5\" y=\"-22.8\" font-family=\"Helvetica,sans-Serif\" font-size=\"14.00\" fill=\"#000000\">value = [11, 12, 2]</text>\n<text text-anchor=\"middle\" x=\"8445.5\" y=\"-7.8\" font-family=\"Helvetica,sans-Serif\" font-size=\"14.00\" fill=\"#000000\">class = 여</text>\n</g>\n<!-- 114&#45;&gt;115 -->\n<g id=\"edge115\" class=\"edge\">\n<title>114&#45;&gt;115</title>\n<path fill=\"none\" stroke=\"#000000\" d=\"M8529.0194,-88.9777C8516.1665,-79.3629 8502.2069,-68.9203 8489.446,-59.3743\"/>\n<polygon fill=\"#000000\" stroke=\"#000000\" points=\"8491.361,-56.436 8481.257,-53.2485 8487.168,-62.0412 8491.361,-56.436\"/>\n</g>\n<!-- 116 -->\n<g id=\"node117\" class=\"node\">\n<title>116</title>\n<polygon fill=\"#65eb9d\" stroke=\"#000000\" points=\"8652,-53 8529,-53 8529,0 8652,0 8652,-53\"/>\n<text text-anchor=\"middle\" x=\"8590.5\" y=\"-37.8\" font-family=\"Helvetica,sans-Serif\" font-size=\"14.00\" fill=\"#000000\">samples = 58</text>\n<text text-anchor=\"middle\" x=\"8590.5\" y=\"-22.8\" font-family=\"Helvetica,sans-Serif\" font-size=\"14.00\" fill=\"#000000\">value = [8, 47, 3]</text>\n<text text-anchor=\"middle\" x=\"8590.5\" y=\"-7.8\" font-family=\"Helvetica,sans-Serif\" font-size=\"14.00\" fill=\"#000000\">class = 여</text>\n</g>\n<!-- 114&#45;&gt;116 -->\n<g id=\"edge116\" class=\"edge\">\n<title>114&#45;&gt;116</title>\n<path fill=\"none\" stroke=\"#000000\" d=\"M8580.141,-88.9777C8581.5226,-80.6449 8583.0073,-71.6903 8584.409,-63.2364\"/>\n<polygon fill=\"#000000\" stroke=\"#000000\" points=\"8587.8821,-63.6863 8586.065,-53.2485 8580.9764,-62.5413 8587.8821,-63.6863\"/>\n</g>\n<!-- 118 -->\n<g id=\"node119\" class=\"node\">\n<title>118</title>\n<polygon fill=\"#89f0b4\" stroke=\"#000000\" points=\"8801,-53 8670,-53 8670,0 8801,0 8801,-53\"/>\n<text text-anchor=\"middle\" x=\"8735.5\" y=\"-37.8\" font-family=\"Helvetica,sans-Serif\" font-size=\"14.00\" fill=\"#000000\">samples = 45</text>\n<text text-anchor=\"middle\" x=\"8735.5\" y=\"-22.8\" font-family=\"Helvetica,sans-Serif\" font-size=\"14.00\" fill=\"#000000\">value = [13, 32, 0]</text>\n<text text-anchor=\"middle\" x=\"8735.5\" y=\"-7.8\" font-family=\"Helvetica,sans-Serif\" font-size=\"14.00\" fill=\"#000000\">class = 여</text>\n</g>\n<!-- 117&#45;&gt;118 -->\n<g id=\"edge118\" class=\"edge\">\n<title>117&#45;&gt;118</title>\n<path fill=\"none\" stroke=\"#000000\" d=\"M8745.859,-88.9777C8744.4774,-80.6449 8742.9927,-71.6903 8741.591,-63.2364\"/>\n<polygon fill=\"#000000\" stroke=\"#000000\" points=\"8745.0236,-62.5413 8739.935,-53.2485 8738.1179,-63.6863 8745.0236,-62.5413\"/>\n</g>\n<!-- 119 -->\n<g id=\"node120\" class=\"node\">\n<title>119</title>\n<polygon fill=\"#f9fefb\" stroke=\"#000000\" points=\"8975.5,-53 8819.5,-53 8819.5,0 8975.5,0 8975.5,-53\"/>\n<text text-anchor=\"middle\" x=\"8897.5\" y=\"-37.8\" font-family=\"Helvetica,sans-Serif\" font-size=\"14.00\" fill=\"#000000\">samples = 234</text>\n<text text-anchor=\"middle\" x=\"8897.5\" y=\"-22.8\" font-family=\"Helvetica,sans-Serif\" font-size=\"14.00\" fill=\"#000000\">value = [110, 114, 10]</text>\n<text text-anchor=\"middle\" x=\"8897.5\" y=\"-7.8\" font-family=\"Helvetica,sans-Serif\" font-size=\"14.00\" fill=\"#000000\">class = 여</text>\n</g>\n<!-- 117&#45;&gt;119 -->\n<g id=\"edge119\" class=\"edge\">\n<title>117&#45;&gt;119</title>\n<path fill=\"none\" stroke=\"#000000\" d=\"M8802.9741,-88.9777C8817.798,-79.1798 8833.9224,-68.5222 8848.5865,-58.8298\"/>\n<polygon fill=\"#000000\" stroke=\"#000000\" points=\"8850.6183,-61.6824 8857.0308,-53.2485 8846.7585,-55.8427 8850.6183,-61.6824\"/>\n</g>\n<!-- 121 -->\n<g id=\"node122\" class=\"node\">\n<title>121</title>\n<polygon fill=\"#fffeff\" stroke=\"#000000\" points=\"9227.5,-157 9063.5,-157 9063.5,-89 9227.5,-89 9227.5,-157\"/>\n<text text-anchor=\"middle\" x=\"9145.5\" y=\"-141.8\" font-family=\"Helvetica,sans-Serif\" font-size=\"14.00\" fill=\"#000000\">이용건수 &lt;= 5.635</text>\n<text text-anchor=\"middle\" x=\"9145.5\" y=\"-126.8\" font-family=\"Helvetica,sans-Serif\" font-size=\"14.00\" fill=\"#000000\">samples = 606</text>\n<text text-anchor=\"middle\" x=\"9145.5\" y=\"-111.8\" font-family=\"Helvetica,sans-Serif\" font-size=\"14.00\" fill=\"#000000\">value = [247, 111, 248]</text>\n<text text-anchor=\"middle\" x=\"9145.5\" y=\"-96.8\" font-family=\"Helvetica,sans-Serif\" font-size=\"14.00\" fill=\"#000000\">class = 미기입</text>\n</g>\n<!-- 120&#45;&gt;121 -->\n<g id=\"edge121\" class=\"edge\">\n<title>120&#45;&gt;121</title>\n<path fill=\"none\" stroke=\"#000000\" d=\"M9145.5,-192.9465C9145.5,-184.776 9145.5,-175.9318 9145.5,-167.3697\"/>\n<polygon fill=\"#000000\" stroke=\"#000000\" points=\"9149.0001,-167.13 9145.5,-157.13 9142.0001,-167.13 9149.0001,-167.13\"/>\n</g>\n<!-- 124 -->\n<g id=\"node125\" class=\"node\">\n<title>124</title>\n<polygon fill=\"#f6fef9\" stroke=\"#000000\" points=\"9506,-157 9317,-157 9317,-89 9506,-89 9506,-157\"/>\n<text text-anchor=\"middle\" x=\"9411.5\" y=\"-141.8\" font-family=\"Helvetica,sans-Serif\" font-size=\"14.00\" fill=\"#000000\">운동량 &lt;= 26247.109</text>\n<text text-anchor=\"middle\" x=\"9411.5\" y=\"-126.8\" font-family=\"Helvetica,sans-Serif\" font-size=\"14.00\" fill=\"#000000\">samples = 7516</text>\n<text text-anchor=\"middle\" x=\"9411.5\" y=\"-111.8\" font-family=\"Helvetica,sans-Serif\" font-size=\"14.00\" fill=\"#000000\">value = [2666, 2894, 1956]</text>\n<text text-anchor=\"middle\" x=\"9411.5\" y=\"-96.8\" font-family=\"Helvetica,sans-Serif\" font-size=\"14.00\" fill=\"#000000\">class = 여</text>\n</g>\n<!-- 120&#45;&gt;124 -->\n<g id=\"edge124\" class=\"edge\">\n<title>120&#45;&gt;124</title>\n<path fill=\"none\" stroke=\"#000000\" d=\"M9232.5983,-192.9465C9258.8925,-182.6661 9287.9149,-171.319 9314.7953,-160.8093\"/>\n<polygon fill=\"#000000\" stroke=\"#000000\" points=\"9316.167,-164.0311 9324.206,-157.13 9313.618,-157.5117 9316.167,-164.0311\"/>\n</g>\n<!-- 122 -->\n<g id=\"node123\" class=\"node\">\n<title>122</title>\n<polygon fill=\"#f9e2d1\" stroke=\"#000000\" points=\"9157.5,-53 8993.5,-53 8993.5,0 9157.5,0 9157.5,-53\"/>\n<text text-anchor=\"middle\" x=\"9075.5\" y=\"-37.8\" font-family=\"Helvetica,sans-Serif\" font-size=\"14.00\" fill=\"#000000\">samples = 438</text>\n<text text-anchor=\"middle\" x=\"9075.5\" y=\"-22.8\" font-family=\"Helvetica,sans-Serif\" font-size=\"14.00\" fill=\"#000000\">value = [201, 107, 130]</text>\n<text text-anchor=\"middle\" x=\"9075.5\" y=\"-7.8\" font-family=\"Helvetica,sans-Serif\" font-size=\"14.00\" fill=\"#000000\">class = 남</text>\n</g>\n<!-- 121&#45;&gt;122 -->\n<g id=\"edge122\" class=\"edge\">\n<title>121&#45;&gt;122</title>\n<path fill=\"none\" stroke=\"#000000\" d=\"M9120.8206,-88.9777C9114.3775,-80.0954 9107.422,-70.5067 9100.9402,-61.5711\"/>\n<polygon fill=\"#000000\" stroke=\"#000000\" points=\"9103.6079,-59.288 9094.903,-53.2485 9097.9417,-63.3982 9103.6079,-59.288\"/>\n</g>\n<!-- 123 -->\n<g id=\"node124\" class=\"node\">\n<title>123</title>\n<polygon fill=\"#b58af0\" stroke=\"#000000\" points=\"9315.5,-53 9175.5,-53 9175.5,0 9315.5,0 9315.5,-53\"/>\n<text text-anchor=\"middle\" x=\"9245.5\" y=\"-37.8\" font-family=\"Helvetica,sans-Serif\" font-size=\"14.00\" fill=\"#000000\">samples = 168</text>\n<text text-anchor=\"middle\" x=\"9245.5\" y=\"-22.8\" font-family=\"Helvetica,sans-Serif\" font-size=\"14.00\" fill=\"#000000\">value = [46, 4, 118]</text>\n<text text-anchor=\"middle\" x=\"9245.5\" y=\"-7.8\" font-family=\"Helvetica,sans-Serif\" font-size=\"14.00\" fill=\"#000000\">class = 미기입</text>\n</g>\n<!-- 121&#45;&gt;123 -->\n<g id=\"edge123\" class=\"edge\">\n<title>121&#45;&gt;123</title>\n<path fill=\"none\" stroke=\"#000000\" d=\"M9180.7563,-88.9777C9190.4351,-79.6376 9200.9235,-69.5163 9210.5832,-60.1947\"/>\n<polygon fill=\"#000000\" stroke=\"#000000\" points=\"9213.0159,-62.7111 9217.7814,-53.2485 9208.1551,-57.674 9213.0159,-62.7111\"/>\n</g>\n<!-- 125 -->\n<g id=\"node126\" class=\"node\">\n<title>125</title>\n<polygon fill=\"#c2f7d8\" stroke=\"#000000\" points=\"9489.5,-53 9333.5,-53 9333.5,0 9489.5,0 9489.5,-53\"/>\n<text text-anchor=\"middle\" x=\"9411.5\" y=\"-37.8\" font-family=\"Helvetica,sans-Serif\" font-size=\"14.00\" fill=\"#000000\">samples = 382</text>\n<text text-anchor=\"middle\" x=\"9411.5\" y=\"-22.8\" font-family=\"Helvetica,sans-Serif\" font-size=\"14.00\" fill=\"#000000\">value = [140, 215, 27]</text>\n<text text-anchor=\"middle\" x=\"9411.5\" y=\"-7.8\" font-family=\"Helvetica,sans-Serif\" font-size=\"14.00\" fill=\"#000000\">class = 여</text>\n</g>\n<!-- 124&#45;&gt;125 -->\n<g id=\"edge125\" class=\"edge\">\n<title>124&#45;&gt;125</title>\n<path fill=\"none\" stroke=\"#000000\" d=\"M9411.5,-88.9777C9411.5,-80.7364 9411.5,-71.887 9411.5,-63.5153\"/>\n<polygon fill=\"#000000\" stroke=\"#000000\" points=\"9415.0001,-63.2484 9411.5,-53.2485 9408.0001,-63.2485 9415.0001,-63.2484\"/>\n</g>\n<!-- 126 -->\n<g id=\"node127\" class=\"node\">\n<title>126</title>\n<polygon fill=\"#f8fefb\" stroke=\"#000000\" points=\"9697,-53 9508,-53 9508,0 9697,0 9697,-53\"/>\n<text text-anchor=\"middle\" x=\"9602.5\" y=\"-37.8\" font-family=\"Helvetica,sans-Serif\" font-size=\"14.00\" fill=\"#000000\">samples = 7134</text>\n<text text-anchor=\"middle\" x=\"9602.5\" y=\"-22.8\" font-family=\"Helvetica,sans-Serif\" font-size=\"14.00\" fill=\"#000000\">value = [2526, 2679, 1929]</text>\n<text text-anchor=\"middle\" x=\"9602.5\" y=\"-7.8\" font-family=\"Helvetica,sans-Serif\" font-size=\"14.00\" fill=\"#000000\">class = 여</text>\n</g>\n<!-- 124&#45;&gt;126 -->\n<g id=\"edge126\" class=\"edge\">\n<title>124&#45;&gt;126</title>\n<path fill=\"none\" stroke=\"#000000\" d=\"M9478.8395,-88.9777C9499.0504,-78.7664 9521.1094,-67.6214 9540.9278,-57.6085\"/>\n<polygon fill=\"#000000\" stroke=\"#000000\" points=\"9542.514,-60.7285 9549.8611,-53.095 9539.3573,-54.4806 9542.514,-60.7285\"/>\n</g>\n</g>\n</svg>\n"
          },
          "metadata": {}
        }
      ]
    },
    {
      "cell_type": "code",
      "source": [
        "# 변수의 중요도 구하기\n",
        "result = tree.feature_importances_\n",
        "print(\"변수의 중요도:\\n\", result)"
      ],
      "metadata": {
        "colab": {
          "base_uri": "https://localhost:8080/"
        },
        "id": "tqKxPthM9CrA",
        "outputId": "c6383e86-dcde-41f3-e71d-41f36752bb1a"
      },
      "execution_count": 67,
      "outputs": [
        {
          "output_type": "stream",
          "name": "stdout",
          "text": [
            "변수의 중요도:\n",
            " [0.03280402 0.00885981 0.13735948 0.01955759 0.38669646 0.09622459\n",
            " 0.22329697 0.09520108]\n"
          ]
        }
      ]
    },
    {
      "cell_type": "code",
      "source": [
        "# 변수의 중요도 시각화\n",
        "import numpy as np\n",
        "# def plot_feature_importances_df_new(model):\n",
        "    #plt.rcParams[\"figure.figsize\"] = (9,6)\n",
        "    #n_features = len(data_new.columns[1:])  # 30개 \n",
        "    #plt.barh(np.arange(n_features), model.feature_importances_, align='center')\n",
        "    #plt.yticks(np.arange(n_features), data_new.columns[1:])\n",
        "    #plt.xlabel(\"feature importance\")\n",
        "    #plt.ylabel(\"feature\")\n",
        "    #plt.ylim(-1, n_features) #Y 축 범위 지정 (-1 ~ 30)\n",
        "\n",
        "# plot_feature_importances_df_new(tree)"
      ],
      "metadata": {
        "id": "jrifO1qo9YSI"
      },
      "execution_count": 68,
      "outputs": []
    },
    {
      "cell_type": "code",
      "source": [
        "x = np.arange(8)\n",
        "values = [0.03280402, 0.00885981, 0.13735948, 0.01955759, 0.38669646, 0.09622459, 0.22329697, 0.09520108]\n",
        "plt.bar(x, values)\n",
        "plt.show()"
      ],
      "metadata": {
        "colab": {
          "base_uri": "https://localhost:8080/",
          "height": 266
        },
        "id": "YcoXCE4g862n",
        "outputId": "439ffd83-434b-4ae0-de08-b998dcd07263"
      },
      "execution_count": 69,
      "outputs": [
        {
          "output_type": "display_data",
          "data": {
            "text/plain": [
              "<Figure size 432x288 with 1 Axes>"
            ],
            "image/png": "[encoded data removed]"
          },
          "metadata": {}
        }
      ]
    },
    {
      "cell_type": "markdown",
      "source": [
        "## 6. Random forest"
      ],
      "metadata": {
        "id": "6UxppxgZ-ebs"
      }
    },
    {
      "cell_type": "markdown",
      "source": [
        "### Grid Search"
      ],
      "metadata": {
        "id": "d5nvRANf3elz"
      }
    },
    {
      "cell_type": "code",
      "source": [
        "from sklearn.model_selection import GridSearchCV\n",
        "param_grid={'n_estimators' : [10, 100], \n",
        "            'max_depth' : [6, 8, 10, 12]}\n",
        "from sklearn.ensemble import RandomForestClassifier\n",
        "grid_search=GridSearchCV(RandomForestClassifier(), param_grid, cv=5, return_train_score=True)"
      ],
      "metadata": {
        "id": "oCFVJJTq2TjV"
      },
      "execution_count": 70,
      "outputs": []
    },
    {
      "cell_type": "code",
      "source": [
        "grid_search.fit(X_train, y_train)\n",
        "print(\"Best Parameter: {}\".format(grid_search.best_params_))\n",
        "print(\"Best Cross-validity Score: {:.3f}\".format(grid_search.best_score_))\n",
        "print(\"Test set Score: {:.3f}\".format(grid_search.score(X_test, y_test)))"
      ],
      "metadata": {
        "colab": {
          "base_uri": "https://localhost:8080/"
        },
        "id": "_oKDBfp13Qg2",
        "outputId": "b154a347-f487-435e-8fe6-07a85d60c092"
      },
      "execution_count": 71,
      "outputs": [
        {
          "output_type": "stream",
          "name": "stdout",
          "text": [
            "Best Parameter: {'max_depth': 12, 'n_estimators': 100}\n",
            "Best Cross-validity Score: 0.547\n",
            "Test set Score: 0.552\n"
          ]
        }
      ]
    },
    {
      "cell_type": "code",
      "source": [
        "result_grid= pd.DataFrame(grid_search.cv_results_)"
      ],
      "metadata": {
        "id": "SPlQH8Fm3Uj2"
      },
      "execution_count": 72,
      "outputs": []
    },
    {
      "cell_type": "code",
      "source": [
        "import matplotlib.pyplot as plt\n",
        "plt.plot(result_grid['param_n_estimators'], \n",
        "         result_grid['mean_train_score'], label=\"Train\")\n",
        "plt.plot(result_grid['param_n_estimators'], \n",
        "         result_grid['mean_test_score'], label=\"Test\")\n",
        "plt.legend()"
      ],
      "metadata": {
        "colab": {
          "base_uri": "https://localhost:8080/",
          "height": 283
        },
        "id": "JDU6R_xT3X0Q",
        "outputId": "94fae0a5-be9f-4c9c-c441-1f9153224029"
      },
      "execution_count": 73,
      "outputs": [
        {
          "output_type": "execute_result",
          "data": {
            "text/plain": [
              "<matplotlib.legend.Legend at 0x7f5c4e435880>"
            ]
          },
          "metadata": {},
          "execution_count": 73
        },
        {
          "output_type": "display_data",
          "data": {
            "text/plain": [
              "<Figure size 432x288 with 1 Axes>"
            ],
            "image/png": "[encoded data removed]"
          },
          "metadata": {}
        }
      ]
    },
    {
      "cell_type": "markdown",
      "source": [
        "### Random Search"
      ],
      "metadata": {
        "id": "Ghl_3Pu83ff7"
      }
    },
    {
      "cell_type": "code",
      "source": [
        "from sklearn.model_selection import RandomizedSearchCV\n",
        "from scipy.stats import randint\n",
        "from sklearn.ensemble import RandomForestClassifier\n",
        "param_distribs = {'n_estimators': randint(low=1, high=10), \n",
        "                  'max_depth' : [6, 8, 10, 12]}"
      ],
      "metadata": {
        "id": "r08V7QrF3Y1p"
      },
      "execution_count": 74,
      "outputs": []
    },
    {
      "cell_type": "code",
      "source": [
        "random_search=RandomizedSearchCV(RandomForestClassifier(), \n",
        "                                 param_distributions=param_distribs, cv=5, return_train_score=True)\n",
        "random_search.fit(X_train, y_train)"
      ],
      "metadata": {
        "colab": {
          "base_uri": "https://localhost:8080/"
        },
        "id": "fxu2PuCF3kQs",
        "outputId": "e7559bb8-2bcd-49b5-81a0-6ddc047a0cdf"
      },
      "execution_count": 75,
      "outputs": [
        {
          "output_type": "execute_result",
          "data": {
            "text/plain": [
              "RandomizedSearchCV(cv=5, estimator=RandomForestClassifier(),\n",
              "                   param_distributions={'max_depth': [6, 8, 10, 12],\n",
              "                                        'n_estimators': <scipy.stats._distn_infrastructure.rv_frozen object at 0x7f5c4ef892e0>},\n",
              "                   return_train_score=True)"
            ]
          },
          "metadata": {},
          "execution_count": 75
        }
      ]
    },
    {
      "cell_type": "code",
      "source": [
        "print(\"Best Parameter: {}\".format(random_search.best_params_))\n",
        "print(\"Best Cross-validity Score: {:.3f}\".format(random_search.best_score_))\n",
        "print(\"Test set Score: {:.3f}\".format(random_search.score(X_test, y_test)))"
      ],
      "metadata": {
        "colab": {
          "base_uri": "https://localhost:8080/"
        },
        "id": "wEDM0Wyh3oLH",
        "outputId": "6cc6bf4f-5b0d-4662-ec02-1773b422df49"
      },
      "execution_count": 76,
      "outputs": [
        {
          "output_type": "stream",
          "name": "stdout",
          "text": [
            "Best Parameter: {'max_depth': 12, 'n_estimators': 7}\n",
            "Best Cross-validity Score: 0.500\n",
            "Test set Score: 0.510\n"
          ]
        }
      ]
    },
    {
      "cell_type": "code",
      "source": [
        "result_random = random_search.cv_results_\n",
        "pd.DataFrame(result_random)"
      ],
      "metadata": {
        "colab": {
          "base_uri": "https://localhost:8080/",
          "height": 977
        },
        "id": "rHdbLg293q8X",
        "outputId": "8bb4b820-07e4-4900-a3a5-9339577fa45c"
      },
      "execution_count": 77,
      "outputs": [
        {
          "output_type": "execute_result",
          "data": {
            "text/plain": [
              "   mean_fit_time  std_fit_time  mean_score_time  std_score_time  \\\n",
              "0       0.060134      0.005576         0.006300        0.000174   \n",
              "1       0.146841      0.007150         0.010379        0.000827   \n",
              "2       0.046621      0.001121         0.006445        0.000064   \n",
              "3       0.112394      0.007643         0.008784        0.000294   \n",
              "4       0.111637      0.002452         0.009062        0.000748   \n",
              "5       0.034563      0.003564         0.005680        0.000080   \n",
              "6       0.025984      0.000583         0.005355        0.000114   \n",
              "7       0.044743      0.001570         0.006611        0.000903   \n",
              "8       0.088384      0.003836         0.007838        0.000264   \n",
              "9       0.038605      0.001082         0.005915        0.000070   \n",
              "\n",
              "  param_max_depth param_n_estimators                                params  \\\n",
              "0               6                  4   {'max_depth': 6, 'n_estimators': 4}   \n",
              "1              12                  7  {'max_depth': 12, 'n_estimators': 7}   \n",
              "2              12                  2  {'max_depth': 12, 'n_estimators': 2}   \n",
              "3               6                  9   {'max_depth': 6, 'n_estimators': 9}   \n",
              "4               6                  9   {'max_depth': 6, 'n_estimators': 9}   \n",
              "5               6                  2   {'max_depth': 6, 'n_estimators': 2}   \n",
              "6               8                  1   {'max_depth': 8, 'n_estimators': 1}   \n",
              "7               6                  3   {'max_depth': 6, 'n_estimators': 3}   \n",
              "8               6                  7   {'max_depth': 6, 'n_estimators': 7}   \n",
              "9               8                  2   {'max_depth': 8, 'n_estimators': 2}   \n",
              "\n",
              "   split0_test_score  split1_test_score  split2_test_score  ...  \\\n",
              "0           0.450649           0.446860           0.457428  ...   \n",
              "1           0.510112           0.509662           0.487621  ...   \n",
              "2           0.456384           0.439010           0.441425  ...   \n",
              "3           0.471476           0.477657           0.457729  ...   \n",
              "4           0.467854           0.467089           0.458937  ...   \n",
              "5           0.439179           0.452899           0.427234  ...   \n",
              "6           0.435859           0.430857           0.422403  ...   \n",
              "7           0.458497           0.444143           0.442935  ...   \n",
              "8           0.456082           0.466787           0.450181  ...   \n",
              "9           0.449442           0.461051           0.439614  ...   \n",
              "\n",
              "   mean_test_score  std_test_score  rank_test_score  split0_train_score  \\\n",
              "0         0.451543        0.003987                5            0.492225   \n",
              "1         0.500090        0.009069                1            0.775740   \n",
              "2         0.442968        0.007430                8            0.634586   \n",
              "3         0.460237        0.012718                3            0.499094   \n",
              "4         0.464102        0.006145                2            0.495622   \n",
              "5         0.441097        0.008932                9            0.469203   \n",
              "6         0.428838        0.007092               10            0.466410   \n",
              "7         0.444839        0.008447                7            0.476600   \n",
              "8         0.456313        0.006071                4            0.487470   \n",
              "9         0.445021        0.012170                6            0.520003   \n",
              "\n",
              "   split1_train_score  split2_train_score  split3_train_score  \\\n",
              "0            0.483961            0.481621            0.491131   \n",
              "1            0.751981            0.748585            0.768662   \n",
              "2            0.632953            0.618009            0.625481   \n",
              "3            0.505849            0.502453            0.506906   \n",
              "4            0.504415            0.515058            0.517096   \n",
              "5            0.468262            0.452487            0.463431   \n",
              "6            0.459129            0.464261            0.477998   \n",
              "7            0.475960            0.473168            0.477696   \n",
              "8            0.493396            0.504717            0.504264   \n",
              "9            0.509548            0.507812            0.501321   \n",
              "\n",
              "   split4_train_score  mean_train_score  std_train_score  \n",
              "0            0.496792          0.489146         0.005575  \n",
              "1            0.718394          0.752672         0.019900  \n",
              "2            0.609329          0.624072         0.009440  \n",
              "3            0.488037          0.500468         0.006794  \n",
              "4            0.498981          0.506234         0.008537  \n",
              "5            0.465771          0.463831         0.006018  \n",
              "6            0.461318          0.465823         0.006575  \n",
              "7            0.477244          0.476134         0.001595  \n",
              "8            0.507133          0.499396         0.007617  \n",
              "9            0.494679          0.506673         0.008482  \n",
              "\n",
              "[10 rows x 22 columns]"
            ],
            "text/html": [
              "\n",
              "  <div id=\"df-92b3ba77-fe19-4aae-a0ab-a4baf35a60c4\">\n",
              "    <div class=\"colab-df-container\">\n",
              "      <div>\n",
              "<style scoped>\n",
              "    .dataframe tbody tr th:only-of-type {\n",
              "        vertical-align: middle;\n",
              "    }\n",
              "\n",
              "    .dataframe tbody tr th {\n",
              "        vertical-align: top;\n",
              "    }\n",
              "\n",
              "    .dataframe thead th {\n",
              "        text-align: right;\n",
              "    }\n",
              "</style>\n",
              "<table border=\"1\" class=\"dataframe\">\n",
              "  <thead>\n",
              "    <tr style=\"text-align: right;\">\n",
              "      <th></th>\n",
              "      <th>mean_fit_time</th>\n",
              "      <th>std_fit_time</th>\n",
              "      <th>mean_score_time</th>\n",
              "      <th>std_score_time</th>\n",
              "      <th>param_max_depth</th>\n",
              "      <th>param_n_estimators</th>\n",
              "      <th>params</th>\n",
              "      <th>split0_test_score</th>\n",
              "      <th>split1_test_score</th>\n",
              "      <th>split2_test_score</th>\n",
              "      <th>...</th>\n",
              "      <th>mean_test_score</th>\n",
              "      <th>std_test_score</th>\n",
              "      <th>rank_test_score</th>\n",
              "      <th>split0_train_score</th>\n",
              "      <th>split1_train_score</th>\n",
              "      <th>split2_train_score</th>\n",
              "      <th>split3_train_score</th>\n",
              "      <th>split4_train_score</th>\n",
              "      <th>mean_train_score</th>\n",
              "      <th>std_train_score</th>\n",
              "    </tr>\n",
              "  </thead>\n",
              "  <tbody>\n",
              "    <tr>\n",
              "      <th>0</th>\n",
              "      <td>0.060134</td>\n",
              "      <td>0.005576</td>\n",
              "      <td>0.006300</td>\n",
              "      <td>0.000174</td>\n",
              "      <td>6</td>\n",
              "      <td>4</td>\n",
              "      <td>{'max_depth': 6, 'n_estimators': 4}</td>\n",
              "      <td>0.450649</td>\n",
              "      <td>0.446860</td>\n",
              "      <td>0.457428</td>\n",
              "      <td>...</td>\n",
              "      <td>0.451543</td>\n",
              "      <td>0.003987</td>\n",
              "      <td>5</td>\n",
              "      <td>0.492225</td>\n",
              "      <td>0.483961</td>\n",
              "      <td>0.481621</td>\n",
              "      <td>0.491131</td>\n",
              "      <td>0.496792</td>\n",
              "      <td>0.489146</td>\n",
              "      <td>0.005575</td>\n",
              "    </tr>\n",
              "    <tr>\n",
              "      <th>1</th>\n",
              "      <td>0.146841</td>\n",
              "      <td>0.007150</td>\n",
              "      <td>0.010379</td>\n",
              "      <td>0.000827</td>\n",
              "      <td>12</td>\n",
              "      <td>7</td>\n",
              "      <td>{'max_depth': 12, 'n_estimators': 7}</td>\n",
              "      <td>0.510112</td>\n",
              "      <td>0.509662</td>\n",
              "      <td>0.487621</td>\n",
              "      <td>...</td>\n",
              "      <td>0.500090</td>\n",
              "      <td>0.009069</td>\n",
              "      <td>1</td>\n",
              "      <td>0.775740</td>\n",
              "      <td>0.751981</td>\n",
              "      <td>0.748585</td>\n",
              "      <td>0.768662</td>\n",
              "      <td>0.718394</td>\n",
              "      <td>0.752672</td>\n",
              "      <td>0.019900</td>\n",
              "    </tr>\n",
              "    <tr>\n",
              "      <th>2</th>\n",
              "      <td>0.046621</td>\n",
              "      <td>0.001121</td>\n",
              "      <td>0.006445</td>\n",
              "      <td>0.000064</td>\n",
              "      <td>12</td>\n",
              "      <td>2</td>\n",
              "      <td>{'max_depth': 12, 'n_estimators': 2}</td>\n",
              "      <td>0.456384</td>\n",
              "      <td>0.439010</td>\n",
              "      <td>0.441425</td>\n",
              "      <td>...</td>\n",
              "      <td>0.442968</td>\n",
              "      <td>0.007430</td>\n",
              "      <td>8</td>\n",
              "      <td>0.634586</td>\n",
              "      <td>0.632953</td>\n",
              "      <td>0.618009</td>\n",
              "      <td>0.625481</td>\n",
              "      <td>0.609329</td>\n",
              "      <td>0.624072</td>\n",
              "      <td>0.009440</td>\n",
              "    </tr>\n",
              "    <tr>\n",
              "      <th>3</th>\n",
              "      <td>0.112394</td>\n",
              "      <td>0.007643</td>\n",
              "      <td>0.008784</td>\n",
              "      <td>0.000294</td>\n",
              "      <td>6</td>\n",
              "      <td>9</td>\n",
              "      <td>{'max_depth': 6, 'n_estimators': 9}</td>\n",
              "      <td>0.471476</td>\n",
              "      <td>0.477657</td>\n",
              "      <td>0.457729</td>\n",
              "      <td>...</td>\n",
              "      <td>0.460237</td>\n",
              "      <td>0.012718</td>\n",
              "      <td>3</td>\n",
              "      <td>0.499094</td>\n",
              "      <td>0.505849</td>\n",
              "      <td>0.502453</td>\n",
              "      <td>0.506906</td>\n",
              "      <td>0.488037</td>\n",
              "      <td>0.500468</td>\n",
              "      <td>0.006794</td>\n",
              "    </tr>\n",
              "    <tr>\n",
              "      <th>4</th>\n",
              "      <td>0.111637</td>\n",
              "      <td>0.002452</td>\n",
              "      <td>0.009062</td>\n",
              "      <td>0.000748</td>\n",
              "      <td>6</td>\n",
              "      <td>9</td>\n",
              "      <td>{'max_depth': 6, 'n_estimators': 9}</td>\n",
              "      <td>0.467854</td>\n",
              "      <td>0.467089</td>\n",
              "      <td>0.458937</td>\n",
              "      <td>...</td>\n",
              "      <td>0.464102</td>\n",
              "      <td>0.006145</td>\n",
              "      <td>2</td>\n",
              "      <td>0.495622</td>\n",
              "      <td>0.504415</td>\n",
              "      <td>0.515058</td>\n",
              "      <td>0.517096</td>\n",
              "      <td>0.498981</td>\n",
              "      <td>0.506234</td>\n",
              "      <td>0.008537</td>\n",
              "    </tr>\n",
              "    <tr>\n",
              "      <th>5</th>\n",
              "      <td>0.034563</td>\n",
              "      <td>0.003564</td>\n",
              "      <td>0.005680</td>\n",
              "      <td>0.000080</td>\n",
              "      <td>6</td>\n",
              "      <td>2</td>\n",
              "      <td>{'max_depth': 6, 'n_estimators': 2}</td>\n",
              "      <td>0.439179</td>\n",
              "      <td>0.452899</td>\n",
              "      <td>0.427234</td>\n",
              "      <td>...</td>\n",
              "      <td>0.441097</td>\n",
              "      <td>0.008932</td>\n",
              "      <td>9</td>\n",
              "      <td>0.469203</td>\n",
              "      <td>0.468262</td>\n",
              "      <td>0.452487</td>\n",
              "      <td>0.463431</td>\n",
              "      <td>0.465771</td>\n",
              "      <td>0.463831</td>\n",
              "      <td>0.006018</td>\n",
              "    </tr>\n",
              "    <tr>\n",
              "      <th>6</th>\n",
              "      <td>0.025984</td>\n",
              "      <td>0.000583</td>\n",
              "      <td>0.005355</td>\n",
              "      <td>0.000114</td>\n",
              "      <td>8</td>\n",
              "      <td>1</td>\n",
              "      <td>{'max_depth': 8, 'n_estimators': 1}</td>\n",
              "      <td>0.435859</td>\n",
              "      <td>0.430857</td>\n",
              "      <td>0.422403</td>\n",
              "      <td>...</td>\n",
              "      <td>0.428838</td>\n",
              "      <td>0.007092</td>\n",
              "      <td>10</td>\n",
              "      <td>0.466410</td>\n",
              "      <td>0.459129</td>\n",
              "      <td>0.464261</td>\n",
              "      <td>0.477998</td>\n",
              "      <td>0.461318</td>\n",
              "      <td>0.465823</td>\n",
              "      <td>0.006575</td>\n",
              "    </tr>\n",
              "    <tr>\n",
              "      <th>7</th>\n",
              "      <td>0.044743</td>\n",
              "      <td>0.001570</td>\n",
              "      <td>0.006611</td>\n",
              "      <td>0.000903</td>\n",
              "      <td>6</td>\n",
              "      <td>3</td>\n",
              "      <td>{'max_depth': 6, 'n_estimators': 3}</td>\n",
              "      <td>0.458497</td>\n",
              "      <td>0.444143</td>\n",
              "      <td>0.442935</td>\n",
              "      <td>...</td>\n",
              "      <td>0.444839</td>\n",
              "      <td>0.008447</td>\n",
              "      <td>7</td>\n",
              "      <td>0.476600</td>\n",
              "      <td>0.475960</td>\n",
              "      <td>0.473168</td>\n",
              "      <td>0.477696</td>\n",
              "      <td>0.477244</td>\n",
              "      <td>0.476134</td>\n",
              "      <td>0.001595</td>\n",
              "    </tr>\n",
              "    <tr>\n",
              "      <th>8</th>\n",
              "      <td>0.088384</td>\n",
              "      <td>0.003836</td>\n",
              "      <td>0.007838</td>\n",
              "      <td>0.000264</td>\n",
              "      <td>6</td>\n",
              "      <td>7</td>\n",
              "      <td>{'max_depth': 6, 'n_estimators': 7}</td>\n",
              "      <td>0.456082</td>\n",
              "      <td>0.466787</td>\n",
              "      <td>0.450181</td>\n",
              "      <td>...</td>\n",
              "      <td>0.456313</td>\n",
              "      <td>0.006071</td>\n",
              "      <td>4</td>\n",
              "      <td>0.487470</td>\n",
              "      <td>0.493396</td>\n",
              "      <td>0.504717</td>\n",
              "      <td>0.504264</td>\n",
              "      <td>0.507133</td>\n",
              "      <td>0.499396</td>\n",
              "      <td>0.007617</td>\n",
              "    </tr>\n",
              "    <tr>\n",
              "      <th>9</th>\n",
              "      <td>0.038605</td>\n",
              "      <td>0.001082</td>\n",
              "      <td>0.005915</td>\n",
              "      <td>0.000070</td>\n",
              "      <td>8</td>\n",
              "      <td>2</td>\n",
              "      <td>{'max_depth': 8, 'n_estimators': 2}</td>\n",
              "      <td>0.449442</td>\n",
              "      <td>0.461051</td>\n",
              "      <td>0.439614</td>\n",
              "      <td>...</td>\n",
              "      <td>0.445021</td>\n",
              "      <td>0.012170</td>\n",
              "      <td>6</td>\n",
              "      <td>0.520003</td>\n",
              "      <td>0.509548</td>\n",
              "      <td>0.507812</td>\n",
              "      <td>0.501321</td>\n",
              "      <td>0.494679</td>\n",
              "      <td>0.506673</td>\n",
              "      <td>0.008482</td>\n",
              "    </tr>\n",
              "  </tbody>\n",
              "</table>\n",
              "<p>10 rows × 22 columns</p>\n",
              "</div>\n",
              "      <button class=\"colab-df-convert\" onclick=\"convertToInteractive('df-92b3ba77-fe19-4aae-a0ab-a4baf35a60c4')\"\n",
              "              title=\"Convert this dataframe to an interactive table.\"\n",
              "              style=\"display:none;\">\n",
              "        \n",
              "  <svg xmlns=\"http://www.w3.org/2000/svg\" height=\"24px\"viewBox=\"0 0 24 24\"\n",
              "       width=\"24px\">\n",
              "    <path d=\"M0 0h24v24H0V0z\" fill=\"none\"/>\n",
              "    <path d=\"M18.56 5.44l.94 2.06.94-2.06 2.06-.94-2.06-.94-.94-2.06-.94 2.06-2.06.94zm-11 1L8.5 8.5l.94-2.06 2.06-.94-2.06-.94L8.5 2.5l-.94 2.06-2.06.94zm10 10l.94 2.06.94-2.06 2.06-.94-2.06-.94-.94-2.06-.94 2.06-2.06.94z\"/><path d=\"M17.41 7.96l-1.37-1.37c-.4-.4-.92-.59-1.43-.59-.52 0-1.04.2-1.43.59L10.3 9.45l-7.72 7.72c-.78.78-.78 2.05 0 2.83L4 21.41c.39.39.9.59 1.41.59.51 0 1.02-.2 1.41-.59l7.78-7.78 2.81-2.81c.8-.78.8-2.07 0-2.86zM5.41 20L4 18.59l7.72-7.72 1.47 1.35L5.41 20z\"/>\n",
              "  </svg>\n",
              "      </button>\n",
              "      \n",
              "  <style>\n",
              "    .colab-df-container {\n",
              "      display:flex;\n",
              "      flex-wrap:wrap;\n",
              "      gap: 12px;\n",
              "    }\n",
              "\n",
              "    .colab-df-convert {\n",
              "      background-color: #E8F0FE;\n",
              "      border: none;\n",
              "      border-radius: 50%;\n",
              "      cursor: pointer;\n",
              "      display: none;\n",
              "      fill: #1967D2;\n",
              "      height: 32px;\n",
              "      padding: 0 0 0 0;\n",
              "      width: 32px;\n",
              "    }\n",
              "\n",
              "    .colab-df-convert:hover {\n",
              "      background-color: #E2EBFA;\n",
              "      box-shadow: 0px 1px 2px rgba(60, 64, 67, 0.3), 0px 1px 3px 1px rgba(60, 64, 67, 0.15);\n",
              "      fill: #174EA6;\n",
              "    }\n",
              "\n",
              "    [theme=dark] .colab-df-convert {\n",
              "      background-color: #3B4455;\n",
              "      fill: #D2E3FC;\n",
              "    }\n",
              "\n",
              "    [theme=dark] .colab-df-convert:hover {\n",
              "      background-color: #434B5C;\n",
              "      box-shadow: 0px 1px 3px 1px rgba(0, 0, 0, 0.15);\n",
              "      filter: drop-shadow(0px 1px 2px rgba(0, 0, 0, 0.3));\n",
              "      fill: #FFFFFF;\n",
              "    }\n",
              "  </style>\n",
              "\n",
              "      <script>\n",
              "        const buttonEl =\n",
              "          document.querySelector('#df-92b3ba77-fe19-4aae-a0ab-a4baf35a60c4 button.colab-df-convert');\n",
              "        buttonEl.style.display =\n",
              "          google.colab.kernel.accessAllowed ? 'block' : 'none';\n",
              "\n",
              "        async function convertToInteractive(key) {\n",
              "          const element = document.querySelector('#df-92b3ba77-fe19-4aae-a0ab-a4baf35a60c4');\n",
              "          const dataTable =\n",
              "            await google.colab.kernel.invokeFunction('convertToInteractive',\n",
              "                                                     [key], {});\n",
              "          if (!dataTable) return;\n",
              "\n",
              "          const docLinkHtml = 'Like what you see? Visit the ' +\n",
              "            '<a target=\"_blank\" href=https://colab.research.google.com/notebooks/data_table.ipynb>data table notebook</a>'\n",
              "            + ' to learn more about interactive tables.';\n",
              "          element.innerHTML = '';\n",
              "          dataTable['output_type'] = 'display_data';\n",
              "          await google.colab.output.renderOutput(dataTable, element);\n",
              "          const docLink = document.createElement('div');\n",
              "          docLink.innerHTML = docLinkHtml;\n",
              "          element.appendChild(docLink);\n",
              "        }\n",
              "      </script>\n",
              "    </div>\n",
              "  </div>\n",
              "  "
            ]
          },
          "metadata": {},
          "execution_count": 77
        }
      ]
    },
    {
      "cell_type": "code",
      "source": [
        "import matplotlib.pyplot as plt\n",
        "plt.plot(result_grid['param_n_estimators'], \n",
        "         result_grid['mean_train_score'], label=\"Train\")\n",
        "plt.plot(result_grid['param_n_estimators'], \n",
        "         result_grid['mean_test_score'], label=\"Test\")\n",
        "plt.legend()"
      ],
      "metadata": {
        "colab": {
          "base_uri": "https://localhost:8080/",
          "height": 283
        },
        "id": "rk5CTeLR3wQt",
        "outputId": "389317f8-f17c-4c3f-ef6e-e3f559e5ff6a"
      },
      "execution_count": 78,
      "outputs": [
        {
          "output_type": "execute_result",
          "data": {
            "text/plain": [
              "<matplotlib.legend.Legend at 0x7f5c4e5fb250>"
            ]
          },
          "metadata": {},
          "execution_count": 78
        },
        {
          "output_type": "display_data",
          "data": {
            "text/plain": [
              "<Figure size 432x288 with 1 Axes>"
            ],
            "image/png": "[encoded data removed]"
          },
          "metadata": {}
        }
      ]
    },
    {
      "cell_type": "code",
      "source": [
        "from sklearn.ensemble import RandomForestClassifier\n",
        "Forest=RandomForestClassifier(max_depth = 12, n_estimators = 6)\n",
        "Forest.fit(X_train, y_train)\n",
        "print(\"특성 중요도:\\n{}\".format(Forest.feature_importances_))"
      ],
      "metadata": {
        "colab": {
          "base_uri": "https://localhost:8080/"
        },
        "id": "5EIvjMRJ3xYL",
        "outputId": "e83021ee-9588-4b33-f09a-e719477f3a5f"
      },
      "execution_count": 79,
      "outputs": [
        {
          "output_type": "stream",
          "name": "stdout",
          "text": [
            "특성 중요도:\n",
            "[0.0533759  0.10781904 0.09135616 0.0752864  0.23297579 0.14562758\n",
            " 0.15155308 0.14200605]\n"
          ]
        }
      ]
    },
    {
      "cell_type": "code",
      "source": [
        "def plot_feature_importances_forest(model):\n",
        "    n_features = X.shape[1]\n",
        "    plt.barh(range(n_features), model.feature_importances_, align='center')\n",
        "    plt.yticks(np.arange(n_features), X.columns)\n",
        "    plt.xlabel(\"Importance\")\n",
        "    plt.ylabel(\"Features\")\n",
        "    plt.ylim(-1, n_features)\n",
        "\n",
        "plot_feature_importances_forest(Forest)"
      ],
      "metadata": {
        "colab": {
          "base_uri": "https://localhost:8080/",
          "height": 279
        },
        "id": "JwRBAMGM33fP",
        "outputId": "91ea1d35-e0aa-40f4-9947-bd165dcc07e1"
      },
      "execution_count": 80,
      "outputs": [
        {
          "output_type": "display_data",
          "data": {
            "text/plain": [
              "<Figure size 432x288 with 1 Axes>"
            ],
            "image/png": "[encoded data removed]"
          },
          "metadata": {}
        }
      ]
    },
    {
      "cell_type": "code",
      "source": [
        "from sklearn.ensemble import RandomForestClassifier\n",
        "Forest=RandomForestClassifier(max_depth = 12, n_estimators = 6)\n",
        "Forest.fit(X_train, y_train)\n",
        "from sklearn.metrics import confusion_matrix"
      ],
      "metadata": {
        "id": "Ol8svl0Q34iC"
      },
      "execution_count": 81,
      "outputs": []
    },
    {
      "cell_type": "code",
      "source": [
        "pred_train=Forest.predict(X_train)\n",
        "confusion_train=confusion_matrix(y_train, pred_train)\n",
        "print(\"훈련데이터 오차행렬:\\n\", confusion_train)"
      ],
      "metadata": {
        "colab": {
          "base_uri": "https://localhost:8080/"
        },
        "id": "yPYcZhZf3_YG",
        "outputId": "2fd3077c-bd9c-4d6a-acd8-53022971bd7a"
      },
      "execution_count": 82,
      "outputs": [
        {
          "output_type": "stream",
          "name": "stdout",
          "text": [
            "훈련데이터 오차행렬:\n",
            " [[5434  800  459]\n",
            " [1291 3800  220]\n",
            " [1301  436 2820]]\n"
          ]
        }
      ]
    },
    {
      "cell_type": "code",
      "source": [
        "pred_test=Forest.predict(X_test)\n",
        "confusion_test=confusion_matrix(y_test, pred_test)\n",
        "print(\"테스트 데이터 오차행렬:\\n\", confusion_test)"
      ],
      "metadata": {
        "colab": {
          "base_uri": "https://localhost:8080/"
        },
        "id": "l4n7ONES4Czn",
        "outputId": "5e3c777c-4659-412e-b6d2-2d70f8e1f191"
      },
      "execution_count": 83,
      "outputs": [
        {
          "output_type": "stream",
          "name": "stdout",
          "text": [
            "테스트 데이터 오차행렬:\n",
            " [[1309  554  369]\n",
            " [ 730  882  158]\n",
            " [ 696  272  551]]\n"
          ]
        }
      ]
    }
  ]
}